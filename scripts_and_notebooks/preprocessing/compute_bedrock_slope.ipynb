{
 "cells": [
  {
   "cell_type": "code",
   "execution_count": null,
   "id": "032743bc-0a46-41dd-8cf7-c759078fca93",
   "metadata": {},
   "outputs": [],
   "source": [
    "\"\"\"\n",
    "Created on Wed Jun 09 14:36 2021\n",
    "\n",
    "Prepare bedrock slope for use in the neural network\n",
    "\n",
    "Author: @claraburgard\n",
    "\n",
    "\"\"\""
   ]
  },
  {
   "cell_type": "code",
   "execution_count": null,
   "id": "06e1756e-ce85-408f-803d-48b24131e259",
   "metadata": {},
   "outputs": [],
   "source": [
    "import numpy as np\n",
    "import xarray as xr\n",
    "from tqdm.notebook import trange, tqdm\n",
    "import nn_functions.data_formatting as dfmt\n"
   ]
  },
  {
   "cell_type": "markdown",
   "id": "59f4293a-422c-4d9e-a0ee-3c5499179b79",
   "metadata": {},
   "source": [
    "READ IN DATA"
   ]
  },
  {
   "cell_type": "code",
   "execution_count": null,
   "id": "5b79e103-f4c9-4e4c-977b-2e90fbede60c",
   "metadata": {},
   "outputs": [],
   "source": [
    "nemo_run = 'OPM006'\n",
    "inputpath_data='/bettik/burgardc/SCRIPTS/basal_melt_param/data/interim/NEMO_eORCA025.L121_'+nemo_run+'_ANT_STEREO/'\n",
    "inputpath_mask = '/bettik/burgardc/SCRIPTS/basal_melt_param/data/interim/ANTARCTICA_IS_MASKS/nemo_5km_'+nemo_run+'/'"
   ]
  },
  {
   "cell_type": "code",
   "execution_count": null,
   "id": "06ccfa9e-a01f-4266-b96d-b1a928f3909b",
   "metadata": {},
   "outputs": [],
   "source": [
    "file_isf_orig = xr.open_dataset(inputpath_mask+'nemo_5km_isf_masks_and_info_and_distance_new_oneFRIS.nc')\n",
    "nonnan_Nisf = file_isf_orig['Nisf'].where(np.isfinite(file_isf_orig['front_bot_depth_max']), drop=True).astype(int)\n",
    "file_isf_nonnan = file_isf_orig.sel(Nisf=nonnan_Nisf)\n",
    "large_isf = file_isf_nonnan['Nisf'].where(file_isf_nonnan['isf_area_here'] >= 2500, drop=True)\n",
    "file_isf = file_isf_nonnan.sel(Nisf=large_isf)"
   ]
  },
  {
   "cell_type": "code",
   "execution_count": null,
   "id": "b51862f3-81ca-4847-8e4a-9a1c38ed2992",
   "metadata": {},
   "outputs": [],
   "source": [
    "map_lim = [-3000000,3000000]\n",
    "file_mask_orig = xr.open_dataset(inputpath_data+'other_mask_vars_Ant_stereo.nc')\n",
    "file_mask_orig_cut = dfmt.cut_domain_stereo(file_mask_orig, map_lim, map_lim)\n",
    "file_other = xr.open_dataset(inputpath_data+'corrected_draft_bathy_isf.nc')#, chunks={'x': chunk_size, 'y': chunk_size})\n",
    "file_other_cut = dfmt.cut_domain_stereo(file_other, map_lim, map_lim)\n",
    "file_conc = xr.open_dataset(inputpath_data+'isfdraft_conc_Ant_stereo.nc')\n",
    "file_conc_cut = dfmt.cut_domain_stereo(file_conc, map_lim, map_lim)"
   ]
  },
  {
   "cell_type": "code",
   "execution_count": null,
   "id": "def40da3-5979-4e61-967d-6d9bc5615dc1",
   "metadata": {},
   "outputs": [],
   "source": [
    "file_bed_corr = file_other_cut['corrected_isf_bathy']\n",
    "file_bed_orig = file_mask_orig_cut['bathy_metry']\n",
    "file_draft = file_other_cut['corrected_isfdraft'] \n",
    "file_isf_conc = file_conc_cut['isfdraft_conc']\n",
    "file_bed_goodGL = file_bed_orig.where(file_draft < file_bed_orig,file_bed_corr)\n"
   ]
  },
  {
   "cell_type": "code",
   "execution_count": null,
   "id": "70b4157f-b394-4684-86cc-25c254340cd1",
   "metadata": {},
   "outputs": [],
   "source": [
    "bb_merid_slope = None\n",
    "bb_zonal_slope = None\n",
    "\n",
    "ice_merid_slope = None\n",
    "ice_zonal_slope = None\n",
    "\n",
    "dx = file_isf.x[2] - file_isf.x[1]\n",
    "dy = file_isf.y[2] - file_isf.y[1]\n",
    "\n",
    "isf_area_map = file_isf['ISF_mask'].where(file_isf['ISF_mask']>1).copy()\n",
    "entry_depth_map = file_isf['ISF_mask'].where(file_isf['ISF_mask']>1).copy()\n",
    "\n",
    "for kisf in tqdm(file_isf.Nisf):\n",
    "    #print(kisf.values)\n",
    "    bb_lonslope, bb_latslope = dfmt.slope_zonal_merid(kisf, file_isf, -1*file_bed_goodGL, dx, dy)\n",
    "    #print('here1')\n",
    "    ice_lonslope, ice_latslope = dfmt.slope_zonal_merid(kisf, file_isf, -1*file_draft, dx, dy)\n",
    "    #print('here2')\n",
    "    if bb_merid_slope is None:\n",
    "        bb_merid_slope = bb_lonslope\n",
    "        bb_zonal_slope = bb_latslope\n",
    "        ice_merid_slope = ice_lonslope\n",
    "        ice_zonal_slope = ice_latslope\n",
    "    else:\n",
    "        bb_merid_slope = bb_merid_slope.combine_first(bb_lonslope)\n",
    "        bb_zonal_slope = bb_zonal_slope.combine_first(bb_latslope)\n",
    "        ice_merid_slope = ice_merid_slope.combine_first(ice_lonslope)\n",
    "        ice_zonal_slope = ice_zonal_slope.combine_first(ice_latslope)\n",
    "     \n",
    "    #print('here3')\n",
    "    isf_area_map = isf_area_map.where(file_isf['ISF_mask']!=kisf, file_isf['isf_area_here'].sel(Nisf=kisf).drop('Nisf'))\n",
    "    #print('here4')\n",
    "    entry_depth_map = entry_depth_map.where(file_isf['ISF_mask']!=kisf, file_isf['front_bot_depth_max'].sel(Nisf=kisf).drop('Nisf'))\n",
    "    #print('here5')\n",
    "        \n",
    "bb_merid_slope_smooth = bb_merid_slope.reindex_like(file_isf)\n",
    "bb_zonal_slope_smooth = bb_zonal_slope.reindex_like(file_isf)\n",
    "ice_merid_slope_smooth = ice_merid_slope.reindex_like(file_isf)\n",
    "ice_zonal_slope_smooth = ice_zonal_slope.reindex_like(file_isf)\n",
    "\n",
    "\n",
    "dataset_res_merid_bed = bb_merid_slope_smooth.to_dataset(name='slope_bed_lon')\n",
    "dataset_res_zonal_bed = bb_zonal_slope_smooth.to_dataset(name='slope_bed_lat')\n",
    "dataset_res_merid_ice = ice_merid_slope_smooth.to_dataset(name='slope_ice_lon')\n",
    "dataset_res_zonal_ice = ice_zonal_slope_smooth.to_dataset(name='slope_ice_lat')\n",
    "\n",
    "\n",
    "dataset_res = xr.merge([dataset_res_merid_bed,dataset_res_zonal_bed,dataset_res_merid_ice,dataset_res_zonal_ice,\n",
    "                       isf_area_map.to_dataset(name='isf_area'),\n",
    "                       entry_depth_map.to_dataset(name='entry_depth_max')])\n",
    "dataset_res.to_netcdf(inputpath_mask+'nemo_5km_slope_info_bedrock_draft_latlon_oneFRIS.nc','w')"
   ]
  }
 ],
 "metadata": {
  "kernelspec": {
   "display_name": "neuralnet",
   "language": "python",
   "name": "neuralnet"
  },
  "language_info": {
   "codemirror_mode": {
    "name": "ipython",
    "version": 3
   },
   "file_extension": ".py",
   "mimetype": "text/x-python",
   "name": "python",
   "nbconvert_exporter": "python",
   "pygments_lexer": "ipython3",
   "version": "3.9.16"
  }
 },
 "nbformat": 4,
 "nbformat_minor": 5
}
