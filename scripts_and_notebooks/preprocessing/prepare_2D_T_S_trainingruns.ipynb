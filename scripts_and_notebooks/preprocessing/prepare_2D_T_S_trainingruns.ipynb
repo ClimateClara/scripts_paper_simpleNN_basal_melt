{
 "cells": [
  {
   "cell_type": "code",
   "execution_count": null,
   "id": "hindu-cleaning",
   "metadata": {},
   "outputs": [],
   "source": [
    "\"\"\"\n",
    "Created on Fri Jul 09 09:39 2021\n",
    "\n",
    "This script is to transform the mean profiles to 2D fields to accelerate the tuning process\n",
    "\n",
    "@author: Clara Burgard\n",
    "\"\"\""
   ]
  },
  {
   "cell_type": "code",
   "execution_count": null,
   "id": "green-stopping",
   "metadata": {},
   "outputs": [],
   "source": [
    "import xarray as xr\n",
    "import numpy as np\n",
    "import pandas as pd\n",
    "from tqdm.notebook import tqdm\n",
    "import matplotlib.pyplot as plt\n",
    "import basal_melt_param.useful_functions as uf\n",
    "import basal_melt_param.melt_functions as meltf\n",
    "from basal_melt_param.constants import *\n",
    "import basal_melt_param.T_S_profile_functions as tspf\n",
    "from scipy import stats\n",
    "from dask import delayed\n",
    "\n",
    "import distributed\n",
    "import glob"
   ]
  },
  {
   "cell_type": "code",
   "execution_count": null,
   "id": "residential-beast",
   "metadata": {},
   "outputs": [],
   "source": [
    "%matplotlib qt5"
   ]
  },
  {
   "cell_type": "code",
   "execution_count": null,
   "id": "threaded-understanding",
   "metadata": {},
   "outputs": [],
   "source": [
    "client = distributed.Client(n_workers=16,dashboard_address=':8795', local_directory='/tmp', memory_limit='6GB')"
   ]
  },
  {
   "cell_type": "code",
   "execution_count": null,
   "id": "composite-elephant",
   "metadata": {},
   "outputs": [],
   "source": [
    "client"
   ]
  },
  {
   "cell_type": "markdown",
   "id": "incomplete-bookmark",
   "metadata": {},
   "source": [
    "READ IN DATA"
   ]
  },
  {
   "cell_type": "code",
   "execution_count": null,
   "id": "1c87efda-2933-4a07-aff3-8410aba39919",
   "metadata": {},
   "outputs": [],
   "source": [
    "nemo_run = 'OPM006'"
   ]
  },
  {
   "cell_type": "code",
   "execution_count": null,
   "id": "frequent-asian",
   "metadata": {},
   "outputs": [],
   "source": [
    "inputpath_data='/bettik/burgardc/SCRIPTS/basal_melt_param/data/interim/NEMO_eORCA025.L121_'+nemo_run+'_ANT_STEREO/'\n",
    "inputpath_mask = '/bettik/burgardc/SCRIPTS/basal_melt_param/data/interim/ANTARCTICA_IS_MASKS/nemo_5km_'+nemo_run+'/'\n",
    "inputpath_profiles = '/bettik/burgardc/SCRIPTS/basal_melt_param/data/interim/T_S_PROF/nemo_5km_'+nemo_run+'/'\n",
    "outputpath_simple = '/bettik/burgardc/SCRIPTS/basal_melt_param/data/interim/SIMPLE/nemo_5km_'+nemo_run+'/'\n",
    "inputpath_plumes = '/bettik/burgardc/SCRIPTS/basal_melt_param/data/interim/PLUMES/nemo_5km_'+nemo_run+'/'\n",
    "outputpath = '/bettik/burgardc/SCRIPTS/basal_melt_param/data/interim/'\n",
    "plot_path = '/bettik/burgardc/PLOTS/first-look/'"
   ]
  },
  {
   "cell_type": "code",
   "execution_count": null,
   "id": "veterinary-beads",
   "metadata": {},
   "outputs": [],
   "source": [
    "# make the domain a little smaller to make the computation even more efficient - file isf has already been made smaller at its creation\n",
    "map_lim = [-3000000,3000000]\n",
    "\n",
    "chunk_size = 300"
   ]
  },
  {
   "cell_type": "markdown",
   "id": "macro-cookie",
   "metadata": {},
   "source": [
    "Files for param"
   ]
  },
  {
   "cell_type": "code",
   "execution_count": null,
   "id": "forty-screening",
   "metadata": {},
   "outputs": [],
   "source": [
    "file_other = xr.open_mfdataset(inputpath_data+'corrected_draft_bathy_isf.nc')\n",
    "file_other_cut = uf.cut_domain_stereo(file_other, map_lim, map_lim).chunk(chunks={'x': chunk_size, 'y': chunk_size})\n",
    "file_conc = xr.open_mfdataset(inputpath_data+'isfdraft_conc_Ant_stereo.nc')\n",
    "file_conc_cut = uf.cut_domain_stereo(file_conc, map_lim, map_lim).chunk(chunks={'x': chunk_size, 'y': chunk_size})\n",
    "file_isf_conc = file_conc_cut['isfdraft_conc']\n"
   ]
  },
  {
   "cell_type": "code",
   "execution_count": null,
   "id": "romantic-turkey",
   "metadata": {},
   "outputs": [],
   "source": [
    "file_isf_orig = xr.open_mfdataset(inputpath_mask+'nemo_5km_isf_masks_and_info_and_distance_new_oneFRIS.nc')\n",
    "nonnan_Nisf = file_isf_orig['Nisf'].where(np.isfinite(file_isf_orig['front_bot_depth_max']), drop=True).astype(int)\n",
    "file_isf_nonnan = file_isf_orig.sel(Nisf=nonnan_Nisf)\n",
    "large_isf = file_isf_nonnan['Nisf'].where(file_isf_nonnan['isf_area_here'] >= 2500, drop=True)\n",
    "file_isf = file_isf_nonnan.sel(Nisf=large_isf).chunk(chunks={'x': chunk_size, 'y': chunk_size})\n",
    "\n",
    "\n",
    "file_TS_orig = xr.open_mfdataset(inputpath_profiles+'T_S_mean_prof_corrected_km_contshelf_and_offshore_1980-2018_oneFRIS.nc', chunks={'Nisf': 1, 'time': 5})\n",
    "file_TS = file_TS_orig.sel(Nisf=large_isf)"
   ]
  },
  {
   "cell_type": "code",
   "execution_count": null,
   "id": "legal-beads",
   "metadata": {},
   "outputs": [],
   "source": [
    "param_var_of_int = file_isf[['ISF_mask', 'latitude', 'longitude', 'front_bot_depth_max']]\n",
    "plume_charac = xr.open_mfdataset(inputpath_plumes+'nemo_5km_plume_characteristics_oneFRIS.nc', chunks={'x': chunk_size, 'y': chunk_size})"
   ]
  },
  {
   "cell_type": "code",
   "execution_count": null,
   "id": "considered-shanghai",
   "metadata": {},
   "outputs": [],
   "source": [
    "ice_draft_pos = file_other_cut['corrected_isfdraft']\n",
    "ice_draft_neg = -ice_draft_pos"
   ]
  },
  {
   "cell_type": "code",
   "execution_count": null,
   "id": "phantom-delaware",
   "metadata": {},
   "outputs": [],
   "source": [
    "file_TS"
   ]
  },
  {
   "cell_type": "markdown",
   "id": "indian-trade",
   "metadata": {},
   "source": [
    "First 2D fields of thermal forcing"
   ]
  },
  {
   "cell_type": "code",
   "execution_count": null,
   "id": "functional-isolation",
   "metadata": {},
   "outputs": [],
   "source": [
    "ice_draft_isf = ice_draft_pos.where(param_var_of_int['ISF_mask'] == file_isf.Nisf).chunk(chunks={'Nisf': 1})\n"
   ]
  },
  {
   "cell_type": "code",
   "execution_count": null,
   "id": "5e67613b-6826-4751-aded-e2ce35b6edd5",
   "metadata": {},
   "outputs": [],
   "source": [
    "filled_TS"
   ]
  },
  {
   "cell_type": "code",
   "execution_count": null,
   "id": "20775ddc-be59-4031-937c-cca71b16a53b",
   "metadata": {},
   "outputs": [],
   "source": [
    "filled_TS = file_TS.ffill(dim='depth').chunk({'time': 5}) #, 'profile_domain': 1})\n",
    "\n",
    "\n",
    "for ref in ['isf_draft']:#,'bottom_front']:\n",
    "    \n",
    "    print(ref)\n",
    "    # DOES NOT WORK YET\n",
    "    if ref == 'bottom_front':\n",
    "        # Entering temperature and salinity profiles\n",
    "        n = 0\n",
    "        for kisf in file_isf.Nisf:\n",
    "            depth_of_int_kisf = param_var_of_int['front_bot_depth_max'].sel(Nisf=kisf).where(file_isf['ISF_mask']==kisf)\n",
    "            if n == 0:\n",
    "                depth_of_int = depth_of_int_kisf.squeeze().drop('Nisf')\n",
    "            else:\n",
    "                depth_of_int = depth_of_int.combine_first(depth_of_int_kisf).squeeze().drop('Nisf')\n",
    "            n = n+1\n",
    "            \n",
    "    elif ref == 'isf_draft':\n",
    "        # ice draft depth or deepest entrance depth\n",
    "        depth_of_int = ice_draft_isf.where(ice_draft_isf<param_var_of_int['front_bot_depth_max'], \n",
    "                                           param_var_of_int['front_bot_depth_max']).chunk(chunks={'Nisf':1})\n",
    "        depth_of_int = depth_of_int.where(file_isf['ISF_mask'] == file_isf.Nisf, 0).chunk({'Nisf': 1})\n",
    "        #depth_of_int = depth_of_int.where(file_isf['ISF_mask'] > 1).sum('Nisf')\n",
    "        #depth_of_int = depth_of_int.where(depth_of_int>0)\n",
    "        \n",
    "    elif ref == 'GL_depth_cavity':\n",
    "        # deepest GL point\n",
    "        depth_of_int = -1*plume_charac['zGL'].sel(option='simple').where(file_isf['ISF_mask']==file_isf.Nisf,0).chunk({'Nisf': 1})\n",
    "        #depth_of_int = depth_of_int.where(depth_of_int>0)\n",
    "    elif ref == 'GL_depth_lazero':\n",
    "        # depth from Lazero\n",
    "        depth_of_int = -1*plume_charac['zGL'].sel(option='lazero').where(file_isf['ISF_mask']==file_isf.Nisf,0).chunk({'Nisf': 1})\n",
    "        #depth_of_int = depth_of_int.where(depth_of_int>0)\n",
    "        \n",
    "    print('here1')\n",
    "    T_isf = filled_TS['theta_ocean'].interp({'depth': depth_of_int}).drop('depth')\n",
    "    T_isf = T_isf.where(file_isf['ISF_mask']==file_isf.Nisf).sum('Nisf')#.where(depth_of_int>0)\n",
    "    T_isf = T_isf.to_dataset(name='theta_in')\n",
    "    print('here2')\n",
    "    T_isf['salinity_in'] = filled_TS['salinity_ocean'].interp({'depth': depth_of_int}).drop('depth')\n",
    "    T_isf['salinity_in'] = T_isf['salinity_in'].where(file_isf['ISF_mask']==file_isf.Nisf).sum('Nisf')#.where(depth_of_int>0)\n",
    "    print('here3')\n",
    "    depth_of_int = depth_of_int.where(file_isf['ISF_mask'] > 1).sum('Nisf')\n",
    "    depth_of_int = depth_of_int.where(depth_of_int>0)\n",
    "    T_isf['freezing_T'] = meltf.freezing_temperature(T_isf['salinity_in'], -1*depth_of_int)\n",
    "    print('here4')\n",
    "    T_isf['thermal_forcing'] = T_isf['theta_in'] - T_isf['freezing_T']\n",
    "    T_isf['depth_of_int'] = depth_of_int\n",
    "    \n",
    "    # project it on 2D\n",
    "    #T_isf = T_isf.sum('Nisf')\n",
    "    T_isf.to_netcdf(inputpath_profiles+'T_S_2D_fields_'+ref+'_oneFRIS.nc','w')\n",
    "    del T_isf\n",
    "    del depth_of_int"
   ]
  }
 ],
 "metadata": {
  "kernelspec": {
   "display_name": "py38",
   "language": "python",
   "name": "py38"
  },
  "language_info": {
   "codemirror_mode": {
    "name": "ipython",
    "version": 3
   },
   "file_extension": ".py",
   "mimetype": "text/x-python",
   "name": "python",
   "nbconvert_exporter": "python",
   "pygments_lexer": "ipython3",
   "version": "3.8.12"
  }
 },
 "nbformat": 4,
 "nbformat_minor": 5
}
