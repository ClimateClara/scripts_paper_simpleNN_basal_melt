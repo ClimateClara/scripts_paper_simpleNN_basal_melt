{
 "cells": [
  {
   "cell_type": "code",
   "execution_count": null,
   "id": "41fd4a90-1fd7-4207-813c-e00158cdc0bb",
   "metadata": {},
   "outputs": [],
   "source": [
    "\"\"\"\n",
    "Prepare cav mean and cav std\n",
    "\n",
    "\"\"\""
   ]
  },
  {
   "cell_type": "code",
   "execution_count": null,
   "id": "7d76886d-474c-43be-b0c7-4a5c2cbbc9b5",
   "metadata": {},
   "outputs": [],
   "source": [
    "import xarray as xr\n",
    "import multimelt.useful_functions as uf\n",
    "from tqdm.notebook import tqdm"
   ]
  },
  {
   "cell_type": "markdown",
   "id": "250c17ec-1eb0-4a3d-9892-856ebacf24cc",
   "metadata": {},
   "source": [
    "READ IN DATA"
   ]
  },
  {
   "cell_type": "code",
   "execution_count": null,
   "id": "dd0f33f1-3ec8-4146-9292-1a9719efbc69",
   "metadata": {},
   "outputs": [],
   "source": [
    "nemo_run = 'bf663' #'bi646'"
   ]
  },
  {
   "cell_type": "code",
   "execution_count": null,
   "id": "a054dec9-5878-4247-9ade-2133713fd901",
   "metadata": {},
   "outputs": [],
   "source": [
    "inputpath_profiles='/bettik/burgardc/DATA/NN_PARAM/interim/T_S_PROF/SMITH_'+nemo_run+'/'\n",
    "inputpath_mask='/bettik/burgardc/DATA/NN_PARAM/interim/ANTARCTICA_IS_MASKS/SMITH_'+nemo_run+'/'\n"
   ]
  },
  {
   "cell_type": "code",
   "execution_count": null,
   "id": "99e4ac51-c268-4b52-b8ec-e7ae22289c44",
   "metadata": {},
   "outputs": [],
   "source": [
    "for tt in tqdm(range(1970, 1970 + 72)): #continue at 1978\n",
    "\n",
    "    # T and S extrapolated to ice draft depth\n",
    "    T_S_2D_isfdraft = xr.open_dataset(inputpath_profiles+'T_S_2D_fields_isf_draft_oneFRIS_'+str(tt)+'.nc').squeeze().drop('time')\n",
    "\n",
    "    # dIF, dGL\n",
    "    file_isf_orig = xr.open_dataset(inputpath_mask+'nemo_5km_isf_masks_and_info_and_distance_oneFRIS_'+str(tt)+'.nc').drop('time')\n",
    "    nonnan_Nisf = file_isf_orig['Nisf'].where(np.isfinite(file_isf_orig['front_bot_depth_max']), drop=True).astype(int)\n",
    "    file_isf_nonnan = file_isf_orig.sel(Nisf=nonnan_Nisf)\n",
    "    large_isf = file_isf_nonnan['Nisf'].where(file_isf_nonnan['isf_area_here'] >= 2500, drop=True)\n",
    "    file_isf = file_isf_nonnan.sel(Nisf=large_isf)\n",
    "    \n",
    "    isf_stack_mask = uf.create_stacked_mask(file_isf['ISF_mask'], file_isf.Nisf, ['y','x'], 'mask_coord')\n",
    "    \n",
    "    n = 0\n",
    "    for kisf in file_isf.Nisf:\n",
    "        #conc_isf = uf.choose_isf(file_conc_cut['isfdraft_conc'],isf_stack_mask, kisf)\n",
    "        T_isf = uf.choose_isf(T_S_2D_isfdraft['theta_in'],isf_stack_mask, kisf)\n",
    "        S_isf = uf.choose_isf(T_S_2D_isfdraft['salinity_in'],isf_stack_mask, kisf)\n",
    "\n",
    "        T_mean_cav = T_isf.mean('mask_coord').to_dataset(name='T_mean')\n",
    "        S_mean_cav = S_isf.mean('mask_coord').to_dataset(name='S_mean')\n",
    "        T_std_cav = T_isf.std('mask_coord').to_dataset(name='T_std')\n",
    "        S_std_cav = S_isf.std('mask_coord').to_dataset(name='S_std')\n",
    "\n",
    "        all_TS_isf = xr.merge([T_mean_cav,S_mean_cav,T_std_cav,S_std_cav])\n",
    "        all_TS_isf_2D = all_TS_isf.where(T_isf).load()\n",
    "\n",
    "        if n == 0:\n",
    "            all_TS_all = all_TS_isf_2D.squeeze().drop('Nisf')\n",
    "        else:\n",
    "             all_TS_all =  all_TS_all.combine_first(all_TS_isf_2D).squeeze().drop('Nisf')\n",
    "        n = n+1\n",
    "\n",
    "        del all_TS_isf_2D\n",
    "\n",
    "    all_TS_all_unstacked = uf.bring_back_to_2D(all_TS_all)\n",
    "    \n",
    "    all_TS_all_unstacked.to_netcdf(inputpath_profiles + 'T_S_2D_meanstd_isf_draft_oneFRIS_'+str(tt)+'.nc')"
   ]
  },
  {
   "cell_type": "code",
   "execution_count": null,
   "id": "7249a514-2129-4b5c-90e2-920ece24e263",
   "metadata": {},
   "outputs": [],
   "source": []
  }
 ],
 "metadata": {
  "kernelspec": {
   "display_name": "py38",
   "language": "python",
   "name": "py38"
  },
  "language_info": {
   "codemirror_mode": {
    "name": "ipython",
    "version": 3
   },
   "file_extension": ".py",
   "mimetype": "text/x-python",
   "name": "python",
   "nbconvert_exporter": "python",
   "pygments_lexer": "ipython3",
   "version": "3.8.12"
  }
 },
 "nbformat": 4,
 "nbformat_minor": 5
}
