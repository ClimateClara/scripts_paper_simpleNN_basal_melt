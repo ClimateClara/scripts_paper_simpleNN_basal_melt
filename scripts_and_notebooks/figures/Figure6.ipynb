{
 "cells": [
  {
   "cell_type": "code",
   "execution_count": null,
   "id": "f37ce8d2-9567-43c9-b52c-61fbff266e0f",
   "metadata": {},
   "outputs": [],
   "source": [
    "\"\"\"\n",
    "Created on Thu Oct 12 10:17 2023\n",
    "\n",
    "Look at patterns when shuffling variables => FIGURE 6\n",
    "\n",
    "Author: @claraburgard\n",
    "\n",
    "\"\"\""
   ]
  },
  {
   "cell_type": "code",
   "execution_count": null,
   "id": "e7f61d18-f356-4038-a4e3-af4441cc59e2",
   "metadata": {},
   "outputs": [],
   "source": [
    "import xarray as xr\n",
    "import numpy as np\n",
    "import pandas as pd\n",
    "from tqdm.notebook import tqdm\n",
    "import matplotlib.pyplot as plt\n",
    "import seaborn as sns\n",
    "import matplotlib as mpl\n",
    "from matplotlib import cm\n"
   ]
  },
  {
   "cell_type": "code",
   "execution_count": null,
   "id": "131c7346-92a3-4246-9f3b-6eef937835c0",
   "metadata": {},
   "outputs": [],
   "source": [
    "%matplotlib qt5"
   ]
  },
  {
   "cell_type": "markdown",
   "id": "6fe59fa0-b9c8-497f-b89f-21a5a619d4b5",
   "metadata": {},
   "source": [
    "FUNCTIONS"
   ]
  },
  {
   "cell_type": "code",
   "execution_count": null,
   "id": "f92db626-4ed8-4b8e-9499-99699b6013f5",
   "metadata": {},
   "outputs": [],
   "source": [
    "def defcolorpalette(ncolors, cmap = 'Accent'):\n",
    "    colmap = cm.get_cmap(cmap)\n",
    "    palette = [None]*ncolors\n",
    "    for i in range(ncolors):\n",
    "        palette[i] = colmap(float(i)/(ncolors-1.))\n",
    "    return palette\n",
    "number_of_colors = 6\n",
    "palette = defcolorpalette(number_of_colors)\n",
    "def show_color_palette(palette):\n",
    "    plt.figure()\n",
    "    plt.hist(np.ones((1, number_of_colors)), color = palette)\n",
    "    plt.xlim([1., 1.1])\n",
    "    plt.gca().xaxis.set_visible(False)\n",
    "    plt.gca().yaxis.set_visible(False)\n",
    "show_color_palette(palette)\n",
    "new_palette = [palette[0],palette[3],palette[4],palette[1],palette[2],palette[5]]\n",
    "show_color_palette(new_palette)"
   ]
  },
  {
   "cell_type": "markdown",
   "id": "0e0d2fb9-e1f4-478b-a534-91a224116aee",
   "metadata": {},
   "source": [
    "READ IN DATA"
   ]
  },
  {
   "cell_type": "code",
   "execution_count": null,
   "id": "0be7b1d3-10b6-4299-97b1-830cd4573cb4",
   "metadata": {},
   "outputs": [],
   "source": [
    "nemo_run =  'bf663' #'bi646'\n",
    "TS_opt = 'extrap' #'extrap_shuffboth' # extrap, whole, thermocline\n",
    "norm_method =  'std' # std, interquart, minmax\n",
    "exp_name = 'newbasic2'#'onlyTSdraftandslope' #'onlyTSdraftandslope' #'TSdraftbotandiceddandwcd' #'onlyTSisfdraft' #'TSdraftbotandiceddandwcdreldGL' #TSdraftslopereldGL\n",
    "mod_size = 'small'"
   ]
  },
  {
   "cell_type": "code",
   "execution_count": null,
   "id": "02127659-07be-4511-b91b-a045f6dee57b",
   "metadata": {},
   "outputs": [],
   "source": [
    "home_path = '/bettik/burgardc/'\n",
    "plot_path = '/bettik/burgardc/PLOTS/NN_plots/input_vars/'\n"
   ]
  },
  {
   "cell_type": "code",
   "execution_count": null,
   "id": "eb1c4548-1055-44be-9385-eb127f479870",
   "metadata": {},
   "outputs": [],
   "source": [
    "var_list = ['dGL','dIF','corrected_isfdraft','bathy_metry','slope_bed_lon','slope_bed_lat','slope_ice_lon','slope_ice_lat',\n",
    "                'theta_in','salinity_in','T_mean', 'S_mean', 'T_std', 'S_std','position','watercolumn','slopesbed','slopesice','Tinfo','Sinfo']"
   ]
  },
  {
   "cell_type": "code",
   "execution_count": null,
   "id": "d6f7c2f8-fa4d-47ef-b6c8-c205ccfd792f",
   "metadata": {},
   "outputs": [],
   "source": [
    "merged_var_list = []\n",
    "\n",
    "ground_list = []\n",
    "icesheet_list = []\n",
    "box1_list = []\n",
    "isf_mask_list = []\n",
    "melt_list = []\n",
    "melt_ref_list = []\n",
    "melt_predic_list = []\n",
    "\n",
    "inputpath_mask = '/bettik/burgardc/DATA/NN_PARAM/interim/ANTARCTICA_IS_MASKS/SMITH_'+nemo_run+'/'\n",
    "inputpath_colorbar = '/bettik/burgardc/SCRIPTS/basal_melt_param/data/raw/MASK_METADATA/'\n",
    "outputpath_melt = '/bettik/burgardc/DATA/NN_PARAM/interim/MELT_RATE/SMITH_'+nemo_run+'/'\n",
    "plot_path = '/bettik/burgardc/PLOTS/NN_plots/2D_patterns/'\n",
    "inputpath_boxes = '/bettik/burgardc/DATA/NN_PARAM/interim/BOXES/SMITH_'+nemo_run+'/'\n",
    "outputpath_melt_nn = '/bettik/burgardc/DATA/NN_PARAM/processed/MELT_RATE/SMITH_'+nemo_run+'/'\n",
    "outputpath_melt_classic = '/bettik/burgardc/DATA/NN_PARAM/processed/MELT_RATE/SMITH_'+nemo_run+'_CLASSIC/'\n",
    "\n",
    "for yy in tqdm(range(1980, 1980 + 60)):\n",
    "\n",
    "    file_isf_orig = xr.open_dataset(inputpath_mask+'nemo_5km_isf_masks_and_info_and_distance_oneFRIS_'+str(yy)+'.nc')\n",
    "    nonnan_Nisf = file_isf_orig['Nisf'].where(np.isfinite(file_isf_orig['front_bot_depth_max']), drop=True).astype(int)\n",
    "    file_isf_nonnan = file_isf_orig.sel(Nisf=nonnan_Nisf)\n",
    "    large_isf = file_isf_nonnan['Nisf'].where(file_isf_nonnan['isf_area_here'] >= 2500, drop=True)\n",
    "    file_isf = file_isf_nonnan.sel(Nisf=large_isf)\n",
    "    file_isf_mask = file_isf['ISF_mask'].where(file_isf['ISF_mask']==file_isf.Nisf).sum('Nisf')\n",
    "    isf_mask_list.append(file_isf_mask)\n",
    "\n",
    "    grounded_msk03 = file_isf['ground_mask'].where(file_isf['ground_mask']==0,3)\n",
    "    grounded_msk = (grounded_msk03.where(grounded_msk03!=3,1)-1)*-1\n",
    "    ground_list.append(grounded_msk)\n",
    "\n",
    "    icesheet_msk_0inf = file_isf_mask.where(file_isf_mask!=1,0)\n",
    "    icesheet_msk = icesheet_msk_0inf.where(icesheet_msk_0inf < 1, 1)\n",
    "    icesheet_list.append(icesheet_msk)\n",
    "\n",
    "    box_charac_all_2D = xr.open_dataset(inputpath_boxes + 'nemo_5km_boxes_2D_oneFRIS_'+str(yy)+'_merged75.nc')\n",
    "    box_charac_all_1D = xr.open_dataset(inputpath_boxes + 'nemo_5km_boxes_1D_oneFRIS_'+str(yy)+'_merged75.nc')\n",
    "\n",
    "    box_loc_config2 = box_charac_all_2D['box_location'].sel(box_nb_tot=box_charac_all_1D['nD_config'].sel(config=2))\n",
    "    box1 = box_loc_config2.where(box_loc_config2==1).isel(Nisf=1).drop('Nisf')\n",
    "    box1_msk = box1.where(box1==1,0)\n",
    "    box1_list.append(box1_msk)\n",
    "\n",
    "    melt_ref_2D = xr.open_dataset(outputpath_melt_nn + 'evalmetrics_2D_'+mod_size+'_'+exp_name+'_ensmean_extrap_norm'+norm_method+'_'+str(yy)+'_'+nemo_run+'.nc')\n",
    "    melt_ref_list.append(melt_ref_2D['reference_melt'])\n",
    "    melt_predic_2D = xr.open_dataset(outputpath_melt_nn + 'evalmetrics_2D_'+mod_size+'_'+exp_name+'_ensmean_extrap_norm'+norm_method+'_'+str(yy)+'_'+nemo_run+'.nc')\n",
    "    melt_predic_list.append(melt_ref_2D['predicted_melt'])\n",
    "    \n",
    "    melt_yy_list = []\n",
    "    for vv in var_list:\n",
    "        pattern_2D_vv = xr.open_dataset(outputpath_melt_nn + 'evalmetrics_shuffled'+vv+'_2D_'+mod_size+'_'+exp_name+'_ensmean_'+TS_opt+'_norm'+norm_method+'_'+str(yy)+'_'+nemo_run+'.nc')\n",
    "        melt_yy_list.append(pattern_2D_vv['predicted_melt'].to_dataset().assign_coords({'shuff_var': vv}))\n",
    "\n",
    "    melt_yy_all = xr.concat(melt_yy_list, dim='shuff_var')\n",
    "    melt_list.append(melt_yy_all.chunk({'shuff_var':5}))\n",
    "\n",
    "ground_msk_all = xr.concat(ground_list, dim='time').sel(time=1980+55).assign_coords({'nemo_run': nemo_run})\n",
    "icesheet_msk_all = xr.concat(icesheet_list, dim='time').sel(time=1980+55).assign_coords({'nemo_run': nemo_run})\n",
    "box1_msk_all = xr.concat(box1_list, dim='time').sel(time=1980+55).assign_coords({'nemo_run': nemo_run})\n",
    "isf_mask_all = xr.concat(isf_mask_list, dim='time').sel(time=1980+55).assign_coords({'nemo_run': nemo_run})"
   ]
  },
  {
   "cell_type": "code",
   "execution_count": null,
   "id": "6f0d73a1-aba6-4d08-b42e-33f613b9ceaf",
   "metadata": {},
   "outputs": [],
   "source": [
    "melt2D_all = xr.concat(melt_list, dim='time').mean('time').assign_coords({'nemo_run': nemo_run})"
   ]
  },
  {
   "cell_type": "markdown",
   "id": "78a51d39-37c0-433b-aa48-28fcbdae1f67",
   "metadata": {},
   "source": [
    "average over time"
   ]
  },
  {
   "cell_type": "code",
   "execution_count": null,
   "id": "36ec89d3-4c5e-40f3-b7f2-6baf7ee8d65d",
   "metadata": {},
   "outputs": [],
   "source": [
    "melt_ref_all = xr.concat(melt_ref_list, dim='time').mean('time').assign_coords({'nemo_run': nemo_run})\n",
    "melt_predic_all = xr.concat(melt_predic_list, dim='time').mean('time').assign_coords({'nemo_run': nemo_run})\n",
    "\n",
    "merged_vars = xr.merge([ground_msk_all, icesheet_msk_all.rename('ice_mask'), box1_msk_all.rename('box1_mask'), isf_mask_all, melt2D_all])\n",
    "merged_var_list.append(merged_vars)\n",
    "\n",
    "var_of_int = xr.concat(merged_var_list, dim='nemo_run')"
   ]
  },
  {
   "cell_type": "markdown",
   "id": "5a8ac66b-c0b9-4e97-9f4a-34842fb91828",
   "metadata": {},
   "source": [
    "COMPUTE MEAN ABSOLUTE ERROR BETWEEN PERMUTED AND ORIGINAL"
   ]
  },
  {
   "cell_type": "code",
   "execution_count": null,
   "id": "8487f22d-202b-43f0-b0af-92379a0dc0ed",
   "metadata": {},
   "outputs": [],
   "source": [
    "diff_permuted = (var_of_int['predicted_melt'] - melt_predic_all).isel(nemo_run=0)\n",
    "diff_permuted_abs = abs(diff_permuted)"
   ]
  },
  {
   "cell_type": "code",
   "execution_count": null,
   "id": "27ebc3c9-879c-4b84-8052-8ef503ff1ecd",
   "metadata": {},
   "outputs": [],
   "source": [
    "# VARIABLES SUBSET\n",
    "var_subset = ['position','watercolumn','slopesbed','slopesice','Tinfo','Sinfo']\n",
    "max_MAE = diff_permuted_abs.sel(shuff_var=var_subset).max('shuff_var')\n",
    "\n",
    "idx_MAE = max_MAE * np.nan\n",
    "for i,vv in enumerate(var_subset):\n",
    "    idx_MAE = idx_MAE.where(diff_permuted_abs.sel(shuff_var=vv) != max_MAE, i+1)\n",
    "    \n",
    "max_MAE.plot(cmap=mpl.cm.Reds)\n",
    "\n",
    "plt.figure()\n",
    "cmap = mpl.colors.ListedColormap(palette)\n",
    "idx_MAE.plot(cmap=cmap)"
   ]
  },
  {
   "cell_type": "markdown",
   "id": "bb47da40-a768-47f5-aa59-01471ea3c374",
   "metadata": {},
   "source": [
    "FIGURE 6"
   ]
  },
  {
   "cell_type": "code",
   "execution_count": null,
   "id": "aa5913c7-dfb7-4127-a458-602b90780b55",
   "metadata": {},
   "outputs": [],
   "source": [
    "\n",
    "cmaph = mpl.colors.ListedColormap(new_palette)\n",
    "    \n",
    "fig, ax = plt.subplots(1,5)\n",
    "fig.set_size_inches(8.25*2.5, 8.25/2)\n",
    "\n",
    "for i,kisf in enumerate([10,11,66,31,44]):\n",
    "    kisf_mask = var_of_int['ISF_mask'].isel(nemo_run=0)==kisf\n",
    "    idx_kisf = idx_MAE.where(kisf_mask,drop=True)\n",
    "    idx_kisf.plot(ax=ax[i],cmap=cmaph, add_colorbar=False)\n",
    "    ax[i].contour(idx_kisf.x,idx_kisf.y,var_of_int['box1_mask'].isel(nemo_run=0).where(idx_kisf),levels=[0,1],linewidths=2,colors='black',linestyles='--',zorder=10)\n",
    "    ax[i].contour(idx_kisf.x,idx_kisf.y,var_of_int['ground_mask'].isel(nemo_run=0).where(idx_kisf),levels=[0,1],linewidths=2,colors='black',zorder=10)\n",
    "    \n",
    "    ax[i].set_xticks([])\n",
    "    ax[i].set_yticks([])\n",
    "    ax[i].set_xlabel('')\n",
    "    ax[i].set_ylabel('')\n",
    "    ax[i].set_title('')\n",
    "\n",
    "\n",
    "plt.tight_layout()\n",
    "#fig.savefig(plot_path+'idx_MAE_shuffled2D_'+nemo_run+'_'+TS_opt+'.png', dpi=300)\n"
   ]
  },
  {
   "cell_type": "code",
   "execution_count": null,
   "id": "daea1f0f-6c48-4f24-a3c6-f2424cff4ca7",
   "metadata": {},
   "outputs": [],
   "source": [
    "\n",
    "cmaph = mpl.colors.ListedColormap(new_palette)\n",
    "    \n",
    "fig, ax = plt.subplots(1,5)\n",
    "fig.set_size_inches(8.25*2.5, 8.25/2)\n",
    "\n",
    "for i,kisf in enumerate([10,11,66,31,44]):\n",
    "    kisf_mask = var_of_int['ISF_mask'].isel(nemo_run=0)==kisf\n",
    "    idx_kisf = idx_MAE.where(kisf_mask,drop=True)\n",
    "    idx_kisf.plot(ax=ax[i],cmap=cmaph, cbar_kwargs={\"location\": \"bottom\"})\n",
    "    ax[i].contour(idx_kisf.x,idx_kisf.y,var_of_int['box1_mask'].isel(nemo_run=0).where(idx_kisf),levels=[0,1],linewidths=2,colors='black',linestyles='--',zorder=10)\n",
    "    ax[i].contour(idx_kisf.x,idx_kisf.y,var_of_int['ground_mask'].isel(nemo_run=0).where(idx_kisf),levels=[0,1],linewidths=2,colors='black',zorder=10)\n",
    "    \n",
    "    ax[i].set_xticks([])\n",
    "    ax[i].set_yticks([])\n",
    "    ax[i].set_xlabel('')\n",
    "    ax[i].set_ylabel('')\n",
    "    ax[i].set_title('')\n",
    "\n",
    "\n",
    "plt.tight_layout()\n",
    "fig.savefig(plot_path+'idx_MAE_shuffled2D_'+nemo_run+'_'+TS_opt+'_withcolorbar.png', dpi=300)\n"
   ]
  }
 ],
 "metadata": {
  "kernelspec": {
   "display_name": "py38",
   "language": "python",
   "name": "py38"
  },
  "language_info": {
   "codemirror_mode": {
    "name": "ipython",
    "version": 3
   },
   "file_extension": ".py",
   "mimetype": "text/x-python",
   "name": "python",
   "nbconvert_exporter": "python",
   "pygments_lexer": "ipython3",
   "version": "3.8.12"
  }
 },
 "nbformat": 4,
 "nbformat_minor": 5
}
