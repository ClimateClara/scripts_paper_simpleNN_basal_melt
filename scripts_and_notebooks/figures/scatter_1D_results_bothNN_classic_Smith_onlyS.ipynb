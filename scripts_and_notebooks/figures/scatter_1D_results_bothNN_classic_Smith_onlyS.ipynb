{
 "cells": [
  {
   "cell_type": "code",
   "execution_count": null,
   "id": "cf4be0be-23e7-4c6c-8d8e-9565fe2eb7f8",
   "metadata": {},
   "outputs": [],
   "source": [
    "\"\"\"\n",
    "Created on Fri Jan 27 15:18 2023\n",
    "\n",
    "Look at the results of the test of the NN on Smith data\n",
    "\n",
    "Author: @claraburgard\n",
    "\n",
    "\"\"\""
   ]
  },
  {
   "cell_type": "code",
   "execution_count": null,
   "id": "d57a8f0d-8535-4c22-9b8e-d5e328e3456a",
   "metadata": {},
   "outputs": [],
   "source": [
    "import xarray as xr\n",
    "import matplotlib.pyplot as plt\n",
    "from tqdm.notebook import tqdm\n",
    "import glob"
   ]
  },
  {
   "cell_type": "code",
   "execution_count": null,
   "id": "a8c49db3-d9d5-40b1-b944-45754c098169",
   "metadata": {},
   "outputs": [],
   "source": [
    "%matplotlib qt5"
   ]
  },
  {
   "cell_type": "markdown",
   "id": "cb6af3e7-b835-4c9a-b8b0-e5081426acd9",
   "metadata": {},
   "source": [
    "DEFINE OPTIONS"
   ]
  },
  {
   "cell_type": "code",
   "execution_count": null,
   "id": "6f86d9f7-5c54-4594-a3a5-e849aeca7f38",
   "metadata": {},
   "outputs": [],
   "source": [
    "TS_opt = 'extrap' # extrap, whole, thermocline\n",
    "norm_method =  'std' # std, interquart, minmax\n",
    "exp_name = 'newbasic2' #'allbutconstants' #'onlyTSdraftandslope' #'TSdraftbotandiceddandwcd' #'onlyTSisfdraft' #'TSdraftbotandiceddandwcdreldGL' #TSdraftslopereldGL"
   ]
  },
  {
   "cell_type": "markdown",
   "id": "d476e842-8f0b-4061-8c05-50f3fda80211",
   "metadata": {},
   "source": [
    "RESULTS CROSS-VALIDATION CLASSIC"
   ]
  },
  {
   "cell_type": "code",
   "execution_count": null,
   "id": "05d95a2d-db54-44dc-9b2b-bce22080bbe7",
   "metadata": {},
   "outputs": [],
   "source": [
    "home_path = '/bettik/burgardc/'\n",
    "\n",
    "run_list = ['OPM006','OPM016','OPM018','OPM021']\n",
    "\n",
    "diff_Gt_CVtime_list = []\n",
    "diff_box1_CVtime_list = []\n",
    "diff_Gt_CVisf_list = []\n",
    "diff_box1_CVisf_list = []\n",
    "\n",
    "ref_Gt_list = []\n",
    "ref_box1_list = []\n",
    "Gt_CVtime_list = []\n",
    "Gt_CVisf_list = []\n",
    "\n",
    "\n",
    "for n,nemo_run in enumerate(run_list):\n",
    "\n",
    "    outputpath_melt = '/bettik/burgardc/DATA/BASAL_MELT_PARAM/processed/MELT_RATE/nemo_5km_'+nemo_run+'/'\n",
    "\n",
    "    ### READ IN THE REFERENCE\n",
    "    NEMO_melt_rates_1D = xr.open_dataset(outputpath_melt+'melt_rates_1D_NEMO_oneFRIS.nc')\n",
    "    ref_Gt = NEMO_melt_rates_1D['melt_Gt_per_y_tot']\n",
    "    ref_Gt_list.append(ref_Gt)\n",
    "    NEMO_box1_myr = xr.open_dataset(outputpath_melt+'melt_rates_box1_NEMO_oneFRIS.nc')\n",
    "    ref_box1 = NEMO_box1_myr['mean_melt_box1_myr']\n",
    "    ref_box1_list.append(ref_box1)\n",
    "    \n",
    "    ### READ IN THE PARAM FILES - CV TIME\n",
    "    \n",
    "    # Param files\n",
    "    outputpath_melt = home_path+'DATA/BASAL_MELT_PARAM/processed/MELT_RATE/nemo_5km_'+nemo_run+'/'\n",
    "    melt_param_files_CVtime = list(sorted(glob.glob(outputpath_melt+'eval_metrics_1D_*_CVtime.nc')))\n",
    "    \n",
    "    param_list = []\n",
    "    for mfilename in melt_param_files_CVtime:\n",
    "        paramname = mfilename[91:157].split('.')[0].split('_')[:-2]\n",
    "        #paramname = mfilename[91:157].split('.')[0]\n",
    "        #paramname = mfilename[105:157].split('.')[0].split('_')[:-1]\n",
    "        mparam = '_'.join(paramname)\n",
    "        param_list.append(mparam)\n",
    "    \n",
    "    ds_melt_param_CVtime  = xr.open_mfdataset(melt_param_files_CVtime, concat_dim='new_param', combine='nested', coords='minimal',compat='override')#, chunks={'x': chunksize, 'y': chunksize})\n",
    "    if 'option' in ds_melt_param_CVtime.coords:        \n",
    "        ds_melt_param_CVtime = ds_melt_param_CVtime.drop('param').drop('option')\n",
    "    else:\n",
    "        ds_melt_param_CVtime = ds_melt_param_CVtime.drop('param')\n",
    "    ds_melt_param_CVtime = ds_melt_param_CVtime.rename({'new_param': 'param'})\n",
    "    ds_melt_param_CVtime = ds_melt_param_CVtime.assign_coords(param=param_list)\n",
    "    Gt_CVtime_list.append(ds_melt_param_CVtime['melt_1D_Gt_per_y'])\n",
    "    diff_Gt_CVtime = ds_melt_param_CVtime['melt_1D_Gt_per_y'] - ref_Gt\n",
    "    diff_Gt_CVtime = diff_Gt_CVtime.assign_coords({'time': np.arange(1,len(diff_Gt_CVtime.time)+1)+n*50})\n",
    "    diff_Gt_CVtime_list.append(diff_Gt_CVtime)\n",
    "    diff_box1_CVtime = ds_melt_param_CVtime['melt_1D_mean_myr_box1'].mean('time') - ref_box1.mean('time')\n",
    "    diff_box1_CVtime_list.append(diff_box1_CVtime)\n",
    "    \n",
    "    melt_param_files_CVisf = list(sorted(glob.glob(outputpath_melt+'eval_metrics_1D_*_CVshelves.nc')))\n",
    "    ds_melt_param_CVisf  = xr.open_mfdataset(melt_param_files_CVisf, concat_dim='new_param', combine='nested', coords='minimal',compat='override')#, chunks={'x': chunksize, 'y': chunksize})\n",
    "    if 'option' in ds_melt_param_CVisf.coords:        \n",
    "        ds_melt_param_CVisf  = ds_melt_param_CVisf.drop('param').drop('option')\n",
    "    else:\n",
    "        ds_melt_param_CVisf  = ds_melt_param_CVisf.drop('param')\n",
    "    ds_melt_param_CVisf = ds_melt_param_CVisf.rename({'new_param': 'param'})\n",
    "    ds_melt_param_CVisf = ds_melt_param_CVisf.assign_coords(param=param_list)\n",
    "    Gt_CVisf_list.append(ds_melt_param_CVisf['melt_1D_Gt_per_y'])\n",
    "    diff_Gt_CVisf = ds_melt_param_CVisf['melt_1D_Gt_per_y'] - ref_Gt\n",
    "    diff_Gt_CVisf = diff_Gt_CVisf.assign_coords({'time': np.arange(1,len(diff_Gt_CVisf.time)+1)+n*50})\n",
    "    diff_Gt_CVisf_list.append(diff_Gt_CVisf)\n",
    "    diff_box1_CVisf = ds_melt_param_CVisf['melt_1D_mean_myr_box1'].mean('time') - ref_box1.mean('time')\n",
    "    diff_box1_CVisf_list.append(diff_box1_CVisf)\n",
    "        \n",
    "\n",
    "Gt_all_CVtime = xr.concat(Gt_CVtime_list, dim='nemo_run')\n",
    "Gt_all_CVisf = xr.concat(Gt_CVisf_list, dim='nemo_run')\n",
    "diff_Gt_all_CVtime = xr.concat(diff_Gt_CVtime_list, dim='time')\n",
    "diff_box1_all_CVtime = xr.concat(diff_box1_CVtime_list, dim='nemo_run')   \n",
    "diff_Gt_all_CVisf = xr.concat(diff_Gt_CVisf_list, dim='time')\n",
    "diff_box1_all_CVisf = xr.concat(diff_box1_CVisf_list, dim='nemo_run')   "
   ]
  },
  {
   "cell_type": "markdown",
   "id": "f3047258-c670-41c3-9129-f1482ce64819",
   "metadata": {},
   "source": [
    "RESULTS CROSS-VALIDATION CLASSIC"
   ]
  },
  {
   "cell_type": "code",
   "execution_count": null,
   "id": "167d9995-3517-4619-927f-70f81f5732c9",
   "metadata": {},
   "outputs": [],
   "source": [
    "run_list = ['OPM006','OPM016','OPM018','OPM021']\n",
    "\n",
    "diff_Gt_CVtime_list = []\n",
    "diff_box1_CVtime_list = []\n",
    "diff_Gt_CVisf_list = []\n",
    "diff_box1_CVisf_list = []\n",
    "\n",
    "ref_Gt_list = []\n",
    "ref_box1_list = []\n",
    "Gt_CVtime_list = []\n",
    "Gt_CVisf_list = []\n",
    "\n",
    "outputpath_melt = '/bettik/burgardc/DATA/NN_PARAM/processed/MELT_RATE/'\n",
    "\n",
    "for n,nemo_run in enumerate(run_list):\n",
    "\n",
    "    ### CV TIME\n",
    "    melt_param_files_CVtime = list(sorted(glob.glob(outputpath_melt+'CV_TBLOCKS/evalmetrics_1D_CV_*newbasic*_normstd_'+nemo_run+'.nc')))\n",
    "    \n",
    "    param_list = []\n",
    "    for mfilename in melt_param_files_CVtime:\n",
    "        paramname = mfilename[80:157].split('.')[0].split('_')[:-2]\n",
    "        #paramname = mfilename[80:157].split('.')[0].split('_')[:-3]\n",
    "        #paramname = mfilename[79:157].split('.')[0].split('_')[:-3]\n",
    "        mparam = '_'.join(paramname)\n",
    "        param_list.append(mparam)\n",
    "        \n",
    "    ds_melt_param_CVtime  = xr.open_mfdataset(melt_param_files_CVtime, concat_dim='param', combine='nested', coords='minimal',compat='override')#, chunks={'x': chunksize, 'y': chunksize})\n",
    "    ds_melt_param_CVtime = ds_melt_param_CVtime.assign_coords(param=param_list)\n",
    "    Gt_CVtime_list.append(ds_melt_param_CVtime['predicted_melt'].sel(metrics='Gt'))\n",
    "    diff_Gt_CVtime = (ds_melt_param_CVtime['predicted_melt'] - ds_melt_param_CVtime['reference_melt']).sel(metrics='Gt')\n",
    "    diff_Gt_CVtime = diff_Gt_CVtime.assign_coords({'time': np.arange(1,len(diff_Gt_CVtime.time)+1)+n*50})\n",
    "    diff_Gt_CVtime_list.append(diff_Gt_CVtime)\n",
    "    diff_box1_CVtime = (ds_melt_param_CVtime['predicted_melt'].mean('time') - ds_melt_param_CVtime['reference_melt'].mean('time')).sel(metrics='box1')\n",
    "    diff_box1_CVtime_list.append(diff_box1_CVtime)\n",
    "    ref_Gt_list.append(ds_melt_param_CVtime['reference_melt'].isel(param=0).sel(metrics='Gt'))\n",
    "    ref_box1_list.append(ds_melt_param_CVtime['reference_melt'].isel(param=0).sel(metrics='box1'))\n",
    "\n",
    "    ### CV ISF\n",
    "    melt_param_files_CVisf = list(sorted(glob.glob(outputpath_melt+'CV_ISF/evalmetrics_1D_CV_*newbasic*_normstd_'+nemo_run+'.nc')))\n",
    "        \n",
    "    ds_melt_param_CVisf  = xr.open_mfdataset(melt_param_files_CVisf, concat_dim='param', combine='nested', coords='minimal',compat='override')#, chunks={'x': chunksize, 'y': chunksize})\n",
    "    ds_melt_param_CVisf = ds_melt_param_CVisf.assign_coords(param=param_list)\n",
    "    Gt_CVisf_list.append(ds_melt_param_CVisf['predicted_melt'].sel(metrics='Gt'))\n",
    "    diff_Gt_CVisf = (ds_melt_param_CVisf['predicted_melt'] - ds_melt_param_CVisf['reference_melt']).sel(metrics='Gt')\n",
    "    diff_Gt_CVisf = diff_Gt_CVisf.assign_coords({'time': np.arange(1,len(diff_Gt_CVisf.time)+1)+n*50})\n",
    "    diff_Gt_CVisf_list.append(diff_Gt_CVisf)\n",
    "    diff_box1_CVisf = (ds_melt_param_CVisf['predicted_melt'].mean('time') - ds_melt_param_CVisf['reference_melt'].mean('time')).sel(metrics='box1')\n",
    "    diff_box1_CVisf_list.append(diff_box1_CVisf)\n",
    "\n",
    "Gt_all_CVtime_NN = xr.concat(Gt_CVtime_list, dim='nemo_run')\n",
    "Gt_all_CVisf_NN = xr.concat(Gt_CVisf_list, dim='nemo_run')\n",
    "diff_Gt_all_CVtime_NN = xr.concat(diff_Gt_CVtime_list, dim='time')\n",
    "diff_box1_all_CVtime_NN = xr.concat(diff_box1_CVtime_list, dim='nemo_run')   \n",
    "diff_Gt_all_CVisf_NN = xr.concat(diff_Gt_CVisf_list, dim='time')\n",
    "diff_box1_all_CVisf_NN = xr.concat(diff_box1_CVisf_list, dim='nemo_run')   "
   ]
  },
  {
   "cell_type": "code",
   "execution_count": null,
   "id": "9d9b75dd-9008-403f-954c-7271e76a4818",
   "metadata": {},
   "outputs": [],
   "source": [
    "diff_Gt_all_param_together_CVtime = xr.concat([diff_Gt_all_CVtime.sel(profile_domain=50),diff_Gt_all_CVtime_NN], dim='param')\n",
    "diff_Gt_all_param_together_CVisf = xr.concat([diff_Gt_all_CVisf.sel(profile_domain=50),diff_Gt_all_CVisf_NN], dim='param')"
   ]
  },
  {
   "cell_type": "code",
   "execution_count": null,
   "id": "d7fe7d6f-ecd7-4c16-8eb8-0620f6576751",
   "metadata": {},
   "outputs": [],
   "source": [
    "diff_box1_all_param_together_CVtime = xr.concat([diff_box1_all_CVtime.sel(profile_domain=50),diff_box1_all_CVtime_NN], dim='param')\n",
    "diff_box1_all_param_together_CVisf = xr.concat([diff_box1_all_CVisf.sel(profile_domain=50),diff_box1_all_CVisf_NN], dim='param')"
   ]
  },
  {
   "cell_type": "code",
   "execution_count": null,
   "id": "3016bfd1-20b1-40f0-81e9-9d1e0d47d105",
   "metadata": {},
   "outputs": [],
   "source": [
    "special_nisf_list = [11, 69, 43, 12, 70, 44, 13, 58, 71, 45, 30, 31, 61, 73, 47, 48, 33, 18, 10, 65, 51, 22, 38, 52, 23, 66, 53, 39, 24,\n",
    "                     40, 54, 75, 25, 42, 55]"
   ]
  },
  {
   "cell_type": "code",
   "execution_count": null,
   "id": "a461598e-689e-433f-840b-f51162c00c31",
   "metadata": {},
   "outputs": [],
   "source": [
    "RMSE_Gt_all_CVtime = np.sqrt((diff_Gt_all_param_together_CVtime**2).sel(Nisf=special_nisf_list).mean(['time','Nisf']))\n",
    "RMSE_box1_all_CVtime = np.sqrt((diff_box1_all_param_together_CVtime**2).sel(Nisf=special_nisf_list).mean(['nemo_run','Nisf']))\n",
    "RMSE_Gt_all_CVisf = np.sqrt((diff_Gt_all_param_together_CVisf**2).sel(Nisf=special_nisf_list).mean(['time','Nisf']))\n",
    "RMSE_box1_all_CVisf = np.sqrt((diff_box1_all_param_together_CVisf**2).sel(Nisf=special_nisf_list).mean(['nemo_run','Nisf']))"
   ]
  },
  {
   "cell_type": "code",
   "execution_count": null,
   "id": "6d6ef966-f2a1-4061-acf6-33a3c31603ad",
   "metadata": {},
   "outputs": [],
   "source": [
    "#isf_dim = [10,11,12,13,18,22,23,25,30,31,33,39,40,42,43,44,45,47,51,55,58,61,65,66,69,70,71,73,75]"
   ]
  },
  {
   "cell_type": "code",
   "execution_count": null,
   "id": "e5214c23-24a7-4711-afc3-5c3c961ad28e",
   "metadata": {},
   "outputs": [],
   "source": [
    "nemo_run = 'bi646' #'bi646'"
   ]
  },
  {
   "cell_type": "code",
   "execution_count": null,
   "id": "05a3cceb-9e9b-4255-9cfe-98810382bd4b",
   "metadata": {},
   "outputs": [],
   "source": [
    "inputpath_mask='/bettik/burgardc/DATA/NN_PARAM/interim/ANTARCTICA_IS_MASKS/'\n",
    "outputpath_melt_nn = '/bettik/burgardc/DATA/NN_PARAM/processed/MELT_RATE/'\n",
    "outputpath_melt = '/bettik/burgardc/DATA/NN_PARAM/processed/MELT_RATE/SMITH_'+nemo_run+'_CLASSIC/'\n",
    "inputpath_data='/bettik/burgardc/DATA/NN_PARAM/interim/SMITH_'+nemo_run+'/'\n",
    "plot_path = '/bettik/burgardc/PLOTS/NN_plots/1D_eval/'\n"
   ]
  },
  {
   "cell_type": "markdown",
   "id": "f3566985-47a9-4165-a56f-c84bb489e317",
   "metadata": {},
   "source": [
    "RESULTS NN MODELS"
   ]
  },
  {
   "cell_type": "code",
   "execution_count": null,
   "id": "e98922e9-1098-459f-9780-73cc7be3e602",
   "metadata": {},
   "outputs": [],
   "source": [
    "res_1D_mods_list = []\n",
    "for mod_size in ['small']:\n",
    "        outputpath_melt_nn = '/bettik/burgardc/DATA/NN_PARAM/processed/MELT_RATE/SMITH_'+nemo_run+'/'\n",
    "        res_1D_all_list = []\n",
    "        for yy in range(1980, 1980 + 60):\n",
    "            res_1D_yy = xr.open_dataset(outputpath_melt_nn + 'evalmetrics_1D_'+mod_size+'_'+exp_name+'_ensmean_'+TS_opt+'_norm'+norm_method+'_'+str(yy)+'_'+nemo_run+'.nc')\n",
    "            res_1D_all_list.append(res_1D_yy.assign_coords({'time': yy}))\n",
    "        res_1D_all_xr = xr.concat(res_1D_all_list, dim='time')\n",
    "        res_1D_mods_list.append(res_1D_all_xr.assign_coords({'param': mod_size}))\n",
    "res_1D_mods_all = xr.concat(res_1D_mods_list, dim='param')"
   ]
  },
  {
   "cell_type": "code",
   "execution_count": null,
   "id": "569d227f-4111-4eb2-848a-668ba6a3af38",
   "metadata": {},
   "outputs": [],
   "source": [
    "nn_melt_Gt_all = res_1D_mods_all['predicted_melt'].sel(metrics='Gt')\n",
    "nn_melt_box1_all = res_1D_mods_all['predicted_melt'].sel(metrics='box1')"
   ]
  },
  {
   "cell_type": "markdown",
   "id": "3c2e0eea-1b10-4814-9dfe-580ce6be8179",
   "metadata": {},
   "source": [
    "RESULTS CLASSIC PARAM"
   ]
  },
  {
   "cell_type": "code",
   "execution_count": null,
   "id": "c79a58cb-1581-417d-a026-d27d42f3080f",
   "metadata": {},
   "outputs": [],
   "source": [
    "#run_list = ['OPM031'] \n",
    "file_isf_list = []\n",
    "target_melt_list = []\n",
    "ds_melt_Gt_list = []\n",
    "ds_melt_box1_list = []\n",
    "ref_box1_list = []\n",
    "\n",
    "for yy in tqdm(range(1980,1980 + 60)):\n",
    "    \n",
    "    # Param files\n",
    "    melt_param_files = list(sorted(glob.glob(outputpath_melt+'eval_metrics_1D_*_oneFRIS_'+str(yy)+'.nc')))\n",
    "    \n",
    "    param_list = []\n",
    "    for mfilename in melt_param_files:\n",
    "        #paramname = mfilename[97:157].split('.')[0].split('_')[:-1]\n",
    "        paramname = mfilename[87:157].split('.')[0].split('_')[:-2]\n",
    "        #paramname = mfilename[105:157].split('.')[0].split('_')[:-1]\n",
    "        mparam = '_'.join(paramname)\n",
    "        param_list.append(mparam)\n",
    "    \n",
    "    ds_melt_param  = xr.open_mfdataset(melt_param_files, concat_dim='new_param', combine='nested', coords='minimal',compat='override')#, chunks={'x': chunksize, 'y': chunksize})\n",
    "    if 'option' in ds_melt_param.coords:        \n",
    "        ds_melt_param = ds_melt_param.drop('option')\n",
    "    if 'calib' in ds_melt_param.coords: \n",
    "        ds_melt_param = ds_melt_param.drop('calib')\n",
    "    if 'param' in ds_melt_param.coords: \n",
    "        ds_melt_param = ds_melt_param.drop('param')\n",
    "\n",
    "    ds_melt_param = ds_melt_param.rename({'new_param': 'param'})\n",
    "    ds_melt_param = ds_melt_param.assign_coords(param=param_list, time=yy)\n",
    "    ds_melt_param_Gt = ds_melt_param['melt_1D_Gt_per_y'].sel(Nisf=ds_melt_param.Nisf)\n",
    "    ds_melt_Gt_list.append(ds_melt_param_Gt)\n",
    "    ds_melt_param_box1 = ds_melt_param['melt_1D_mean_myr_box1'].sel(Nisf=ds_melt_param.Nisf)\n",
    "    ds_melt_box1_list.append(ds_melt_param_box1)\n",
    "    \n",
    "    # File for target\n",
    "    NEMO_melt_rates_1D = xr.open_dataset(inputpath_data+'melt_rates_1D_NEMO_oneFRIS_'+str(yy)+'.nc')\n",
    "    target_melt_Gt_yr = NEMO_melt_rates_1D['melt_Gt_per_y_tot'].sel(Nisf=ds_melt_param.Nisf)\n",
    "    target_melt_list.append(target_melt_Gt_yr)\n",
    "    NEMO_box1_myr = xr.open_dataset(inputpath_data+'melt_rates_box1_NEMO_oneFRIS_'+str(yy)+'.nc')\n",
    "    ref_box1 = NEMO_box1_myr['mean_melt_box1_myr']\n",
    "    ref_box1_list.append(ref_box1)\n",
    "    \n",
    "target_melt_all = xr.concat(target_melt_list, dim='time')\n",
    "ref_box1_all = xr.concat(ref_box1_list, dim='time')\n",
    "ds_melt_Gt_all = xr.concat(ds_melt_Gt_list, dim='time')\n",
    "ds_melt_box1_all = xr.concat(ds_melt_box1_list, dim='time')\n"
   ]
  },
  {
   "cell_type": "code",
   "execution_count": null,
   "id": "7eedf01f-e2a7-4c5a-aa41-22ffc8e1df47",
   "metadata": {},
   "outputs": [],
   "source": [
    "ds_melt_Gt_all.param"
   ]
  },
  {
   "cell_type": "code",
   "execution_count": null,
   "id": "0fbcbc57-b3e4-4d10-841e-cbf97f7e9e23",
   "metadata": {},
   "outputs": [],
   "source": [
    "ref_box1_all.sel(time=range(1980+30,1980+60)).mean()"
   ]
  },
  {
   "cell_type": "code",
   "execution_count": null,
   "id": "e0ff17fb-d8a1-497d-af01-a6f6fa09015c",
   "metadata": {},
   "outputs": [],
   "source": [
    "ref_box1_all.sel(time=range(1980,1980+30)).mean()"
   ]
  },
  {
   "cell_type": "code",
   "execution_count": null,
   "id": "1caf888f-ec84-4f74-924e-6de1d1f159d8",
   "metadata": {},
   "outputs": [],
   "source": [
    "target_melt_all.sel(time=range(1980,1980+60)).mean()"
   ]
  },
  {
   "cell_type": "code",
   "execution_count": null,
   "id": "e4ba5fd0-2404-478d-944b-5d9ffe4eb779",
   "metadata": {},
   "outputs": [],
   "source": [
    "ds_melt_Gt_all.sel(time=range(1980,1980+30)).sum('Nisf').mean('time').load()"
   ]
  },
  {
   "cell_type": "code",
   "execution_count": null,
   "id": "e063e1ab-b0a3-4d1b-a468-2a8b7941c3cf",
   "metadata": {},
   "outputs": [],
   "source": [
    "nisf_of_int = res_1D_mods_all.Nisf.drop_sel(Nisf=4)"
   ]
  },
  {
   "cell_type": "code",
   "execution_count": null,
   "id": "f33093ea-555a-4c2e-a49d-839a988450d5",
   "metadata": {},
   "outputs": [],
   "source": [
    "param_melt_Gt_all = xr.concat([ds_melt_Gt_all,nn_melt_Gt_all], dim='param').load()\n",
    "param_melt_box1_all = xr.concat([ds_melt_box1_all,nn_melt_box1_all], dim='param').load()"
   ]
  },
  {
   "cell_type": "code",
   "execution_count": null,
   "id": "140f0843-6dcc-4c0e-a4bb-ece91bc29952",
   "metadata": {},
   "outputs": [],
   "source": [
    "for mparam in param_list_of_int:\n",
    "    print(mparam, param_melt_Gt_all.sel(time=range(1980,1980+30)).mean(['time','Nisf']).sel(param=mparam).values)\n",
    "    print(mparam, param_melt_Gt_all.sel(time=range(1980+30,1980+60)).mean(['time','Nisf']).sel(param=mparam).values)"
   ]
  },
  {
   "cell_type": "code",
   "execution_count": null,
   "id": "91ab61ff-dd9f-4b4b-94be-819189edac05",
   "metadata": {},
   "outputs": [],
   "source": [
    "for mparam in param_list_of_int:\n",
    "    print(mparam, param_melt_Gt_all.sel(time=range(1980,1980+30)).sum('Nisf').mean('time').sel(param=mparam).values)\n",
    "    print(mparam, param_melt_Gt_all.sel(time=range(1980+30,1980+60)).sum('Nisf').mean('time').sel(param=mparam).values)"
   ]
  },
  {
   "cell_type": "code",
   "execution_count": null,
   "id": "983991da-9169-46bc-b499-0df66fd11dff",
   "metadata": {},
   "outputs": [],
   "source": [
    "diff_Gt_all_param = param_melt_Gt_all - target_melt_all"
   ]
  },
  {
   "cell_type": "code",
   "execution_count": null,
   "id": "9180c58f-995a-49e0-ba09-e439e0906f73",
   "metadata": {},
   "outputs": [],
   "source": [
    "RMSE_Gt_all_first30 = np.sqrt((diff_Gt_all_param.sel(time=range(1980,1980+30))**2).sel(Nisf=nisf_of_int).mean(['time','Nisf']))\n",
    "RMSE_Gt_all_last30 = np.sqrt((diff_Gt_all_param.sel(time=range(1980+30,1980+60))**2).sel(Nisf=nisf_of_int).mean(['time','Nisf']))\n",
    "RMSE_Gt_all_60yy = np.sqrt((diff_Gt_all_param.sel(time=range(1980,1980+60))**2).sel(Nisf=nisf_of_int).mean(['time','Nisf']))"
   ]
  },
  {
   "cell_type": "code",
   "execution_count": null,
   "id": "7c03f058-3703-4379-8990-20fbc9359bb9",
   "metadata": {},
   "outputs": [],
   "source": [
    "for mparam in param_list_of_int:\n",
    "    print(mparam, RMSE_Gt_all_first30.sel(param=mparam).values)\n",
    "    print(mparam, RMSE_Gt_all_last30.sel(param=mparam).values)"
   ]
  },
  {
   "cell_type": "code",
   "execution_count": null,
   "id": "84e4d764-e6a6-41a9-9bed-4049e587bc89",
   "metadata": {},
   "outputs": [],
   "source": [
    "def NRMSE(RMSE, var):\n",
    "    return RMSE/(var.max() - var.min())"
   ]
  },
  {
   "cell_type": "code",
   "execution_count": null,
   "id": "00fcc3c5-31b6-4a1c-b6b2-95f4a1854347",
   "metadata": {},
   "outputs": [],
   "source": [
    "for mparam in param_list_of_int:\n",
    "    print(mparam, NRMSE(RMSE_Gt_all_60yy.sel(param=mparam),target_melt_all.sel(time=range(1980,1980+60)).mean()).values)"
   ]
  },
  {
   "cell_type": "code",
   "execution_count": null,
   "id": "82a6ec0e-4739-4f8e-9e0d-07df46093d02",
   "metadata": {},
   "outputs": [],
   "source": [
    "diff_box1_all_param_first30 = param_melt_box1_all.sel(time=range(1980,1980+30)).mean('time') - ref_box1_all.sel(time=range(1980,1980+30)).mean('time')\n",
    "diff_box1_all_param_last30 = param_melt_box1_all.sel(time=range(1980+30,1980+60)).mean('time') - ref_box1_all.sel(time=range(1980+30,1980+60)).mean('time')\n",
    "diff_box1_all_param_60yy = param_melt_box1_all.sel(time=range(1980,1980+60)).mean('time') - ref_box1_all.sel(time=range(1980,1980+60)).mean('time')\n",
    "\n",
    "RMSE_box1_all_first30 = np.sqrt((diff_box1_all_param_first30**2).sel(Nisf=nisf_of_int).mean('Nisf'))\n",
    "RMSE_box1_all_last30 = np.sqrt((diff_box1_all_param_last30**2).sel(Nisf=nisf_of_int).mean('Nisf'))\n",
    "RMSE_box1_all_60yy = np.sqrt((diff_box1_all_param_60yy**2).sel(Nisf=nisf_of_int).mean('Nisf'))"
   ]
  },
  {
   "cell_type": "code",
   "execution_count": null,
   "id": "2b4c23d2-135a-421c-aa3f-d54630b9ea82",
   "metadata": {},
   "outputs": [],
   "source": [
    "for mparam in param_list_of_int:\n",
    "    #print(mparam, RMSE_box1_all_first30.sel(param=mparam).values)\n",
    "    print(mparam, RMSE_box1_all_last30.sel(param=mparam).values)"
   ]
  },
  {
   "cell_type": "code",
   "execution_count": null,
   "id": "931d28ec-5bd0-45b7-8aef-340e79ab258f",
   "metadata": {},
   "outputs": [],
   "source": [
    "for mparam in param_list_of_int:\n",
    "    print(mparam, NRMSE(RMSE_box1_all_60yy.sel(param=mparam),ref_box1_all.sel(time=range(1980,1980+60)).mean()).values)"
   ]
  },
  {
   "cell_type": "code",
   "execution_count": null,
   "id": "9af9f38e-4f94-418a-aea8-f7f62837b379",
   "metadata": {},
   "outputs": [],
   "source": [
    "param_list_of_int = [\n",
    "                    #'linear_local',\n",
    "                    'small',\n",
    "                    'quadratic_local',\n",
    "                    'quadratic_local_locslope',\n",
    "                     'lazero19_2', \n",
    "                     'boxes_4_pismyes_picopno', 'boxes_4_pismno_picopyes', \n",
    "\n",
    "                    ]\n",
    "\n",
    "param_list_of_int_maps = [\n",
    "                    'xsmall96',\n",
    "                    'small',\n",
    "                    'large',\n",
    "                    'quadratic_local',\n",
    "                    'quadratic_local_locslope',\n",
    "                     'lazero19_2', \n",
    "                     'boxes_4_pismyes_picopno', \n",
    "                    ]"
   ]
  },
  {
   "cell_type": "code",
   "execution_count": null,
   "id": "3ac038cb-d4cf-455f-9c50-6248c9a3baca",
   "metadata": {},
   "outputs": [],
   "source": [
    "fig, axs = plt.subplots(1, 2,figsize=(8.24*1.25/2,8.24/2.5),sharey=True)\n",
    "\n",
    "if nemo_run == 'bf663':\n",
    "    ccolors = ['deepskyblue','blue']\n",
    "elif nemo_run == 'bi646':    \n",
    "    ccolors = ['hotpink','red']\n",
    "    \n",
    "#ccolors = ['steelblue','darkcyan','c','deepskyblue','skyblue','aquamarine','green','lightsteelblue','cyan','orange','magenta']\n",
    "\n",
    "k = 0\n",
    "#plt.figure()\n",
    "for mparam in param_list_of_int[::-1]:\n",
    "\n",
    "    if nemo_run == 'bf663':\n",
    "        axs[0].scatter(RMSE_Gt_all_60yy.sel(param=mparam),mparam,marker='o',c='orange', s=50)\n",
    "        axs[1].scatter(RMSE_box1_all_60yy.sel(param=mparam),mparam,marker='o',c='orange', s=50)\n",
    "    else:\n",
    "        axs[0].scatter(RMSE_Gt_all_first30.sel(param=mparam),mparam,marker='o',c=ccolors[0], s=50)\n",
    "        axs[1].scatter(RMSE_box1_all_first30.sel(param=mparam),mparam,marker='o',c=ccolors[0], s=50)\n",
    "\n",
    "        axs[0].scatter(RMSE_Gt_all_last30.sel(param=mparam),mparam,marker='o',c=ccolors[1], s=50)\n",
    "        axs[1].scatter(RMSE_box1_all_last30.sel(param=mparam),mparam,marker='o',c=ccolors[1], s=50)\n",
    "\n",
    "if nemo_run == 'bf663':\n",
    "    axs[0].set_xlim(0,40)\n",
    "    #axs[1].set_xlim(0,2.05)\n",
    "    axs[1].set_xlim(0,0.6)\n",
    "elif nemo_run == 'bi646':\n",
    "    axs[0].set_xlim(0,680)\n",
    "    #axs[1].set_xlim(0,2.05)\n",
    "    axs[1].set_xlim(0,2)\n",
    "\n",
    "sns.despine()\n",
    "plt.savefig(plot_path+'RMSE_scatter_box1_Smith_classic_NN_newbasic2_'+nemo_run+'.pdf')"
   ]
  },
  {
   "cell_type": "code",
   "execution_count": null,
   "id": "d7b68c9f-f2a9-4795-ae77-cfad02ee5e1b",
   "metadata": {},
   "outputs": [],
   "source": [
    "RMSE_box1_all_last30.sel(param='small')"
   ]
  },
  {
   "cell_type": "code",
   "execution_count": null,
   "id": "e219843c-2b5a-4cce-8a48-afdc536a119c",
   "metadata": {},
   "outputs": [],
   "source": [
    "#NRMSE\n",
    "fig, axs = plt.subplots(1, 2,figsize=(8.24*1.25/1.5,8.24/2),sharey=True)\n",
    "\n",
    "if nemo_run == 'bf663':\n",
    "    ccolors = ['deepskyblue','blue']\n",
    "elif nemo_run == 'bi646':    \n",
    "    ccolors = ['hotpink','red']\n",
    "    \n",
    "#ccolors = ['steelblue','darkcyan','c','deepskyblue','skyblue','aquamarine','green','lightsteelblue','cyan','orange','magenta']\n",
    "\n",
    "k = 0\n",
    "#plt.figure()\n",
    "for mparam in param_list_of_int[::-1]:\n",
    "\n",
    "    if nemo_run == 'bf663':\n",
    "        axs[0].scatter(NRMSE(RMSE_Gt_all_60yy.sel(param=mparam), target_melt_all),mparam,marker='o',c='orange', s=50)\n",
    "        axs[1].scatter(NRMSE(RMSE_box1_all_60yy.sel(param=mparam), ref_box1_all),mparam,marker='o',c='orange', s=50)\n",
    "    else:\n",
    "        axs[0].scatter(NRMSE(RMSE_Gt_all_first30.sel(param=mparam), target_melt_all),mparam,marker='o',c=ccolors[0], s=50)\n",
    "        axs[1].scatter(NRMSE(RMSE_box1_all_first30.sel(param=mparam), ref_box1_all),mparam,marker='o',c=ccolors[0], s=50)\n",
    "\n",
    "        axs[0].scatter(NRMSE(RMSE_Gt_all_last30.sel(param=mparam), target_melt_all),mparam,marker='o',c=ccolors[1], s=50)\n",
    "        axs[1].scatter(NRMSE(RMSE_box1_all_last30.sel(param=mparam), ref_box1_all),mparam,marker='o',c=ccolors[1], s=50)\n",
    "\n",
    "if nemo_run == 'bf663':\n",
    "    axs[0].set_xlim(0,1)\n",
    "    #axs[1].set_xlim(0,2.05)\n",
    "    axs[1].set_xlim(0,1)\n",
    "elif nemo_run == 'bi646':\n",
    "    axs[0].set_xlim(0,0.4)\n",
    "    #axs[1].set_xlim(0,2.05)\n",
    "    axs[1].set_xlim(0,0.4)\n",
    "\n",
    "sns.despine()\n",
    "#plt.savefig(plot_path+'NRMSE_scatter_box1_Smith_classic_NN_newbasic2_'+nemo_run+'.pdf')"
   ]
  },
  {
   "cell_type": "code",
   "execution_count": null,
   "id": "66456da2-3049-46b0-9523-216e16b15304",
   "metadata": {},
   "outputs": [],
   "source": [
    "fig, axs = plt.subplots(1, 2,figsize=(8.24*1.25/1.5,8.24/2),sharey=True)\n",
    "\n",
    "if nemo_run == 'bf663':\n",
    "    ccolors = ['deepskyblue','blue']\n",
    "elif nemo_run == 'bi646':    \n",
    "    ccolors = ['hotpink','red']\n",
    "    \n",
    "#ccolors = ['steelblue','darkcyan','c','deepskyblue','skyblue','aquamarine','green','lightsteelblue','cyan','orange','magenta']\n",
    "\n",
    "k = 0\n",
    "#plt.figure()\n",
    "for mparam in param_list_of_int[::-1]:\n",
    "\n",
    "    if nemo_run == 'bf663' or nemo_run == 'bi646' :\n",
    "        axs[0].scatter(RMSE_Gt_all_60yy.sel(param=mparam),mparam,marker='o',c='red', s=50)\n",
    "        axs[1].scatter(RMSE_box1_all_60yy.sel(param=mparam),mparam,marker='o',c='red', s=50)\n",
    "    else:\n",
    "        axs[0].scatter(RMSE_Gt_all_first30.sel(param=mparam),mparam,marker='o',c=ccolors[0], s=50)\n",
    "        axs[1].scatter(RMSE_box1_all_first30.sel(param=mparam),mparam,marker='o',c=ccolors[0], s=50)\n",
    "\n",
    "        axs[0].scatter(RMSE_Gt_all_last30.sel(param=mparam),mparam,marker='o',c=ccolors[1], s=50)\n",
    "        axs[1].scatter(RMSE_box1_all_last30.sel(param=mparam),mparam,marker='o',c=ccolors[1], s=50)\n",
    "\n",
    "if nemo_run == 'bf663':\n",
    "    axs[0].set_xlim(0,40)\n",
    "    #axs[1].set_xlim(0,2.05)\n",
    "    axs[1].set_xlim(0,0.6)\n",
    "elif nemo_run == 'bi646':\n",
    "    axs[0].set_xlim(0,680)\n",
    "    #axs[1].set_xlim(0,2.05)\n",
    "    axs[1].set_xlim(0,2)\n",
    "\n",
    "sns.despine()\n",
    "plt.savefig(plot_path+'RMSE_scatter_box1_Smith_classic_NN_newbasic2_'+nemo_run+'_forOPENworkshop.pdf')"
   ]
  },
  {
   "cell_type": "code",
   "execution_count": null,
   "id": "aef70aed-acb0-4284-9cd8-f081f74ea4a3",
   "metadata": {},
   "outputs": [],
   "source": [
    "RMSE_Gt_all_first30_wolargeones = np.sqrt((diff_Gt_all_param.sel(time=range(1980,1980+30))**2).sel(Nisf=nisf_of_int).drop_sel(Nisf=[10,11]).mean(['time','Nisf']))\n",
    "RMSE_Gt_all_last30_wolargeones = np.sqrt((diff_Gt_all_param.sel(time=range(1980+30,1980+60))**2).sel(Nisf=nisf_of_int).drop_sel(Nisf=[10,11]).mean(['time','Nisf']))\n",
    "\n",
    "RMSE_box1_all_first30_wolargeones = np.sqrt((diff_box1_all_param_first30**2).sel(Nisf=nisf_of_int).drop_sel(Nisf=[10,11]).mean('Nisf'))\n",
    "RMSE_box1_all_last30_wolargeones = np.sqrt((diff_box1_all_param_last30**2).sel(Nisf=nisf_of_int).drop_sel(Nisf=[10,11]).mean('Nisf'))"
   ]
  },
  {
   "cell_type": "code",
   "execution_count": null,
   "id": "5ece8d9d-26af-4045-9fd2-5b4e269008bd",
   "metadata": {},
   "outputs": [],
   "source": [
    "fig, axs = plt.subplots(1, 2,figsize=(8.24*1.25/1.5,8.24/2),sharey=True)\n",
    "\n",
    "if nemo_run == 'bf663':\n",
    "    ccolors = ['deepskyblue','blue']\n",
    "elif nemo_run == 'bi646':    \n",
    "    ccolors = ['hotpink','red']\n",
    "    \n",
    "#ccolors = ['steelblue','darkcyan','c','deepskyblue','skyblue','aquamarine','green','lightsteelblue','cyan','orange','magenta']\n",
    "\n",
    "k = 0\n",
    "#plt.figure()\n",
    "for mparam in param_list_of_int[::-1]:\n",
    "\n",
    "        \n",
    "    axs[0].scatter(RMSE_Gt_all_first30_wolargeones.sel(param=mparam),mparam,marker='o',c=ccolors[0], s=50)\n",
    "    axs[1].scatter(RMSE_box1_all_first30_wolargeones.sel(param=mparam),mparam,marker='o',c=ccolors[0], s=50)\n",
    "\n",
    "    axs[0].scatter(RMSE_Gt_all_last30_wolargeones.sel(param=mparam),mparam,marker='o',c=ccolors[1], s=50)\n",
    "    axs[1].scatter(RMSE_box1_all_last30_wolargeones.sel(param=mparam),mparam,marker='o',c=ccolors[1], s=50)\n",
    "\n",
    "if nemo_run == 'bf663':\n",
    "    axs[0].set_xlim(0,40)\n",
    "    #axs[1].set_xlim(0,2.05)\n",
    "    axs[1].set_xlim(0,0.6)\n",
    "elif nemo_run == 'bi646':\n",
    "    axs[0].set_xlim(0,110)\n",
    "    #axs[1].set_xlim(0,2.05)\n",
    "    axs[1].set_xlim(0,2)\n",
    "\n",
    "sns.despine()\n",
    "#plt.savefig(plot_path+'RMSE_scatter_box1_Smith_classic_NN_newbasic2_wolargeones_'+nemo_run+'.pdf')"
   ]
  },
  {
   "cell_type": "code",
   "execution_count": null,
   "id": "ff4ab212-7f4e-41d8-a1b0-b9355ddb527d",
   "metadata": {},
   "outputs": [],
   "source": [
    "fig, axs = plt.subplots(1, 2,figsize=(8.24*1.25/1.5,8.24/2),sharey=True)\n",
    "\n",
    "if nemo_run == 'bf663':\n",
    "    ccolors = ['deepskyblue','blue']\n",
    "elif nemo_run == 'bi646':    \n",
    "    ccolors = ['hotpink','red']\n",
    "    \n",
    "#ccolors = ['steelblue','darkcyan','c','deepskyblue','skyblue','aquamarine','green','lightsteelblue','cyan','orange','magenta']\n",
    "\n",
    "k = 0\n",
    "#plt.figure()\n",
    "for mparam in param_list_of_int[::-1]:\n",
    "\n",
    "    if nemo_run == 'bf663':\n",
    "\n",
    "        if mparam in ['xsmall96','small','large']:\n",
    "            axs[0].scatter(RMSE_Gt_all_CVtime.sel(param=mparam+'_newbasic2_extrap'),mparam,marker='x',c='grey', s=50)\n",
    "            axs[1].scatter(RMSE_box1_all_CVtime.sel(param=mparam+'_newbasic2_extrap'),mparam,marker='x',c='grey', s=50)\n",
    "\n",
    "            axs[0].scatter(RMSE_Gt_all_CVisf.sel(param=mparam+'_newbasic2_extrap'),mparam,marker='+',c='grey', s=100)\n",
    "            axs[1].scatter(RMSE_box1_all_CVisf.sel(param=mparam+'_newbasic2_extrap'),mparam,marker='+',c='grey', s=100)\n",
    "        else:\n",
    "            axs[0].scatter(RMSE_Gt_all_CVtime.sel(param=mparam),mparam,marker='x',c='grey', s=50)\n",
    "            axs[1].scatter(RMSE_box1_all_CVtime.sel(param=mparam),mparam,marker='x',c='grey', s=50)\n",
    "\n",
    "            axs[0].scatter(RMSE_Gt_all_CVisf.sel(param=mparam),mparam,marker='+',c='grey', s=100)\n",
    "            axs[1].scatter(RMSE_box1_all_CVisf.sel(param=mparam),mparam,marker='+',c='grey', s=100)\n",
    "            \n",
    "        axs[0].scatter(RMSE_Gt_all_60yy.sel(param=mparam),mparam,marker='o',c='orange', s=50)\n",
    "        axs[1].scatter(RMSE_box1_all_60yy.sel(param=mparam),mparam,marker='o',c='orange', s=50)\n",
    "        \n",
    "        \n",
    "    else:\n",
    "        axs[0].scatter(RMSE_Gt_all_first30.sel(param=mparam),mparam,marker='o',c=ccolors[0], s=50)\n",
    "        axs[1].scatter(RMSE_box1_all_first30.sel(param=mparam),mparam,marker='o',c=ccolors[0], s=50)\n",
    "\n",
    "        axs[0].scatter(RMSE_Gt_all_last30.sel(param=mparam),mparam,marker='o',c=ccolors[1], s=50)\n",
    "        axs[1].scatter(RMSE_box1_all_last30.sel(param=mparam),mparam,marker='o',c=ccolors[1], s=50)\n",
    "\n",
    "if nemo_run == 'bf663':\n",
    "    axs[0].set_xlim(0,70)\n",
    "    axs[1].set_xlim(0,2.05)\n",
    "    #axs[1].set_xlim(0,2)\n",
    "elif nemo_run == 'bi646':\n",
    "    axs[0].set_xlim(0,680)\n",
    "    #axs[1].set_xlim(0,2.05)\n",
    "    axs[1].set_xlim(0,2)\n",
    "\n",
    "sns.despine()\n",
    "plt.savefig(plot_path+'RMSE_scatter_box1_Smith_classic_NN_withCV_newbasic2_'+nemo_run+'.pdf')"
   ]
  },
  {
   "cell_type": "code",
   "execution_count": null,
   "id": "b1584420-fc30-4bf1-a6ed-cc9f649706d9",
   "metadata": {},
   "outputs": [],
   "source": [
    "if nemo_run == 'bf663':\n",
    "    fig, axs = plt.subplots(1, 2,figsize=(8.24/2,8.24/2),sharey=True)\n",
    "else:\n",
    "    fig, axs = plt.subplots(1, 2,figsize=(8.24*1.25/1.5,8.24/2),sharey=True)\n",
    "    \n",
    "if nemo_run == 'bf663':\n",
    "    ccolors = ['deepskyblue','blue']\n",
    "elif nemo_run == 'bi646':    \n",
    "    ccolors = ['hotpink','red']\n",
    "    \n",
    "#ccolors = ['steelblue','darkcyan','c','deepskyblue','skyblue','aquamarine','green','lightsteelblue','cyan','orange','magenta']\n",
    "\n",
    "k = 0\n",
    "#plt.figure()\n",
    "for mparam in param_list_of_int_maps[::-1]:\n",
    "    \n",
    "    if mparam in ['xsmall96','small','large']:\n",
    "        ccolor = 'orange'\n",
    "    else:\n",
    "        ccolor = 'lightskyblue'\n",
    "        \n",
    "    axs[0].scatter(RMSE_Gt_all_60yy.sel(param=mparam),mparam,marker='o',c=ccolor, s=50) ##0069B5\n",
    "    axs[1].scatter(RMSE_box1_all_60yy.sel(param=mparam),mparam,marker='o',c=ccolor, s=50)\n",
    "\n",
    "\n",
    "if nemo_run == 'bf663':\n",
    "    axs[0].set_xlim(0,40)\n",
    "    #axs[1].set_xlim(0,2.05)\n",
    "    axs[1].set_xlim(0,0.6)\n",
    "elif nemo_run == 'bi646':\n",
    "    axs[0].set_xlim(0,680)\n",
    "    #axs[1].set_xlim(0,2.05)\n",
    "    axs[1].set_xlim(0,2)\n",
    "\n",
    "sns.despine()\n",
    "plt.savefig(plot_path+'RMSE_scatter_box1_Smith_classic_NN_newbasic2_'+nemo_run+'_woPICOP.pdf', transparent=True)"
   ]
  },
  {
   "cell_type": "code",
   "execution_count": null,
   "id": "4810ec27-6fe7-4101-a10c-8e41106a3f13",
   "metadata": {},
   "outputs": [],
   "source": [
    "fig, axs = plt.subplots(2, 1,figsize=(8.25*1.7, 8.25/2.25),sharex=True)\n",
    "\n",
    "if nemo_run == 'bf663':\n",
    "    ccolors = ['deepskyblue','blue']\n",
    "elif nemo_run == 'bi646':    \n",
    "    ccolors = ['hotpink','red']\n",
    "    \n",
    "#ccolors = ['steelblue','darkcyan','c','deepskyblue','skyblue','aquamarine','green','lightsteelblue','cyan','orange','magenta']\n",
    "\n",
    "k = 0\n",
    "#plt.figure()\n",
    "for mparam in param_list_of_int_maps:\n",
    "\n",
    "    if nemo_run == 'bf663':\n",
    "        axs[0].scatter(mparam,RMSE_Gt_all_60yy.sel(param=mparam),marker='o',c='orange', s=50)\n",
    "        axs[1].scatter(mparam,RMSE_box1_all_60yy.sel(param=mparam),marker='o',c='orange', s=50)\n",
    "        axs[0].axhline(y=24,c='grey',linestyle='dotted',linewidth=1)\n",
    "        axs[1].axhline(y=0.34,c='grey',linestyle='dotted',linewidth=1)\n",
    "    else:\n",
    "        axs[0].scatter(RMSE_Gt_all_first30.sel(param=mparam),mparam,marker='o',c=ccolors[0], s=50)\n",
    "        axs[1].scatter(RMSE_box1_all_first30.sel(param=mparam),mparam,marker='o',c=ccolors[0], s=50)\n",
    "\n",
    "        axs[0].scatter(RMSE_Gt_all_last30.sel(param=mparam),mparam,marker='o',c=ccolors[1], s=50)\n",
    "        axs[1].scatter(RMSE_box1_all_last30.sel(param=mparam),mparam,marker='o',c=ccolors[1], s=50)\n",
    "\n",
    "if nemo_run == 'bf663':\n",
    "    axs[0].set_ylim(0,40)\n",
    "    #axs[1].set_xlim(0,2.05)\n",
    "    axs[1].set_ylim(0,0.6)\n",
    "elif nemo_run == 'bi646':\n",
    "    axs[0].set_xlim(0,680)\n",
    "    #axs[1].set_xlim(0,2.05)\n",
    "    axs[1].set_xlim(0,2)\n",
    "\n",
    "sns.despine()\n",
    "plt.savefig(plot_path+'RMSE_scatter_box1_Smith_classic_NN_newbasic2_'+nemo_run+'_horizontal.pdf')"
   ]
  },
  {
   "cell_type": "code",
   "execution_count": null,
   "id": "6c7ba63b-f9c6-4c3f-86e1-f71ff4dd9512",
   "metadata": {},
   "outputs": [],
   "source": [
    "fig, axs = plt.subplots(1, 2,figsize=(8.24*1.25/1.5,8.24/2),sharey=True)\n",
    "\n",
    "if nemo_run == 'bf663':\n",
    "    ccolors = ['deepskyblue','blue']\n",
    "elif nemo_run == 'bi646':    \n",
    "    ccolors = ['red']\n",
    "    \n",
    "#ccolors = ['steelblue','darkcyan','c','deepskyblue','skyblue','aquamarine','green','lightsteelblue','cyan','orange','magenta']\n",
    "\n",
    "k = 0\n",
    "#plt.figure()\n",
    "for mparam in param_list_of_int_maps[::-1]:\n",
    "\n",
    "    axs[0].scatter(RMSE_Gt_all_60yy.sel(param=mparam),mparam,marker='o',c='red', s=50)\n",
    "    axs[1].scatter(RMSE_box1_all_60yy.sel(param=mparam),mparam,marker='o',c='red', s=50)\n",
    "\n",
    "if nemo_run == 'bf663':\n",
    "    axs[0].set_xlim(0,40)\n",
    "    #axs[1].set_xlim(0,2.05)\n",
    "    axs[1].set_xlim(0,0.6)\n",
    "elif nemo_run == 'bi646':\n",
    "    axs[0].set_xlim(0,680)\n",
    "    #axs[1].set_xlim(0,2.05)\n",
    "    axs[1].set_xlim(0,2)\n",
    "\n",
    "sns.despine()\n",
    "plt.savefig(plot_path+'RMSE_scatter_box1_Smith_classic_NN_newbasic2_'+nemo_run+'_woPICOP.pdf')"
   ]
  },
  {
   "cell_type": "code",
   "execution_count": null,
   "id": "621ac870-1b81-43d3-9c04-6a86dc7c050c",
   "metadata": {},
   "outputs": [],
   "source": []
  }
 ],
 "metadata": {
  "kernelspec": {
   "display_name": "py38",
   "language": "python",
   "name": "py38"
  },
  "language_info": {
   "codemirror_mode": {
    "name": "ipython",
    "version": 3
   },
   "file_extension": ".py",
   "mimetype": "text/x-python",
   "name": "python",
   "nbconvert_exporter": "python",
   "pygments_lexer": "ipython3",
   "version": "3.8.12"
  }
 },
 "nbformat": 4,
 "nbformat_minor": 5
}
