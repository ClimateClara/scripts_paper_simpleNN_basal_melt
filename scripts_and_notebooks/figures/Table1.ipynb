{
 "cells": [
  {
   "cell_type": "code",
   "execution_count": null,
   "id": "f37ce8d2-9567-43c9-b52c-61fbff266e0f",
   "metadata": {},
   "outputs": [],
   "source": [
    "\"\"\"\n",
    "Created on Wed Apr 20 10:58 2022\n",
    "\n",
    "Compute the change in RMSE due to shuffling => TABLE 1\n",
    "\n",
    "Author: @claraburgard\n",
    "\n",
    "\"\"\""
   ]
  },
  {
   "cell_type": "code",
   "execution_count": null,
   "id": "e7f61d18-f356-4038-a4e3-af4441cc59e2",
   "metadata": {},
   "outputs": [],
   "source": [
    "import xarray as xr\n",
    "import numpy as np\n",
    "import pandas as pd\n",
    "from tqdm.notebook import tqdm\n",
    "import matplotlib.pyplot as plt\n",
    "import seaborn as sns\n",
    "import matplotlib as mpl"
   ]
  },
  {
   "cell_type": "code",
   "execution_count": null,
   "id": "131c7346-92a3-4246-9f3b-6eef937835c0",
   "metadata": {},
   "outputs": [],
   "source": [
    "%matplotlib qt5"
   ]
  },
  {
   "cell_type": "markdown",
   "id": "0e0d2fb9-e1f4-478b-a534-91a224116aee",
   "metadata": {},
   "source": [
    "READ IN DATA"
   ]
  },
  {
   "cell_type": "code",
   "execution_count": null,
   "id": "0be7b1d3-10b6-4299-97b1-830cd4573cb4",
   "metadata": {},
   "outputs": [],
   "source": [
    "nemo_run =  'bf663' #'mini', 'small', 'medium', 'large', 'extra_large'\n",
    "TS_opt = 'extrap' #'extrap_shuffboth' \n",
    "norm_method =  'std' # std, interquart, minmax\n",
    "exp_name = 'newbasic2'#'onlyTSdraftandslope' #'onlyTSdraftandslope' #'TSdraftbotandiceddandwcd' #'onlyTSisfdraft' #'TSdraftbotandiceddandwcdreldGL' #TSdraftslopereldGL"
   ]
  },
  {
   "cell_type": "code",
   "execution_count": null,
   "id": "02127659-07be-4511-b91b-a045f6dee57b",
   "metadata": {},
   "outputs": [],
   "source": [
    "home_path = '/bettik/burgardc/'\n",
    "plot_path = '/bettik/burgardc/PLOTS/NN_plots/input_vars/'\n"
   ]
  },
  {
   "cell_type": "code",
   "execution_count": null,
   "id": "2c61f5e5-6da4-43ff-a8d0-becf7a2470c8",
   "metadata": {},
   "outputs": [],
   "source": [
    "inputpath_mask = '/bettik/burgardc/DATA/NN_PARAM/interim/ANTARCTICA_IS_MASKS/SMITH_bf663/'\n",
    "file_isf_orig = xr.open_dataset(inputpath_mask+'nemo_5km_isf_masks_and_info_and_distance_oneFRIS_1980.nc').drop('time')\n",
    "nonnan_Nisf = file_isf_orig['Nisf'].where(np.isfinite(file_isf_orig['front_bot_depth_max']), drop=True).astype(int)\n",
    "file_isf_nonnan = file_isf_orig.sel(Nisf=nonnan_Nisf)\n",
    "large_isf = file_isf_nonnan['Nisf'].where(file_isf_nonnan['isf_area_here'] >= 2500, drop=True)\n",
    "file_isf = file_isf_nonnan.sel(Nisf=large_isf)\n",
    "file_isf['isf_name'] = file_isf['isf_name'].where(file_isf['isf_name'] != 'Ekstrom', np.array('Ekström', dtype=object))\n",
    "isf_names = file_isf['isf_name']"
   ]
  },
  {
   "cell_type": "code",
   "execution_count": null,
   "id": "eb1c4548-1055-44be-9385-eb127f479870",
   "metadata": {},
   "outputs": [],
   "source": [
    "var_list = ['dGL','dIF','corrected_isfdraft','bathy_metry','slope_bed_lon','slope_bed_lat','slope_ice_lon','slope_ice_lat',\n",
    "                'theta_in','salinity_in','T_mean', 'S_mean', 'T_std', 'S_std','position','watercolumn','slopesbed','slopesice','Tinfo','Sinfo']"
   ]
  },
  {
   "cell_type": "code",
   "execution_count": null,
   "id": "0b095714-4b10-45a6-a26c-56549a9e6225",
   "metadata": {},
   "outputs": [],
   "source": [
    "\n",
    "shuffle_Gt_list = []\n",
    "shuffle_box1_list = []\n",
    "res_1D_mods_list = []\n",
    "\n",
    "shuffle_allvars_list = []\n",
    "\n",
    "for mod_size in ['small']: #, 'bi646''small',\n",
    "    outputpath_melt_nn = '/bettik/burgardc/DATA/NN_PARAM/processed/MELT_RATE/SMITH_'+nemo_run+'/'\n",
    "    \n",
    "    res_1D_all_list = []\n",
    "    for yy in range(1980, 1980 + 60):\n",
    "            res_1D_yy = xr.open_dataset(outputpath_melt_nn + 'evalmetrics_1D_'+mod_size+'_'+exp_name+'_ensmean_extrap_norm'+norm_method+'_'+str(yy)+'_'+nemo_run+'.nc')\n",
    "            res_1D_all_list.append(res_1D_yy.assign_coords({'time': yy}))    \n",
    "    res_1D_all_xr = xr.concat(res_1D_all_list, dim='time')    \n",
    "    res_1D_mods_list.append(res_1D_all_xr.assign_coords({'param':mod_size}))\n",
    "    \n",
    "    shuffle_list = []\n",
    "    for vv in var_list:\n",
    "        res_1D_allyy = xr.open_dataset(outputpath_melt_nn + 'evalmetrics_shuffled'+vv+'_1D_'+mod_size+'_'+exp_name+'_ensmean_'+TS_opt+'_norm'+norm_method+'_allyy_'+nemo_run+'.nc')\n",
    "        shuffle_list.append(res_1D_allyy.assign_coords({'shuffled_var': vv}))\n",
    "\n",
    "    shuffle_allvars = xr.concat(shuffle_list, dim='shuffled_var').assign_coords({'param':mod_size})\n",
    "    shuffle_allvars_list.append(shuffle_allvars)\n",
    "    \n",
    "shuffle_all = xr.concat(shuffle_allvars_list, dim='param')\n",
    "orig_all =  xr.concat(res_1D_mods_list, dim='param')       \n",
    "        \n",
    "#shuffle_box1_list.append(res_1D_allyy.sel(metrics='box1').assign_coords({'shuffled_var': vv}))\n"
   ]
  },
  {
   "cell_type": "code",
   "execution_count": null,
   "id": "61e43b54-63c7-40e5-b33e-c2c506888fa6",
   "metadata": {},
   "outputs": [],
   "source": [
    "diff_Gt_orig = orig_all['predicted_melt'].sel(metrics='Gt') - orig_all['reference_melt'].sel(metrics='Gt')\n",
    "diff_box1_orig = orig_all['predicted_melt'].sel(metrics='box1').mean('time') - orig_all['reference_melt'].sel(metrics='box1').mean('time')"
   ]
  },
  {
   "cell_type": "code",
   "execution_count": null,
   "id": "8baed7dc-e990-4646-8299-a41b6b4cc25b",
   "metadata": {},
   "outputs": [],
   "source": [
    "diff_Gt_all = shuffle_all['predicted_melt'].sel(metrics='Gt') - shuffle_all['reference_melt'].sel(metrics='Gt')\n",
    "diff_box1_all = shuffle_all['predicted_melt'].sel(metrics='box1').mean('time') - shuffle_all['reference_melt'].sel(metrics='box1').mean('time')"
   ]
  },
  {
   "cell_type": "code",
   "execution_count": null,
   "id": "8029f82c-849c-4172-8c90-6bfc8d1887e6",
   "metadata": {},
   "outputs": [],
   "source": [
    "RMSE_Gt_all = np.sqrt((diff_Gt_all**2).drop_sel(Nisf=[4]).mean(['time','Nisf']))\n",
    "RMSE_box1_all = np.sqrt((diff_box1_all**2).drop_sel(Nisf=[4]).mean(['Nisf']))"
   ]
  },
  {
   "cell_type": "code",
   "execution_count": null,
   "id": "a8611e41-310a-4c5d-8a65-86923a441138",
   "metadata": {},
   "outputs": [],
   "source": [
    "RMSE_Gt_orig = np.sqrt((diff_Gt_orig**2).drop_sel(Nisf=[4]).mean(['time','Nisf']))\n",
    "RMSE_box1_orig = np.sqrt((diff_box1_orig**2).drop_sel(Nisf=[4]).mean(['Nisf']))"
   ]
  },
  {
   "cell_type": "code",
   "execution_count": null,
   "id": "2bf43ee1-f0c3-4d3d-a97a-a7e286ef3189",
   "metadata": {},
   "outputs": [],
   "source": [
    "diff_RMSE_Gt = RMSE_Gt_all - RMSE_Gt_orig\n",
    "diff_RMSE_box1 = RMSE_box1_all - RMSE_box1_orig"
   ]
  },
  {
   "cell_type": "code",
   "execution_count": null,
   "id": "222ec254-a96f-422e-8957-43b6f2227f0f",
   "metadata": {},
   "outputs": [],
   "source": [
    "sub_varlist = ['position','watercolumn', 'slopesbed', 'slopesice', 'Tinfo', 'Sinfo']"
   ]
  },
  {
   "cell_type": "code",
   "execution_count": null,
   "id": "c1477503-4585-42bf-887e-4982d62ce08c",
   "metadata": {},
   "outputs": [],
   "source": [
    "for vv in sub_varlist:\n",
    "    print(vv,((diff_RMSE_Gt.sel(shuffled_var=vv)/RMSE_Gt_orig)*100).values)"
   ]
  },
  {
   "cell_type": "code",
   "execution_count": null,
   "id": "3ea8c537-78c2-4245-ad6a-6b537f1dbbbf",
   "metadata": {},
   "outputs": [],
   "source": []
  }
 ],
 "metadata": {
  "kernelspec": {
   "display_name": "neuralnet",
   "language": "python",
   "name": "neuralnet"
  },
  "language_info": {
   "codemirror_mode": {
    "name": "ipython",
    "version": 3
   },
   "file_extension": ".py",
   "mimetype": "text/x-python",
   "name": "python",
   "nbconvert_exporter": "python",
   "pygments_lexer": "ipython3",
   "version": "3.9.16"
  }
 },
 "nbformat": 4,
 "nbformat_minor": 5
}
