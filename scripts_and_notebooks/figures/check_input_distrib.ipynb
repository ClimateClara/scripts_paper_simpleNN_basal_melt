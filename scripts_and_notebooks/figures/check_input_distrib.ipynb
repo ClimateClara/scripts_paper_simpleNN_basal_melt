{
 "cells": [
  {
   "cell_type": "code",
   "execution_count": null,
   "id": "4fa0001c-637b-455d-b00b-3ab6cc26d951",
   "metadata": {},
   "outputs": [],
   "source": [
    "\"\"\"\n",
    "Created on Wed Apr 05 13:52 2023\n",
    "\n",
    "Check distribution of input variables\n",
    "\n",
    "@author: Clara Burgard\n",
    "\"\"\""
   ]
  },
  {
   "cell_type": "code",
   "execution_count": null,
   "id": "ef0eadd1-5335-467c-bde7-5898f840f483",
   "metadata": {},
   "outputs": [],
   "source": [
    "import xarray as xr\n",
    "import numpy as np\n",
    "import seaborn as sns"
   ]
  },
  {
   "cell_type": "code",
   "execution_count": null,
   "id": "a36199e1-751d-436d-8320-07f524016324",
   "metadata": {},
   "outputs": [],
   "source": [
    "%matplotlib qt5"
   ]
  },
  {
   "cell_type": "code",
   "execution_count": null,
   "id": "30c267f0-6885-4295-92bc-6287d9c5a8ae",
   "metadata": {},
   "outputs": [],
   "source": [
    "plot_path = '/bettik/burgardc/PLOTS/NN_plots/input_vars/'"
   ]
  },
  {
   "cell_type": "code",
   "execution_count": null,
   "id": "f80c7229-7b54-4006-bad7-9b9ffe791ebc",
   "metadata": {},
   "outputs": [],
   "source": [
    "inputpath_data = '/bettik/burgardc/DATA/NN_PARAM/interim/INPUT_DATA/' \n",
    "outputpath_CVinput = inputpath_data+'EXTRAPOLATED_ISFDRAFT_CHUNKS/'\n",
    "train_data = xr.open_dataset(outputpath_CVinput + 'val_data_wholedataset.nc').sel(norm_method='std')\n",
    "norm_metrics_file = xr.open_dataset(outputpath_CVinput + 'metrics_norm_wholedataset.nc')\n",
    "norm_metrics = norm_metrics_file.sel(norm_method='std').drop('norm_method').to_dataframe()"
   ]
  },
  {
   "cell_type": "code",
   "execution_count": null,
   "id": "a5a6aed3-2389-48af-8cfa-c1ff26e0e508",
   "metadata": {},
   "outputs": [],
   "source": [
    "train_data_notnormed = (train_data * norm_metrics.loc['range_vars']) + norm_metrics.loc['mean_vars']\n",
    " "
   ]
  },
  {
   "cell_type": "code",
   "execution_count": null,
   "id": "af3d6e51-f252-44b5-8af6-97d54a9e0cf5",
   "metadata": {},
   "outputs": [],
   "source": [
    "inputpath_data = '/bettik/burgardc/DATA/NN_PARAM/interim/INPUT_DATA/SMITH_bf663_EXTRAPDRAFT_CHUNKS/'\n",
    "indata_df_bf663 = pd.read_csv(inputpath_data + 'dataframe_shuffledinput_allisf_1980-2040_bf663.csv')\n",
    "indata_df_bf663_normed = (indata_df_bf663 - norm_metrics.loc['mean_vars']) / norm_metrics.loc['range_vars']\n",
    "\n",
    "inputpath_data = '/bettik/burgardc/DATA/NN_PARAM/interim/INPUT_DATA/SMITH_bi646_EXTRAPDRAFT_CHUNKS/'\n",
    "indata_df_bi646 = pd.read_csv(inputpath_data + 'dataframe_shuffledinput_allisf_1980-2040_bi646.csv')\n",
    "indata_df_bi646_normed = (indata_df_bi646 - norm_metrics.loc['mean_vars']) / norm_metrics.loc['range_vars']\n"
   ]
  },
  {
   "cell_type": "code",
   "execution_count": null,
   "id": "0a898ce0-9e6b-445a-a025-e9f43fa6871a",
   "metadata": {},
   "outputs": [],
   "source": [
    "input_list = ['dGL','dIF','corrected_isfdraft','bathy_metry','slope_bed_lon','slope_bed_lat','slope_ice_lon','slope_ice_lat','theta_in','salinity_in','T_mean', 'S_mean', 'T_std', 'S_std','melt_m_ice_per_y']\n",
    "label_list = ['Distance GL [m]','Distance IF [m]',\n",
    "              'Ice draft depth \\n [m below sea-level]','Bathymetry \\n [m below sea-level]',\n",
    "              'Slope bed lon [rad]','Slope bed lat [rad]','Slope ice lon [rad]','Slope ice lat [rad]',\n",
    "              'Temperature \\n [degrees C]','Salinity [psu]','Temperature mean \\n [degrees C]', 'Salinity mean [psu]', 'Temperature std \\n [degrees C]', 'Salinity std [psu]',\n",
    "              'Melt [m ice per y]']"
   ]
  },
  {
   "cell_type": "code",
   "execution_count": null,
   "id": "1d6eeca7-5bff-40b9-a12b-347239b26561",
   "metadata": {},
   "outputs": [],
   "source": [
    "#for vv in input_list:\n",
    "n_bins = 50\n",
    "for vv in input_list:\n",
    "    min_all =  min([train_data_notnormed[vv].quantile(0.01).values,indata_df_bf663[vv].quantile(0.01),indata_df_bi646[vv].quantile(0.01)])\n",
    "    max_all =  max([train_data_notnormed[vv].quantile(0.99).values,indata_df_bf663[vv].quantile(0.99),indata_df_bi646[vv].quantile(0.99)])\n",
    "\n",
    "    plt.figure()\n",
    "    plt.hist(train_data_notnormed[vv], range=(min_all,max_all), bins=n_bins, alpha = 0.4, color='grey', density=True)\n",
    "    plt.hist(indata_df_bf663[vv], range=(min_all,max_all), bins=n_bins, alpha = 0.4, color='orange', density=True)\n",
    "    plt.hist(indata_df_bi646[vv], range=(min_all,max_all), bins=n_bins, alpha = 0.4, color='red', density=True)\n",
    "    plt.title(vv)\n",
    "    plt.savefig(plot_path+'distrib_input_'+vv+'.pdf')"
   ]
  },
  {
   "cell_type": "code",
   "execution_count": null,
   "id": "9682228c-1ae4-4fa2-a900-92ec85489d8e",
   "metadata": {},
   "outputs": [],
   "source": [
    "f = plt.figure()\n",
    "f.set_size_inches(8.25*1.5, 8.25*1.5)\n",
    "\n",
    "ax={}\n",
    "\n",
    "i = 0\n",
    "nn=0\n",
    "ii=0\n",
    "n_bins = 50\n",
    "for k,vv in enumerate(input_list):\n",
    "    \n",
    "    min_all =  min([train_data[vv].quantile(0.01).values,indata_df_bf663_normed[vv].quantile(0.01),indata_df_bi646_normed[vv].quantile(0.01)])\n",
    "    max_all =  max([train_data[vv].quantile(0.99).values,indata_df_bf663_normed[vv].quantile(0.99),indata_df_bi646_normed[vv].quantile(0.99)])\n",
    "\n",
    "    ax[i] = f.add_subplot(4,4,i+1)\n",
    "\n",
    "    ax[i].hist(train_data[vv], range=(min_all,max_all), bins=n_bins, alpha = 0.35, color='grey')#, stacked=True, density=True) # \n",
    "    ax[i].hist(indata_df_bf663_normed[vv], range=(min_all,max_all), bins=n_bins, alpha = 0.35, color='orange')#, stacked=True, density=True) #\n",
    "    ax[i].hist(indata_df_bi646_normed[vv], range=(min_all,max_all), bins=n_bins, alpha = 0.35, color='red')#, stacked=True, density=True) #\n",
    "\n",
    "    ax[i].set_title(label_list[k])\n",
    "    \n",
    "\n",
    "    i = i+1\n",
    "    \n",
    "\n",
    "\n",
    "\n",
    "f.tight_layout()\n",
    "sns.despine()"
   ]
  },
  {
   "cell_type": "code",
   "execution_count": null,
   "id": "caa2014e-f7b9-46d9-b360-ee95ae6fb1dd",
   "metadata": {},
   "outputs": [],
   "source": [
    "f = plt.figure()\n",
    "f.set_size_inches(8.25*1.25, 8.25*1.25)\n",
    "\n",
    "ax={}\n",
    "\n",
    "i = 0\n",
    "nn=0\n",
    "ii=0\n",
    "n_bins = 50\n",
    "for vv in input_list:\n",
    "    \n",
    "    min_all =  min([train_data_notnormed[vv].quantile(0.01).values,indata_df_bf663[vv].quantile(0.01),indata_df_bi646[vv].quantile(0.01)])\n",
    "    max_all =  max([train_data_notnormed[vv].quantile(0.99).values,indata_df_bf663[vv].quantile(0.99),indata_df_bi646[vv].quantile(0.99)])\n",
    "\n",
    "    ax[i] = f.add_subplot(4,4,i+1)\n",
    "\n",
    "    sns.histplot(train_data[vv].to_dataframe(), x=vv) #, bins=n_bins, alpha = 0.4, color='grey', ax=ax[i]) # \n",
    "    sns.histplot(indata_df_bf663_normed, x=vv) #, bins=n_bins, alpha = 0.4, color='orange', ax=ax[i]) #, bins=n_bins\n",
    "    sns.histplot(indata_df_bi646_normed, x=vv) #, bins=n_bins, alpha = 0.4, color='red', ax=ax[i]) #, bins=n_bins\n",
    "\n",
    "    #ax[i].set_title(vv)\n",
    "    #ax[i].set_xticklabels(rotation=45)\n",
    "\n",
    "    i = i+1\n",
    "    \n",
    "\n",
    "\n",
    "\n",
    "f.tight_layout()\n",
    "sns.despine()"
   ]
  },
  {
   "cell_type": "code",
   "execution_count": null,
   "id": "bba1b24e-51cf-423e-afd1-a6025a193378",
   "metadata": {},
   "outputs": [],
   "source": [
    "f = plt.figure()\n",
    "f.set_size_inches(8.25*1.25, 8.25*1.25)\n",
    "\n",
    "ax={}\n",
    "\n",
    "i = 0\n",
    "nn=0\n",
    "ii=0\n",
    "n_bins = 50\n",
    "for k,vv in enumerate(input_list):\n",
    "    \n",
    "    min_all =  min([train_data_notnormed[vv].quantile(0.01).values,indata_df_bf663[vv].quantile(0.01),indata_df_bi646[vv].quantile(0.01)])\n",
    "    max_all =  max([train_data_notnormed[vv].quantile(0.99).values,indata_df_bf663[vv].quantile(0.99),indata_df_bi646[vv].quantile(0.99)])\n",
    "\n",
    "    ax[i] = f.add_subplot(4,4,i+1)\n",
    "\n",
    "    ax[i].hist(train_data_notnormed[vv], range=(min_all,max_all), bins=n_bins, alpha = 0.4, color='grey') # , stacked=True, density=True\n",
    "    ax[i].hist(indata_df_bf663[vv], range=(min_all,max_all), bins=n_bins, alpha = 0.4, color='orange') #, stacked=True, density=True\n",
    "    ax[i].hist(indata_df_bi646[vv], range=(min_all,max_all), bins=n_bins, alpha = 0.4, color='red') #, stacked=True, density=True\n",
    "\n",
    "    ax[i].set_title(vv)\n",
    "    ax[i].set_title(label_list[k])\n",
    "\n",
    "    i = i+1\n",
    "    \n",
    "\n",
    "\n",
    "\n",
    "f.tight_layout()\n",
    "sns.despine()\n",
    "plt.savefig(plot_path+'distrib_input_allvar.pdf')"
   ]
  },
  {
   "cell_type": "code",
   "execution_count": null,
   "id": "a6b05e66-050d-4ffd-93da-cf8b7c87a891",
   "metadata": {},
   "outputs": [],
   "source": [
    "indata_df_bf663[vv]"
   ]
  },
  {
   "cell_type": "code",
   "execution_count": null,
   "id": "8af5926b-9d7a-4b9d-8c82-920a825c5820",
   "metadata": {},
   "outputs": [],
   "source": [
    "indata_df_bi646"
   ]
  },
  {
   "cell_type": "code",
   "execution_count": null,
   "id": "b8050d94-dcdc-4402-a9a0-dafd52964017",
   "metadata": {},
   "outputs": [],
   "source": [
    "f = plt.figure()\n",
    "f.set_size_inches(8.25*1.25, 8.25*1.25)\n",
    "\n",
    "ax={}\n",
    "\n",
    "i = 0\n",
    "nn=0\n",
    "ii=0\n",
    "n_bins = 50\n",
    "for vv in input_list:\n",
    "    \n",
    "    min_all =  min([train_data_notnormed[vv].quantile(0.01).values,indata_df_bf663[vv].quantile(0.01),indata_df_bi646[vv].quantile(0.01)])\n",
    "    max_all =  max([train_data_notnormed[vv].quantile(0.99).values,indata_df_bf663[vv].quantile(0.99),indata_df_bi646[vv].quantile(0.99)])\n",
    "\n",
    "    ax[i] = f.add_subplot(4,4,i+1)\n",
    "\n",
    "    sns.histplot(train_data_notnormed[vv].to_dataframe(), x=vv, y='index', alpha = 0.4, color='grey', ax=ax[i], stat='percent') # , bins=n_bins\n",
    "    sns.histplot(indata_df_bf663, x=vv, y=indata_df_bf663.index, alpha = 0.4, color='orange', ax=ax[i], stat='percent') #, bins=n_bins\n",
    "    sns.histplot(indata_df_bi646, x=vv, y=indata_df_bi646.index, alpha = 0.4, color='red', ax=ax[i], stat='percent') #, bins=n_bins\n",
    "\n",
    "    #ax[i].set_title(vv)\n",
    "    #ax[i].set_xticklabels(rotation=45)\n",
    "\n",
    "    i = i+1\n",
    "    \n",
    "\n",
    "\n",
    "\n",
    "f.tight_layout()\n",
    "sns.despine()"
   ]
  },
  {
   "cell_type": "code",
   "execution_count": null,
   "id": "d71e1afb-bead-4e30-9e86-63cfd802ec90",
   "metadata": {},
   "outputs": [],
   "source": [
    "n_bins = 50\n",
    "vv = 'slope_ice_lon'\n",
    "min_all =  min([train_data_notnormed[vv].quantile(0.1).values,indata_df_bf663[vv].quantile(0.1),indata_df_bi646[vv].quantile(0.05)])\n",
    "max_all =  max([train_data_notnormed[vv].quantile(0.9).values,indata_df_bf663[vv].quantile(0.9),indata_df_bi646[vv].quantile(0.95)])\n",
    "\n",
    "plt.figure()\n",
    "plt.hist(train_data_notnormed[vv], range=(min_all,max_all), bins=n_bins, alpha = 0.25, color='grey', density=True)\n",
    "plt.hist(indata_df_bf663[vv], range=(min_all,max_all), bins=n_bins, alpha = 0.25, color='orange', density=True)\n",
    "plt.hist(indata_df_bi646[vv], range=(min_all,max_all), bins=n_bins, alpha = 0.25, color='red', density=True)\n",
    "plt.title(vv)"
   ]
  },
  {
   "cell_type": "code",
   "execution_count": null,
   "id": "450a1764-8956-4295-a0ba-d502154b87c1",
   "metadata": {},
   "outputs": [],
   "source": [
    "min_all =  np.quantile(np.array([train_data_notnormed[vv].min().values,indata_df_bf663[vv].min(),indata_df_bi646[vv].min()]), 0.95)\n",
    "min_all"
   ]
  },
  {
   "cell_type": "code",
   "execution_count": null,
   "id": "e6aef31e-cb5e-432b-b39d-12c10c7b2ab6",
   "metadata": {},
   "outputs": [],
   "source": []
  }
 ],
 "metadata": {
  "kernelspec": {
   "display_name": "py38",
   "language": "python",
   "name": "py38"
  },
  "language_info": {
   "codemirror_mode": {
    "name": "ipython",
    "version": 3
   },
   "file_extension": ".py",
   "mimetype": "text/x-python",
   "name": "python",
   "nbconvert_exporter": "python",
   "pygments_lexer": "ipython3",
   "version": "3.8.12"
  }
 },
 "nbformat": 4,
 "nbformat_minor": 5
}
