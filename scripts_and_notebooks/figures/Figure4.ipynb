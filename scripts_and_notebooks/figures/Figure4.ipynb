{
 "cells": [
  {
   "cell_type": "code",
   "execution_count": null,
   "id": "cf4be0be-23e7-4c6c-8d8e-9565fe2eb7f8",
   "metadata": {},
   "outputs": [],
   "source": [
    "\"\"\"\n",
    "Created on Fri Jan 27 15:18 2023\n",
    "\n",
    "Look at the results of the test of the NN on Smith data => FIGURE 4\n",
    "\n",
    "Author: @claraburgard\n",
    "\n",
    "\"\"\""
   ]
  },
  {
   "cell_type": "code",
   "execution_count": null,
   "id": "d57a8f0d-8535-4c22-9b8e-d5e328e3456a",
   "metadata": {},
   "outputs": [],
   "source": [
    "import xarray as xr\n",
    "import matplotlib.pyplot as plt\n",
    "from tqdm.notebook import tqdm\n",
    "import glob"
   ]
  },
  {
   "cell_type": "code",
   "execution_count": null,
   "id": "a8c49db3-d9d5-40b1-b944-45754c098169",
   "metadata": {},
   "outputs": [],
   "source": [
    "%matplotlib qt5"
   ]
  },
  {
   "cell_type": "markdown",
   "id": "cb6af3e7-b835-4c9a-b8b0-e5081426acd9",
   "metadata": {},
   "source": [
    "DEFINE OPTIONS"
   ]
  },
  {
   "cell_type": "code",
   "execution_count": null,
   "id": "6f86d9f7-5c54-4594-a3a5-e849aeca7f38",
   "metadata": {},
   "outputs": [],
   "source": [
    "TS_opt = 'extrap' # extrap, whole, thermocline\n",
    "norm_method =  'std' # std, interquart, minmax\n",
    "exp_name = 'newbasic2' #'allbutconstants' #'onlyTSdraftandslope' #'TSdraftbotandiceddandwcd' #'onlyTSisfdraft' #'TSdraftbotandiceddandwcdreldGL' #TSdraftslopereldGL"
   ]
  },
  {
   "cell_type": "markdown",
   "id": "e29ac5af-462b-489f-9d52-0c78d0e361ed",
   "metadata": {},
   "source": [
    "CHOOSE IF REPEAT1970 or 4xCO2"
   ]
  },
  {
   "cell_type": "code",
   "execution_count": null,
   "id": "e5214c23-24a7-4711-afc3-5c3c961ad28e",
   "metadata": {},
   "outputs": [],
   "source": [
    "nemo_run = 'bi646' #'bi646'"
   ]
  },
  {
   "cell_type": "code",
   "execution_count": null,
   "id": "05a3cceb-9e9b-4255-9cfe-98810382bd4b",
   "metadata": {},
   "outputs": [],
   "source": [
    "inputpath_mask='/bettik/burgardc/DATA/NN_PARAM/interim/ANTARCTICA_IS_MASKS/'\n",
    "outputpath_melt_nn = '/bettik/burgardc/DATA/NN_PARAM/processed/MELT_RATE/'\n",
    "outputpath_melt = '/bettik/burgardc/DATA/NN_PARAM/processed/MELT_RATE/SMITH_'+nemo_run+'_CLASSIC/'\n",
    "inputpath_data='/bettik/burgardc/DATA/NN_PARAM/interim/SMITH_'+nemo_run+'/'\n",
    "plot_path = '/bettik/burgardc/PLOTS/NN_plots/1D_eval/'\n"
   ]
  },
  {
   "cell_type": "markdown",
   "id": "f3566985-47a9-4165-a56f-c84bb489e317",
   "metadata": {},
   "source": [
    "RESULTS NN MODELS"
   ]
  },
  {
   "cell_type": "code",
   "execution_count": null,
   "id": "e98922e9-1098-459f-9780-73cc7be3e602",
   "metadata": {},
   "outputs": [],
   "source": [
    "res_1D_mods_list = []\n",
    "for mod_size in ['small']:\n",
    "        outputpath_melt_nn = '/bettik/burgardc/DATA/NN_PARAM/processed/MELT_RATE/SMITH_'+nemo_run+'/'\n",
    "        res_1D_all_list = []\n",
    "        for yy in range(1980, 1980 + 60):\n",
    "            res_1D_yy = xr.open_dataset(outputpath_melt_nn + 'evalmetrics_1D_'+mod_size+'_'+exp_name+'_ensmean_'+TS_opt+'_norm'+norm_method+'_'+str(yy)+'_'+nemo_run+'.nc')\n",
    "            res_1D_all_list.append(res_1D_yy.assign_coords({'time': yy}))\n",
    "        res_1D_all_xr = xr.concat(res_1D_all_list, dim='time')\n",
    "        res_1D_mods_list.append(res_1D_all_xr.assign_coords({'param': mod_size}))\n",
    "res_1D_mods_all = xr.concat(res_1D_mods_list, dim='param')"
   ]
  },
  {
   "cell_type": "code",
   "execution_count": null,
   "id": "569d227f-4111-4eb2-848a-668ba6a3af38",
   "metadata": {},
   "outputs": [],
   "source": [
    "nn_melt_Gt_all = res_1D_mods_all['predicted_melt'].sel(metrics='Gt')\n",
    "nn_melt_box1_all = res_1D_mods_all['predicted_melt'].sel(metrics='box1')"
   ]
  },
  {
   "cell_type": "markdown",
   "id": "3c2e0eea-1b10-4814-9dfe-580ce6be8179",
   "metadata": {},
   "source": [
    "RESULTS CLASSIC PARAM"
   ]
  },
  {
   "cell_type": "code",
   "execution_count": null,
   "id": "c79a58cb-1581-417d-a026-d27d42f3080f",
   "metadata": {},
   "outputs": [],
   "source": [
    "#run_list = ['OPM031'] \n",
    "file_isf_list = []\n",
    "target_melt_list = []\n",
    "ds_melt_Gt_list = []\n",
    "ds_melt_box1_list = []\n",
    "ref_box1_list = []\n",
    "\n",
    "for yy in tqdm(range(1980,1980 + 60)):\n",
    "    \n",
    "    # Param files\n",
    "    melt_param_files = list(sorted(glob.glob(outputpath_melt+'eval_metrics_1D_*_oneFRIS_'+str(yy)+'.nc')))\n",
    "    \n",
    "    param_list = []\n",
    "    for mfilename in melt_param_files:\n",
    "        #paramname = mfilename[97:157].split('.')[0].split('_')[:-1]\n",
    "        paramname = mfilename[87:157].split('.')[0].split('_')[:-2]\n",
    "        #paramname = mfilename[105:157].split('.')[0].split('_')[:-1]\n",
    "        mparam = '_'.join(paramname)\n",
    "        param_list.append(mparam)\n",
    "    \n",
    "    ds_melt_param  = xr.open_mfdataset(melt_param_files, concat_dim='new_param', combine='nested', coords='minimal',compat='override')#, chunks={'x': chunksize, 'y': chunksize})\n",
    "    if 'option' in ds_melt_param.coords:        \n",
    "        ds_melt_param = ds_melt_param.drop('option')\n",
    "    if 'calib' in ds_melt_param.coords: \n",
    "        ds_melt_param = ds_melt_param.drop('calib')\n",
    "    if 'param' in ds_melt_param.coords: \n",
    "        ds_melt_param = ds_melt_param.drop('param')\n",
    "\n",
    "    ds_melt_param = ds_melt_param.rename({'new_param': 'param'})\n",
    "    ds_melt_param = ds_melt_param.assign_coords(param=param_list, time=yy)\n",
    "    ds_melt_param_Gt = ds_melt_param['melt_1D_Gt_per_y'].sel(Nisf=ds_melt_param.Nisf)\n",
    "    ds_melt_Gt_list.append(ds_melt_param_Gt)\n",
    "    ds_melt_param_box1 = ds_melt_param['melt_1D_mean_myr_box1'].sel(Nisf=ds_melt_param.Nisf)\n",
    "    ds_melt_box1_list.append(ds_melt_param_box1)\n",
    "    \n",
    "    # File for target\n",
    "    NEMO_melt_rates_1D = xr.open_dataset(inputpath_data+'melt_rates_1D_NEMO_oneFRIS_'+str(yy)+'.nc')\n",
    "    target_melt_Gt_yr = NEMO_melt_rates_1D['melt_Gt_per_y_tot'].sel(Nisf=ds_melt_param.Nisf)\n",
    "    target_melt_list.append(target_melt_Gt_yr)\n",
    "    NEMO_box1_myr = xr.open_dataset(inputpath_data+'melt_rates_box1_NEMO_oneFRIS_'+str(yy)+'.nc')\n",
    "    ref_box1 = NEMO_box1_myr['mean_melt_box1_myr']\n",
    "    ref_box1_list.append(ref_box1)\n",
    "    \n",
    "target_melt_all = xr.concat(target_melt_list, dim='time')\n",
    "ref_box1_all = xr.concat(ref_box1_list, dim='time')\n",
    "ds_melt_Gt_all = xr.concat(ds_melt_Gt_list, dim='time')\n",
    "ds_melt_box1_all = xr.concat(ds_melt_box1_list, dim='time')\n"
   ]
  },
  {
   "cell_type": "code",
   "execution_count": null,
   "id": "0fbcbc57-b3e4-4d10-841e-cbf97f7e9e23",
   "metadata": {},
   "outputs": [],
   "source": [
    "ref_box1_all.sel(time=range(1980+30,1980+60)).mean()"
   ]
  },
  {
   "cell_type": "code",
   "execution_count": null,
   "id": "e0ff17fb-d8a1-497d-af01-a6f6fa09015c",
   "metadata": {},
   "outputs": [],
   "source": [
    "ref_box1_all.sel(time=range(1980,1980+30)).mean()"
   ]
  },
  {
   "cell_type": "code",
   "execution_count": null,
   "id": "1caf888f-ec84-4f74-924e-6de1d1f159d8",
   "metadata": {},
   "outputs": [],
   "source": [
    "target_melt_all.sel(time=range(1980,1980+60)).mean()"
   ]
  },
  {
   "cell_type": "code",
   "execution_count": null,
   "id": "e4ba5fd0-2404-478d-944b-5d9ffe4eb779",
   "metadata": {},
   "outputs": [],
   "source": [
    "ds_melt_Gt_all.sel(time=range(1980,1980+30)).sum('Nisf').mean('time').load()"
   ]
  },
  {
   "cell_type": "code",
   "execution_count": null,
   "id": "e063e1ab-b0a3-4d1b-a468-2a8b7941c3cf",
   "metadata": {},
   "outputs": [],
   "source": [
    "nisf_of_int = res_1D_mods_all.Nisf.drop_sel(Nisf=4)"
   ]
  },
  {
   "cell_type": "code",
   "execution_count": null,
   "id": "f33093ea-555a-4c2e-a49d-839a988450d5",
   "metadata": {},
   "outputs": [],
   "source": [
    "param_melt_Gt_all = xr.concat([ds_melt_Gt_all,nn_melt_Gt_all], dim='param').load()\n",
    "param_melt_box1_all = xr.concat([ds_melt_box1_all,nn_melt_box1_all], dim='param').load()"
   ]
  },
  {
   "cell_type": "code",
   "execution_count": null,
   "id": "140f0843-6dcc-4c0e-a4bb-ece91bc29952",
   "metadata": {},
   "outputs": [],
   "source": [
    "for mparam in param_list_of_int:\n",
    "    print(mparam, param_melt_Gt_all.sel(time=range(1980,1980+30)).mean(['time','Nisf']).sel(param=mparam).values)\n",
    "    print(mparam, param_melt_Gt_all.sel(time=range(1980+30,1980+60)).mean(['time','Nisf']).sel(param=mparam).values)"
   ]
  },
  {
   "cell_type": "code",
   "execution_count": null,
   "id": "91ab61ff-dd9f-4b4b-94be-819189edac05",
   "metadata": {},
   "outputs": [],
   "source": [
    "for mparam in param_list_of_int:\n",
    "    print(mparam, param_melt_Gt_all.sel(time=range(1980,1980+30)).sum('Nisf').mean('time').sel(param=mparam).values)\n",
    "    print(mparam, param_melt_Gt_all.sel(time=range(1980+30,1980+60)).sum('Nisf').mean('time').sel(param=mparam).values)"
   ]
  },
  {
   "cell_type": "code",
   "execution_count": null,
   "id": "983991da-9169-46bc-b499-0df66fd11dff",
   "metadata": {},
   "outputs": [],
   "source": [
    "diff_Gt_all_param = param_melt_Gt_all - target_melt_all"
   ]
  },
  {
   "cell_type": "code",
   "execution_count": null,
   "id": "9180c58f-995a-49e0-ba09-e439e0906f73",
   "metadata": {},
   "outputs": [],
   "source": [
    "RMSE_Gt_all_first30 = np.sqrt((diff_Gt_all_param.sel(time=range(1980,1980+30))**2).sel(Nisf=nisf_of_int).mean(['time','Nisf']))\n",
    "RMSE_Gt_all_last30 = np.sqrt((diff_Gt_all_param.sel(time=range(1980+30,1980+60))**2).sel(Nisf=nisf_of_int).mean(['time','Nisf']))\n",
    "RMSE_Gt_all_60yy = np.sqrt((diff_Gt_all_param.sel(time=range(1980,1980+60))**2).sel(Nisf=nisf_of_int).mean(['time','Nisf']))"
   ]
  },
  {
   "cell_type": "code",
   "execution_count": null,
   "id": "7c03f058-3703-4379-8990-20fbc9359bb9",
   "metadata": {},
   "outputs": [],
   "source": [
    "for mparam in param_list_of_int:\n",
    "    print(mparam, RMSE_Gt_all_first30.sel(param=mparam).values)\n",
    "    print(mparam, RMSE_Gt_all_last30.sel(param=mparam).values)"
   ]
  },
  {
   "cell_type": "code",
   "execution_count": null,
   "id": "84e4d764-e6a6-41a9-9bed-4049e587bc89",
   "metadata": {},
   "outputs": [],
   "source": [
    "def NRMSE(RMSE, var):\n",
    "    return RMSE/(var.max() - var.min())"
   ]
  },
  {
   "cell_type": "code",
   "execution_count": null,
   "id": "00fcc3c5-31b6-4a1c-b6b2-95f4a1854347",
   "metadata": {},
   "outputs": [],
   "source": [
    "for mparam in param_list_of_int:\n",
    "    print(mparam, NRMSE(RMSE_Gt_all_60yy.sel(param=mparam),target_melt_all.sel(time=range(1980,1980+60)).mean()).values)"
   ]
  },
  {
   "cell_type": "code",
   "execution_count": null,
   "id": "82a6ec0e-4739-4f8e-9e0d-07df46093d02",
   "metadata": {},
   "outputs": [],
   "source": [
    "diff_box1_all_param_first30 = param_melt_box1_all.sel(time=range(1980,1980+30)).mean('time') - ref_box1_all.sel(time=range(1980,1980+30)).mean('time')\n",
    "diff_box1_all_param_last30 = param_melt_box1_all.sel(time=range(1980+30,1980+60)).mean('time') - ref_box1_all.sel(time=range(1980+30,1980+60)).mean('time')\n",
    "diff_box1_all_param_60yy = param_melt_box1_all.sel(time=range(1980,1980+60)).mean('time') - ref_box1_all.sel(time=range(1980,1980+60)).mean('time')\n",
    "\n",
    "RMSE_box1_all_first30 = np.sqrt((diff_box1_all_param_first30**2).sel(Nisf=nisf_of_int).mean('Nisf'))\n",
    "RMSE_box1_all_last30 = np.sqrt((diff_box1_all_param_last30**2).sel(Nisf=nisf_of_int).mean('Nisf'))\n",
    "RMSE_box1_all_60yy = np.sqrt((diff_box1_all_param_60yy**2).sel(Nisf=nisf_of_int).mean('Nisf'))"
   ]
  },
  {
   "cell_type": "code",
   "execution_count": null,
   "id": "2b4c23d2-135a-421c-aa3f-d54630b9ea82",
   "metadata": {},
   "outputs": [],
   "source": [
    "for mparam in param_list_of_int:\n",
    "    #print(mparam, RMSE_box1_all_first30.sel(param=mparam).values)\n",
    "    print(mparam, RMSE_box1_all_last30.sel(param=mparam).values)"
   ]
  },
  {
   "cell_type": "code",
   "execution_count": null,
   "id": "931d28ec-5bd0-45b7-8aef-340e79ab258f",
   "metadata": {},
   "outputs": [],
   "source": [
    "for mparam in param_list_of_int:\n",
    "    print(mparam, NRMSE(RMSE_box1_all_60yy.sel(param=mparam),ref_box1_all.sel(time=range(1980,1980+60)).mean()).values)"
   ]
  },
  {
   "cell_type": "code",
   "execution_count": null,
   "id": "9af9f38e-4f94-418a-aea8-f7f62837b379",
   "metadata": {},
   "outputs": [],
   "source": [
    "param_list_of_int = [\n",
    "                    #'linear_local',\n",
    "                    'small',\n",
    "                    'quadratic_local',\n",
    "                    'quadratic_local_locslope',\n",
    "                     'lazero19_2', \n",
    "                     'boxes_4_pismyes_picopno', 'boxes_4_pismno_picopyes', \n",
    "\n",
    "                    ]\n",
    "\n",
    "param_list_of_int_maps = [\n",
    "                    'xsmall96',\n",
    "                    'small',\n",
    "                    'large',\n",
    "                    'quadratic_local',\n",
    "                    'quadratic_local_locslope',\n",
    "                     'lazero19_2', \n",
    "                     'boxes_4_pismyes_picopno', \n",
    "                    ]"
   ]
  },
  {
   "cell_type": "code",
   "execution_count": null,
   "id": "3ac038cb-d4cf-455f-9c50-6248c9a3baca",
   "metadata": {},
   "outputs": [],
   "source": [
    "fig, axs = plt.subplots(1, 2,figsize=(8.24*1.25/2,8.24/2.5),sharey=True)\n",
    "\n",
    "if nemo_run == 'bf663':\n",
    "    ccolors = ['deepskyblue','blue']\n",
    "elif nemo_run == 'bi646':    \n",
    "    ccolors = ['hotpink','red']\n",
    "    \n",
    "#ccolors = ['steelblue','darkcyan','c','deepskyblue','skyblue','aquamarine','green','lightsteelblue','cyan','orange','magenta']\n",
    "\n",
    "k = 0\n",
    "#plt.figure()\n",
    "for mparam in param_list_of_int[::-1]:\n",
    "\n",
    "    if nemo_run == 'bf663':\n",
    "        axs[0].scatter(RMSE_Gt_all_60yy.sel(param=mparam),mparam,marker='o',c='orange', s=50)\n",
    "        axs[1].scatter(RMSE_box1_all_60yy.sel(param=mparam),mparam,marker='o',c='orange', s=50)\n",
    "    else:\n",
    "        axs[0].scatter(RMSE_Gt_all_first30.sel(param=mparam),mparam,marker='o',c=ccolors[0], s=50)\n",
    "        axs[1].scatter(RMSE_box1_all_first30.sel(param=mparam),mparam,marker='o',c=ccolors[0], s=50)\n",
    "\n",
    "        axs[0].scatter(RMSE_Gt_all_last30.sel(param=mparam),mparam,marker='o',c=ccolors[1], s=50)\n",
    "        axs[1].scatter(RMSE_box1_all_last30.sel(param=mparam),mparam,marker='o',c=ccolors[1], s=50)\n",
    "\n",
    "if nemo_run == 'bf663':\n",
    "    axs[0].set_xlim(0,40)\n",
    "    #axs[1].set_xlim(0,2.05)\n",
    "    axs[1].set_xlim(0,0.6)\n",
    "elif nemo_run == 'bi646':\n",
    "    axs[0].set_xlim(0,680)\n",
    "    #axs[1].set_xlim(0,2.05)\n",
    "    axs[1].set_xlim(0,2)\n",
    "\n",
    "sns.despine()\n",
    "plt.savefig(plot_path+'RMSE_scatter_box1_Smith_classic_NN_newbasic2_'+nemo_run+'.pdf')"
   ]
  }
 ],
 "metadata": {
  "kernelspec": {
   "display_name": "py38",
   "language": "python",
   "name": "py38"
  },
  "language_info": {
   "codemirror_mode": {
    "name": "ipython",
    "version": 3
   },
   "file_extension": ".py",
   "mimetype": "text/x-python",
   "name": "python",
   "nbconvert_exporter": "python",
   "pygments_lexer": "ipython3",
   "version": "3.8.12"
  }
 },
 "nbformat": 4,
 "nbformat_minor": 5
}
