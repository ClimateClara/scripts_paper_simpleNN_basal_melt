{
 "cells": [
  {
   "cell_type": "code",
   "execution_count": null,
   "id": "ca8bd17d-4448-4351-8ce7-0a5c627ba338",
   "metadata": {},
   "outputs": [],
   "source": [
    "\"\"\"\n",
    "Created on Thu Mar 30 11:42 2023\n",
    "\n",
    "This script is to check the reference melt for all ice shelves\n",
    "\n",
    "@author: Clara Burgard\n",
    "\"\"\""
   ]
  },
  {
   "cell_type": "code",
   "execution_count": null,
   "id": "80f43a71-b931-4d24-932c-1e25994697e3",
   "metadata": {},
   "outputs": [],
   "source": [
    "import xarray as xr\n",
    "import numpy as np\n",
    "import pandas as pd\n",
    "from tqdm.notebook import tqdm\n",
    "import matplotlib.pyplot as plt\n",
    "import seaborn as sns\n",
    "from matplotlib import cm\n",
    "import cartopy\n",
    "import cartopy.crs as ccrs\n",
    "import matplotlib as mpl\n",
    "import cmocean\n",
    "import glob"
   ]
  },
  {
   "cell_type": "code",
   "execution_count": null,
   "id": "ae03a848-73d9-4058-8e69-779f3d3a0d9a",
   "metadata": {},
   "outputs": [],
   "source": [
    "%matplotlib qt5"
   ]
  },
  {
   "cell_type": "markdown",
   "id": "ef4430f3-b80e-4b0b-9bf9-a2634cb8e660",
   "metadata": {},
   "source": [
    "FIXED MASK FILE FOR OPM016"
   ]
  },
  {
   "cell_type": "code",
   "execution_count": null,
   "id": "91be6e6f-a4aa-46c3-ae33-0acafed3b9a5",
   "metadata": {},
   "outputs": [],
   "source": [
    "inputpath_mask = '/bettik/burgardc/SCRIPTS/basal_melt_param/data/interim/ANTARCTICA_IS_MASKS/nemo_5km_OPM016/'\n",
    "file_isf_orig = xr.open_dataset(inputpath_mask+'nemo_5km_isf_masks_and_info_and_distance_new_oneFRIS.nc')\n",
    "home_path = '/bettik/burgardc/'\n",
    "plot_path='/bettik/burgardc/PLOTS/NN_plots/input_vars/'"
   ]
  },
  {
   "cell_type": "code",
   "execution_count": null,
   "id": "b25f85f9-d1d8-427e-a54b-142d5fbef90f",
   "metadata": {},
   "outputs": [],
   "source": [
    "ref_Gt_list = []\n",
    "ref_box1_list = []\n",
    "for nemo_run in ['bf663','bi646']:\n",
    "    ref_Gt_time_list = []\n",
    "    ref_box1_time_list = []\n",
    "    for yy in range(1980, 1980 + 60):\n",
    "        inputpath_data='/bettik/burgardc/DATA/NN_PARAM/interim/SMITH_'+nemo_run+'/'\n",
    "        NEMO_melt_rates_1D = xr.open_dataset(inputpath_data+'melt_rates_1D_NEMO_oneFRIS_'+str(yy)+'.nc')\n",
    "        NEMO_box1_myr = xr.open_dataset(inputpath_data+'melt_rates_box1_NEMO_oneFRIS_'+str(yy)+'.nc')\n",
    "        ref_Gt_time_list.append(NEMO_melt_rates_1D['melt_Gt_per_y_tot'].assign_coords({'time': yy}))\n",
    "        ref_box1_time_list.append(NEMO_box1_myr['mean_melt_box1_myr'].assign_coords({'time': yy}))\n",
    "    ref_Gt = xr.concat(ref_Gt_time_list, dim='time') \n",
    "    ref_box1 = xr.concat(ref_box1_time_list, dim='time') \n",
    "    \n",
    "    ref_Gt_list.append(ref_Gt.assign_coords({'nemo_run': nemo_run}))\n",
    "    ref_box1_list.append(ref_box1.assign_coords({'nemo_run': nemo_run}))\n",
    "        \n"
   ]
  },
  {
   "cell_type": "code",
   "execution_count": null,
   "id": "f624312c-a28b-4da4-a7e6-12fee764ad67",
   "metadata": {},
   "outputs": [],
   "source": [
    "run_list = ['OPM006','OPM016','OPM018','OPM021']\n",
    "for n,nemo_run in enumerate(run_list):\n",
    "    outputpath_melt = home_path+'DATA/BASAL_MELT_PARAM/processed/MELT_RATE/nemo_5km_'+nemo_run+'/'\n",
    "    NEMO_melt_rates_1D = xr.open_dataset(outputpath_melt+'melt_rates_1D_NEMO_oneFRIS.nc')\n",
    "    ref_Gt = NEMO_melt_rates_1D['melt_Gt_per_y_tot']\n",
    "    ref_Gt_list.append(ref_Gt.assign_coords({'nemo_run': nemo_run}))\n",
    "    NEMO_box1_myr = xr.open_dataset(outputpath_melt+'melt_rates_box1_NEMO_oneFRIS.nc')\n",
    "    ref_box1 = NEMO_box1_myr['mean_melt_box1_myr']\n",
    "    ref_box1_list.append(ref_box1.assign_coords({'nemo_run': nemo_run}))"
   ]
  },
  {
   "cell_type": "code",
   "execution_count": null,
   "id": "402dd174-1045-40ec-b941-436285538d74",
   "metadata": {},
   "outputs": [],
   "source": [
    "ref_Gt_all = xr.concat(ref_Gt_list, dim='nemo_run')\n",
    "ref_box1_all = xr.concat(ref_box1_list, dim='nemo_run')"
   ]
  },
  {
   "cell_type": "code",
   "execution_count": null,
   "id": "2684358e-fbfe-4ad9-9e0d-195e96b2580f",
   "metadata": {},
   "outputs": [],
   "source": [
    "ref_Gt_all = ref_Gt_all.assign_coords({'time': range(1,len(ref_Gt_all.time)+1)})\n",
    "ref_box1_all = ref_box1_all.assign_coords({'time': range(1,len(ref_box1_all.time)+1)})"
   ]
  },
  {
   "cell_type": "code",
   "execution_count": null,
   "id": "eff80359-05eb-40d2-af8c-46240c88cbea",
   "metadata": {},
   "outputs": [],
   "source": [
    "regions = ['Weddell','Bellingshausen','Amundsen','Ross','East 1','East 2','Dronning Maud Land']\n",
    "\n",
    "f = plt.figure()\n",
    "f.set_size_inches(8.25*1.5, 8.25*1.5)\n",
    "\n",
    "ax={}\n",
    "\n",
    "leg_hdl = []\n",
    "\n",
    "i = 0\n",
    "\n",
    "sorted_isf_all = [11,69,43,12,70,44,29,13,58,71,45,30,31,61,73,47,32,48,33,17,49,34,18,10,65,51,22,38,52,23,66,53,39,24,40,54,75,25,26,42,55] #62\n",
    "\n",
    "\n",
    "for kisf in tqdm(sorted_isf_all):\n",
    "    \n",
    "        \n",
    "    ax[i] = f.add_subplot(7,7,i+1)\n",
    "    \n",
    "    for n,nrun in enumerate(ref_Gt_all.nemo_run):\n",
    "        \n",
    "        if nrun == 'bf663':\n",
    "            ccolor = 'orange'\n",
    "        elif nrun == 'bi646':\n",
    "            ccolor = 'red'\n",
    "        else:\n",
    "            ccolor = 'grey'\n",
    "        \n",
    "        ax[i].plot(ref_Gt_all.time, ref_Gt_all.sel(nemo_run=nrun, Nisf=kisf), color=ccolor)\n",
    "\n",
    "    #if kisf == 23:\n",
    "    #    ax[i].set_title('Tracy Tremenchus')\n",
    "    #elif kisf == 24:\n",
    "    #    ax[i].set_title('Conger/Glenzer')\n",
    "    #elif kisf == 110:\n",
    "    #    ax[i].set_title('Ekström')\n",
    "    #else:\n",
    "    ax[i].set_title(str(file_isf_orig['isf_name'].sel(Nisf=kisf).values))\n",
    "    ax[i].set_xlim(0,60)\n",
    "    ax[i].axvline(x=30, c='k', linestyle='--')\n",
    "\n",
    "    i = i+1\n",
    "\n",
    "\n",
    "f.subplots_adjust(bottom=0.05, wspace=0.1)\n",
    "\n",
    "f.tight_layout()\n",
    "sns.despine()\n",
    "plt.savefig(plot_path+'timeseries_melt_all.pdf')"
   ]
  }
 ],
 "metadata": {
  "kernelspec": {
   "display_name": "py38",
   "language": "python",
   "name": "py38"
  },
  "language_info": {
   "codemirror_mode": {
    "name": "ipython",
    "version": 3
   },
   "file_extension": ".py",
   "mimetype": "text/x-python",
   "name": "python",
   "nbconvert_exporter": "python",
   "pygments_lexer": "ipython3",
   "version": "3.8.12"
  }
 },
 "nbformat": 4,
 "nbformat_minor": 5
}
