{
 "cells": [
  {
   "cell_type": "code",
   "execution_count": null,
   "id": "f37ce8d2-9567-43c9-b52c-61fbff266e0f",
   "metadata": {},
   "outputs": [],
   "source": [
    "\"\"\"\n",
    "Created on Thu Oct 12 10:17 2023\n",
    "\n",
    "Look at patterns when shuffling variables\n",
    "\n",
    "Author: @claraburgard\n",
    "\n",
    "\"\"\""
   ]
  },
  {
   "cell_type": "code",
   "execution_count": null,
   "id": "e7f61d18-f356-4038-a4e3-af4441cc59e2",
   "metadata": {},
   "outputs": [],
   "source": [
    "import xarray as xr\n",
    "import numpy as np\n",
    "import pandas as pd\n",
    "from tqdm.notebook import tqdm\n",
    "import matplotlib.pyplot as plt\n",
    "import seaborn as sns\n",
    "import matplotlib as mpl"
   ]
  },
  {
   "cell_type": "code",
   "execution_count": null,
   "id": "131c7346-92a3-4246-9f3b-6eef937835c0",
   "metadata": {},
   "outputs": [],
   "source": [
    "%matplotlib qt5"
   ]
  },
  {
   "cell_type": "markdown",
   "id": "6fe59fa0-b9c8-497f-b89f-21a5a619d4b5",
   "metadata": {},
   "source": [
    "FUNCTIONS"
   ]
  },
  {
   "cell_type": "code",
   "execution_count": null,
   "id": "60367b87-e976-4c0e-94fe-6083b4fe69b4",
   "metadata": {},
   "outputs": [],
   "source": [
    "import numpy as np\n",
    "from matplotlib import cm\n",
    "import cartopy\n",
    "import cartopy.crs as ccrs\n",
    "from cartopy.util import add_cyclic_point\n",
    "import matplotlib as mpl\n",
    "import cmocean\n",
    "from matplotlib.colors import ListedColormap, LinearSegmentedColormap\n",
    "from matplotlib.ticker import LogFormatterSciNotation\n",
    "import matplotlib.colors as colors\n",
    "from colorsys import hls_to_rgb\n",
    "\n",
    "def sigdigit(a,n):\n",
    "    \"\"\"round a to n significant digits\n",
    "\n",
    "      Examples:\n",
    "        nico.sigdigit([0.,1.111111,0.],2)          -> array([0. , 1.1, 0. ])\n",
    "        nico.sigdigit([999.9,1.111111,-323.684],2) -> array([1000. , 1.1, -320. ])\n",
    "        nico.sigdigit(2.2222222222,3)              -> array([2.22])\n",
    "        nico.sigdigit(0.,3)                        -> array([0.])\n",
    "        nico.sigdigit([0.,0.,0.],3)                -> array([0., 0., 0.])\n",
    "\n",
    "   \"\"\"\n",
    "    \n",
    "    aa=np.array(a)\n",
    "    masked = aa==0\n",
    "    bb=np.ones(np.size(aa))\n",
    "    if np.size(bb[~masked]) != 0:\n",
    "        bb[~masked]=np.power(10,np.floor(np.log10(np.abs(aa[~masked]))))\n",
    "        return np.rint(10**(n-1)*aa/bb)*10**(1-n)*bb\n",
    "    else:\n",
    "        return bb*0.e0\n",
    "\n",
    "\n",
    "def smooth(x,window_len=11,window='hanning'):\n",
    "    \"\"\"smooth the data using a window with requested size.\n",
    "    \n",
    "    This method is based on the convolution of a scaled window with the signal.\n",
    "    The signal is prepared by introducing reflected copies of the signal \n",
    "    (with the window size) in both ends so that transient parts are minimized\n",
    "    in the begining and end part of the output signal.\n",
    "    \n",
    "    input:\n",
    "        x: the input signal \n",
    "        window_len: the dimension of the smoothing window; should be an odd integer\n",
    "        window: the type of window from 'flat', 'hanning', 'hamming', 'bartlett', 'blackman'\n",
    "            flat window will produce a moving average smoothing.\n",
    "\n",
    "    output:\n",
    "        the smoothed signal\n",
    "        \n",
    "    example:\n",
    "\n",
    "    t=linspace(-2,2,0.1)\n",
    "    x=sin(t)+randn(len(t))*0.1\n",
    "    y=smooth(x)\n",
    "    \n",
    "    see also: \n",
    "    \n",
    "    np.hanning, np.hamming, np.bartlett, np.blackman, np.convolve\n",
    "    scipy.signal.lfilter\n",
    " \n",
    "    TODO: the window parameter could be the window itself if an array instead of a string\n",
    "    NOTE: length(output) != length(input), to correct this: return y[(window_len/2-1):-(window_len/2)] instead of just y.\n",
    "    \"\"\"\n",
    "\n",
    "    if x.ndim != 1:\n",
    "        raise(ValueError, \"smooth only accepts 1 dimension arrays.\")\n",
    "\n",
    "    if x.size < window_len:\n",
    "        raise(ValueError, \"Input vector needs to be bigger than window size.\")\n",
    "\n",
    "    if window_len<3:\n",
    "        return x\n",
    "\n",
    "    if not window in ['flat', 'hanning', 'hamming', 'bartlett', 'blackman']:\n",
    "        raise(ValueError, \"Window is on of 'flat', 'hanning', 'hamming', 'bartlett', 'blackman'\")\n",
    "\n",
    "\n",
    "    sx = np.size(x)\n",
    "    s=np.r_[x[window_len-1:0:-1],x,x[-2:-window_len-1:-1]]\n",
    "    if window == 'flat': #moving average\n",
    "        w=np.ones(window_len,'d')\n",
    "    else:\n",
    "        w=eval('np.'+window+'(window_len)')\n",
    "\n",
    "    #y=np.convolve(w/w.sum(),s,mode='valid')\n",
    "    y=np.convolve(w/w.sum(),s,mode='same')\n",
    "    return y[np.size(x[window_len-1:0:-1]):np.size(x[window_len-1:0:-1])+sx]\n",
    "\n",
    "#===========================================================================\n",
    "# Local functions to handle symmetric-log color bars:\n",
    "\n",
    "def symlog_transform(linthresh,linscale, a):\n",
    "    \"\"\"Inplace transformation.\"\"\"\n",
    "    linscale_adj = (linscale / (1.0 - np.e ** -1))\n",
    "    with np.errstate(invalid=\"ignore\"):\n",
    "      masked = np.abs(a) > linthresh\n",
    "    sign = np.sign(a[masked])\n",
    "    log = (linscale_adj + np.log(np.abs(a[masked]) / linthresh))\n",
    "    log *= sign * linthresh\n",
    "    a[masked] = log\n",
    "    a[~masked] *= linscale_adj\n",
    "    return a\n",
    "\n",
    "def symlog_inv_transform(linthresh,linscale, a):\n",
    "    \"\"\"Inverse inplace Transformation.\"\"\"\n",
    "    linscale_adj = (linscale / (1.0 - np.e ** -1))\n",
    "    masked = np.abs(a) > (linthresh * linscale_adj)\n",
    "    sign = np.sign(a[masked])\n",
    "    exp = np.exp(sign * a[masked] / linthresh - linscale_adj)\n",
    "    exp *= sign * linthresh\n",
    "    a[masked] = exp\n",
    "    a[~masked] /= linscale_adj\n",
    "    return a\n",
    "\n",
    "def map_with_contourf_coolwarm(melt_2D, grounded_msk, icesheet_msk, mparam):\n",
    "    fig, ax = plt.subplots()\n",
    "    fig.set_size_inches(8.25/1.3, 8.25/1.5/1.25)\n",
    "\n",
    "    # Customize colormap :\n",
    "    # NB: modify the Ncool to Nwarm ratio (total=256) to place zero as desired.\n",
    "    Ncool=86\n",
    "    Nwarm=256-Ncool\n",
    "    #------------------------------------------\n",
    "    # Defining IPCC colormap:\n",
    "    #LinL = np.loadtxt('IPCC_cryo_div.txt')\n",
    "    LinL = np.loadtxt(inputpath_colorbar+'IPCC_cryo_div.txt')\n",
    "    LinL = LinL*0.01\n",
    "    #\n",
    "    b3=LinL[:,2] # value of blue at sample n\n",
    "    b2=LinL[:,2] # value of blue at sample n\n",
    "    b1=np.linspace(0,1,len(b2)) # position of sample n - ranges from 0 to 1\n",
    "    # setting up columns for list\n",
    "    g3=LinL[:,1]\n",
    "    g2=LinL[:,1]\n",
    "    g1=np.linspace(0,1,len(g2))\n",
    "    r3=LinL[:,0]\n",
    "    r2=LinL[:,0]\n",
    "    r1=np.linspace(0,1,len(r2))\n",
    "    # creating list\n",
    "    R=zip(r1,r2,r3)\n",
    "    G=zip(g1,g2,g3)\n",
    "    B=zip(b1,b2,b3)\n",
    "    # transposing list\n",
    "    RGB=zip(R,B,G)\n",
    "    rgb=zip(*RGB)\n",
    "    # print rgb\n",
    "    # creating dictionary\n",
    "    k=['red', 'green', 'blue']\n",
    "    LinearL=dict(zip(k,rgb)) # makes a dictionary from 2 lists\n",
    "    ipcc_cmap=mpl.colors.LinearSegmentedColormap('ipcc',LinearL,256)\n",
    "    #---------------------------------\n",
    "    # moving the zero of colorbar\n",
    "    cool = cm.get_cmap(cm.coolwarm_r, Ncool)\n",
    "    tmp1 = cool(np.linspace(0.5, 0.85, Ncool)) # decrease 0.70 to have more white in the middle light-blue colors\n",
    "    print(tmp1.shape)\n",
    "    warm = cm.get_cmap(cm.coolwarm_r, Nwarm)\n",
    "    tmp2 = warm(np.linspace(0, 0.5, Nwarm)) # increase 0.20 to have more white in the middle light-yellow colors\n",
    "    print(tmp2.shape)\n",
    "    newcolors = np.append(tmp1[::-1,:],tmp2[::-1,:],axis=0)\n",
    "    newcmp = ListedColormap(newcolors)\n",
    "\n",
    "    # extreme color range values and corresponding tick levels of the symmetric-log contourf levels:\n",
    "    minval=-5.0\n",
    "    maxval=135.0\n",
    "    lin_threshold=1.0\n",
    "    lin_scale=1.0\n",
    "    [min_exp,max_exp]=symlog_transform(lin_threshold,lin_scale,np.array([minval,maxval]))\n",
    "    lev_exp = np.arange( np.floor(min_exp),  np.ceil(max_exp)+1 )\n",
    "    levs = symlog_inv_transform(lin_threshold,lin_scale,lev_exp)\n",
    "    levs = sigdigit(levs,2)\n",
    "\n",
    "    cax=ax.contourf(ref_melt_2D.x,ref_melt_2D.y,melt_2D,levs,cmap=newcmp,norm=mpl.colors.SymLogNorm(linthresh=lin_threshold, linscale=lin_scale,vmin=minval, vmax=maxval),zorder=0)\n",
    "    #ax.contour(ref_melt_2D.x,ref_melt_2D.y,basnb,np.linspace(0.5,20.5,21),linewidths=0.5,colors='gray',zorder=5)\n",
    "    ax.contour(ref_melt_2D.x,ref_melt_2D.y,grounded_msk,linewidths=0.5,colors='black',zorder=10)\n",
    "    ax.contour(ref_melt_2D.x,ref_melt_2D.y,icesheet_msk,linewidths=0.5,colors='black',zorder=15)\n",
    "    #ax.contour(ref_melt_2D.x,ref_melt_2D.y,box_msk,linewidths=0.5,colors='blue',zorder=10)\n",
    "\n",
    "    # Zoom on Amundsen:\n",
    "    zoomfac=2.85\n",
    "    xll_ori = -2000e3\n",
    "    yll_ori =  -900e3\n",
    "    xur_ori = -1450e3\n",
    "    yur_ori =  -150e3\n",
    "    xll_des =   -50e3\n",
    "    yll_des =  -500e3\n",
    "    xur_des = xll_des + zoomfac * (xur_ori-xll_ori)\n",
    "    yur_des = yll_des + zoomfac * (yur_ori-yll_ori)\n",
    "    ax.plot([xll_ori, xur_ori, xur_ori, xll_ori, xll_ori],[yll_ori, yll_ori, yur_ori, yur_ori, yll_ori],'k',linewidth=0.6,zorder=20)\n",
    "    ax.fill([xll_des, xur_des, xur_des, xll_des, xll_des],[yll_des, yll_des, yur_des, yur_des, yll_des],'w',edgecolor='k',zorder=25)\n",
    "\n",
    "    i1=np.argmin(np.abs(ref_melt_2D.x.values-xll_ori))\n",
    "    i2=np.argmin(np.abs(ref_melt_2D.x.values-xur_ori))+1\n",
    "    j1=np.argmin(np.abs(ref_melt_2D.y.values-yll_ori))\n",
    "    j2=np.argmin(np.abs(ref_melt_2D.y.values-yur_ori))+1\n",
    "    xzoom= xll_des + zoomfac * (ref_melt_2D.x-xll_ori)\n",
    "    yzoom= yll_des + zoomfac * (ref_melt_2D.y-yll_ori)\n",
    "\n",
    "    print(i1, i2, j1, j2)\n",
    "    print(np.shape(ref_melt_2D.values), np.shape(xzoom.values))\n",
    "    ax.contourf(xzoom.isel(x=range(i1,i2)),yzoom.isel(y=range(j2,j1)),melt_2D.isel(x=range(i1,i2),y=range(j2,j1)),levs,cmap=newcmp,norm=mpl.colors.SymLogNorm(linthresh=lin_threshold, linscale=lin_scale,vmin=minval, vmax=maxval),zorder=30)\n",
    "    ax.contour(xzoom.isel(x=range(i1,i2)),yzoom.isel(y=range(j2,j1)),grounded_msk.isel(x=range(i1,i2),y=range(j2,j1)),linewidths=0.5,colors='black',zorder=30)\n",
    "    ax.contour(xzoom.isel(x=range(i1,i2)),yzoom.isel(y=range(j2,j1)),icesheet_msk.isel(x=range(i1,i2),y=range(j2,j1)),linewidths=0.5,colors='black',zorder=40)\n",
    "    #ax.contour(xzoom.isel(x=range(i1,i2)),yzoom.isel(y=range(j2,j1)),box_msk.isel(x=range(i1,i2),y=range(j2,j1)),linewidths=0.15,colors='blue',zorder=35)\n",
    "    ax.plot([xll_des, xur_des, xur_des, xll_des, xll_des],[yll_des, yll_des, yur_des, yur_des, yll_des],'k',linewidth=1.0,zorder=45)\n",
    "\n",
    "    #-----\n",
    "\n",
    "    ratio=1.00\n",
    "    ax.set_aspect(1.0/ax.get_data_ratio()*ratio)\n",
    "\n",
    "    # colorbar :\n",
    "    formatter = LogFormatterSciNotation(10, labelOnlyBase=False, minor_thresholds=(np.inf, np.inf)) # \"(np.inf, np.inf)\" so that all ticks will be labeled \n",
    "    cbar = fig.colorbar(cax, format=formatter, fraction=0.035, pad=0.02, ticks=levs)\n",
    "    cbar.ax.set_title('m ice/yr') #,size=8\n",
    "    cbar.outline.set_linewidth(0.3)\n",
    "    cbar.ax.tick_params(which='both') #labelsize=6,\n",
    "\n",
    "    #-----\n",
    "\n",
    "    ax.set_xlim(-2800e3,2800e3)\n",
    "    ax.set_ylim(-2300e3,2300e3)\n",
    "    ax.set_title(mparam)\n",
    "    \n",
    "    plt.tight_layout()\n",
    "    return fig\n",
    "\n",
    "def myround(x, base=5):\n",
    "    return (base * np.ceil(x/base)).astype(int)\n",
    "\n",
    "def get_distinct_colors(n):\n",
    "\n",
    "    colors = []\n",
    "\n",
    "    for i in np.arange(0., 360., 360. / n):\n",
    "        h = i / 360.\n",
    "        l = (50 + np.random.rand() * 10) / 100.\n",
    "        s = (90 + np.random.rand() * 10) / 100.\n",
    "        colors.append(hls_to_rgb(h, l, s))\n",
    "\n",
    "    return colors"
   ]
  },
  {
   "cell_type": "code",
   "execution_count": null,
   "id": "f92db626-4ed8-4b8e-9499-99699b6013f5",
   "metadata": {},
   "outputs": [],
   "source": [
    "def defcolorpalette(ncolors, cmap = 'Accent'):\n",
    "    colmap = cm.get_cmap(cmap)\n",
    "    palette = [None]*ncolors\n",
    "    for i in range(ncolors):\n",
    "        palette[i] = colmap(float(i)/(ncolors-1.))\n",
    "    return palette\n",
    "number_of_colors = 6\n",
    "palette = defcolorpalette(number_of_colors)\n",
    "def show_color_palette(palette):\n",
    "    plt.figure()\n",
    "    plt.hist(np.ones((1, number_of_colors)), color = palette)\n",
    "    plt.xlim([1., 1.1])\n",
    "    plt.gca().xaxis.set_visible(False)\n",
    "    plt.gca().yaxis.set_visible(False)\n",
    "show_color_palette(palette)\n",
    "new_palette = [palette[0],palette[3],palette[4],palette[1],palette[2],palette[5]]\n",
    "show_color_palette(new_palette)"
   ]
  },
  {
   "cell_type": "markdown",
   "id": "0e0d2fb9-e1f4-478b-a534-91a224116aee",
   "metadata": {},
   "source": [
    "READ IN DATA"
   ]
  },
  {
   "cell_type": "code",
   "execution_count": null,
   "id": "0be7b1d3-10b6-4299-97b1-830cd4573cb4",
   "metadata": {},
   "outputs": [],
   "source": [
    "nemo_run =  'bf663' #'mini', 'small', 'medium', 'large', 'extra_large'\n",
    "TS_opt = 'extrap' #'extrap_shuffboth' # extrap, whole, thermocline\n",
    "norm_method =  'std' # std, interquart, minmax\n",
    "exp_name = 'newbasic2'#'onlyTSdraftandslope' #'onlyTSdraftandslope' #'TSdraftbotandiceddandwcd' #'onlyTSisfdraft' #'TSdraftbotandiceddandwcdreldGL' #TSdraftslopereldGL\n",
    "mod_size = 'small'"
   ]
  },
  {
   "cell_type": "code",
   "execution_count": null,
   "id": "02127659-07be-4511-b91b-a045f6dee57b",
   "metadata": {},
   "outputs": [],
   "source": [
    "home_path = '/bettik/burgardc/'\n",
    "plot_path = '/bettik/burgardc/PLOTS/NN_plots/input_vars/'\n"
   ]
  },
  {
   "cell_type": "code",
   "execution_count": null,
   "id": "eb1c4548-1055-44be-9385-eb127f479870",
   "metadata": {},
   "outputs": [],
   "source": [
    "var_list = ['dGL','dIF','corrected_isfdraft','bathy_metry','slope_bed_lon','slope_bed_lat','slope_ice_lon','slope_ice_lat',\n",
    "                'theta_in','salinity_in','T_mean', 'S_mean', 'T_std', 'S_std','position','watercolumn','slopesbed','slopesice','Tinfo','Sinfo']"
   ]
  },
  {
   "cell_type": "code",
   "execution_count": null,
   "id": "d6f7c2f8-fa4d-47ef-b6c8-c205ccfd792f",
   "metadata": {},
   "outputs": [],
   "source": [
    "merged_var_list = []\n",
    "\n",
    "ground_list = []\n",
    "icesheet_list = []\n",
    "box1_list = []\n",
    "isf_mask_list = []\n",
    "melt_list = []\n",
    "melt_ref_list = []\n",
    "melt_predic_list = []\n",
    "\n",
    "inputpath_mask = '/bettik/burgardc/DATA/NN_PARAM/interim/ANTARCTICA_IS_MASKS/SMITH_'+nemo_run+'/'\n",
    "inputpath_colorbar = '/bettik/burgardc/SCRIPTS/basal_melt_param/data/raw/MASK_METADATA/'\n",
    "outputpath_melt = '/bettik/burgardc/DATA/NN_PARAM/interim/MELT_RATE/SMITH_'+nemo_run+'/'\n",
    "plot_path = '/bettik/burgardc/PLOTS/NN_plots/2D_patterns/'\n",
    "inputpath_boxes = '/bettik/burgardc/DATA/NN_PARAM/interim/BOXES/SMITH_'+nemo_run+'/'\n",
    "outputpath_melt_nn = '/bettik/burgardc/DATA/NN_PARAM/processed/MELT_RATE/SMITH_'+nemo_run+'/'\n",
    "outputpath_melt_classic = '/bettik/burgardc/DATA/NN_PARAM/processed/MELT_RATE/SMITH_'+nemo_run+'_CLASSIC/'\n",
    "\n",
    "for yy in tqdm(range(1980, 1980 + 60)):\n",
    "\n",
    "    file_isf_orig = xr.open_dataset(inputpath_mask+'nemo_5km_isf_masks_and_info_and_distance_oneFRIS_'+str(yy)+'.nc')\n",
    "    nonnan_Nisf = file_isf_orig['Nisf'].where(np.isfinite(file_isf_orig['front_bot_depth_max']), drop=True).astype(int)\n",
    "    file_isf_nonnan = file_isf_orig.sel(Nisf=nonnan_Nisf)\n",
    "    large_isf = file_isf_nonnan['Nisf'].where(file_isf_nonnan['isf_area_here'] >= 2500, drop=True)\n",
    "    file_isf = file_isf_nonnan.sel(Nisf=large_isf)\n",
    "    file_isf_mask = file_isf['ISF_mask'].where(file_isf['ISF_mask']==file_isf.Nisf).sum('Nisf')\n",
    "    isf_mask_list.append(file_isf_mask)\n",
    "\n",
    "    grounded_msk03 = file_isf['ground_mask'].where(file_isf['ground_mask']==0,3)\n",
    "    grounded_msk = (grounded_msk03.where(grounded_msk03!=3,1)-1)*-1\n",
    "    ground_list.append(grounded_msk)\n",
    "\n",
    "    icesheet_msk_0inf = file_isf_mask.where(file_isf_mask!=1,0)\n",
    "    icesheet_msk = icesheet_msk_0inf.where(icesheet_msk_0inf < 1, 1)\n",
    "    icesheet_list.append(icesheet_msk)\n",
    "\n",
    "    box_charac_all_2D = xr.open_dataset(inputpath_boxes + 'nemo_5km_boxes_2D_oneFRIS_'+str(yy)+'_merged75.nc')\n",
    "    box_charac_all_1D = xr.open_dataset(inputpath_boxes + 'nemo_5km_boxes_1D_oneFRIS_'+str(yy)+'_merged75.nc')\n",
    "\n",
    "    box_loc_config2 = box_charac_all_2D['box_location'].sel(box_nb_tot=box_charac_all_1D['nD_config'].sel(config=2))\n",
    "    box1 = box_loc_config2.where(box_loc_config2==1).isel(Nisf=1).drop('Nisf')\n",
    "    box1_msk = box1.where(box1==1,0)\n",
    "    box1_list.append(box1_msk)\n",
    "\n",
    "    melt_ref_2D = xr.open_dataset(outputpath_melt_nn + 'evalmetrics_2D_'+mod_size+'_'+exp_name+'_ensmean_extrap_norm'+norm_method+'_'+str(yy)+'_'+nemo_run+'.nc')\n",
    "    melt_ref_list.append(melt_ref_2D['reference_melt'])\n",
    "    melt_predic_2D = xr.open_dataset(outputpath_melt_nn + 'evalmetrics_2D_'+mod_size+'_'+exp_name+'_ensmean_extrap_norm'+norm_method+'_'+str(yy)+'_'+nemo_run+'.nc')\n",
    "    melt_predic_list.append(melt_ref_2D['predicted_melt'])\n",
    "    \n",
    "    melt_yy_list = []\n",
    "    for vv in var_list:\n",
    "        pattern_2D_vv = xr.open_dataset(outputpath_melt_nn + 'evalmetrics_shuffled'+vv+'_2D_'+mod_size+'_'+exp_name+'_ensmean_'+TS_opt+'_norm'+norm_method+'_'+str(yy)+'_'+nemo_run+'.nc')\n",
    "        melt_yy_list.append(pattern_2D_vv['predicted_melt'].to_dataset().assign_coords({'shuff_var': vv}))\n",
    "\n",
    "    melt_yy_all = xr.concat(melt_yy_list, dim='shuff_var')\n",
    "    melt_list.append(melt_yy_all.chunk({'shuff_var':5}))\n",
    "\n",
    "ground_msk_all = xr.concat(ground_list, dim='time').sel(time=1980+55).assign_coords({'nemo_run': nemo_run})\n",
    "icesheet_msk_all = xr.concat(icesheet_list, dim='time').sel(time=1980+55).assign_coords({'nemo_run': nemo_run})\n",
    "box1_msk_all = xr.concat(box1_list, dim='time').sel(time=1980+55).assign_coords({'nemo_run': nemo_run})\n",
    "isf_mask_all = xr.concat(isf_mask_list, dim='time').sel(time=1980+55).assign_coords({'nemo_run': nemo_run})"
   ]
  },
  {
   "cell_type": "code",
   "execution_count": null,
   "id": "6f0d73a1-aba6-4d08-b42e-33f613b9ceaf",
   "metadata": {},
   "outputs": [],
   "source": [
    "melt2D_all = xr.concat(melt_list, dim='time').mean('time').assign_coords({'nemo_run': nemo_run})"
   ]
  },
  {
   "cell_type": "code",
   "execution_count": null,
   "id": "36ec89d3-4c5e-40f3-b7f2-6baf7ee8d65d",
   "metadata": {},
   "outputs": [],
   "source": [
    "melt_ref_all = xr.concat(melt_ref_list, dim='time').mean('time').assign_coords({'nemo_run': nemo_run})\n",
    "melt_predic_all = xr.concat(melt_predic_list, dim='time').mean('time').assign_coords({'nemo_run': nemo_run})\n",
    "\n",
    "merged_vars = xr.merge([ground_msk_all, icesheet_msk_all.rename('ice_mask'), box1_msk_all.rename('box1_mask'), isf_mask_all, melt2D_all])\n",
    "merged_var_list.append(merged_vars)\n",
    "\n",
    "var_of_int = xr.concat(merged_var_list, dim='nemo_run')"
   ]
  },
  {
   "cell_type": "code",
   "execution_count": null,
   "id": "8487f22d-202b-43f0-b0af-92379a0dc0ed",
   "metadata": {},
   "outputs": [],
   "source": [
    "diff_permuted = (var_of_int['predicted_melt'] - melt_predic_all).isel(nemo_run=0)\n",
    "diff_permuted_abs = abs(diff_permuted)"
   ]
  },
  {
   "cell_type": "code",
   "execution_count": null,
   "id": "2754b272-4c52-4df2-9644-52c8f7f00869",
   "metadata": {},
   "outputs": [],
   "source": [
    "for vv in diff_permuted.shuff_var:\n",
    "    plt.figure()\n",
    "    diff_permuted.sel(shuff_var=vv).plot()\n",
    "    plt.title(vv.values)"
   ]
  },
  {
   "cell_type": "code",
   "execution_count": null,
   "id": "5a1b042e-65ec-4f6d-9933-d4308f1d3576",
   "metadata": {},
   "outputs": [],
   "source": [
    "#ALL VARIABLES\n",
    "var_single = ['dGL','dIF','corrected_isfdraft','bathy_metry','slope_bed_lon','slope_bed_lat','slope_ice_lon','slope_ice_lat',\n",
    "                'theta_in','salinity_in','T_mean', 'S_mean', 'T_std', 'S_std']\n",
    "ccolors = get_distinct_colors(14)\n",
    "\n",
    "idx_MAE = max_MAE * np.nan\n",
    "max_MAE = diff_permuted_abs.sel(shuff_var=var_single).max('shuff_var')\n",
    "for i,vv in enumerate(var_single):\n",
    "    idx_MAE = idx_MAE.where(diff_permuted_abs.sel(shuff_var=vv) != max_MAE, i+1)\n",
    "    \n",
    "max_MAE.plot(cmap=mpl.cm.Reds)\n",
    "\n",
    "plt.figure()\n",
    "cmap = mpl.colors.ListedColormap(ccolors)\n",
    "idx_MAE.plot(cmap=cmap)"
   ]
  },
  {
   "cell_type": "code",
   "execution_count": null,
   "id": "27ebc3c9-879c-4b84-8052-8ef503ff1ecd",
   "metadata": {},
   "outputs": [],
   "source": [
    "# VARIABLES SUBSET\n",
    "var_subset = ['position','watercolumn','slopesbed','slopesice','Tinfo','Sinfo']\n",
    "max_MAE = diff_permuted_abs.sel(shuff_var=var_subset).max('shuff_var')\n",
    "\n",
    "idx_MAE = max_MAE * np.nan\n",
    "for i,vv in enumerate(var_subset):\n",
    "    idx_MAE = idx_MAE.where(diff_permuted_abs.sel(shuff_var=vv) != max_MAE, i+1)\n",
    "    \n",
    "max_MAE.plot(cmap=mpl.cm.Reds)\n",
    "\n",
    "plt.figure()\n",
    "cmap = mpl.colors.ListedColormap(palette)\n",
    "idx_MAE.plot(cmap=cmap)"
   ]
  },
  {
   "cell_type": "code",
   "execution_count": null,
   "id": "d47df857-ccfc-446a-80b0-84d6fea03435",
   "metadata": {},
   "outputs": [],
   "source": [
    "fig, ax = plt.subplots(1,5)\n",
    "fig.set_size_inches(8.25*2.5, 8.25/2)\n",
    "\n",
    "for i,kisf in enumerate([10,11,66,31,44]):\n",
    "    kisf_mask = var_of_int['ISF_mask'].isel(nemo_run=0)==kisf\n",
    "    max_kisf = max_MAE.where(kisf_mask,drop=True)\n",
    "    max_kisf.plot(ax=ax[i],cmap=mpl.cm.Reds, add_colorbar=False,levels=range(35))\n",
    "    ax[i].contour(max_kisf.x,max_kisf.y,var_of_int['box1_mask'].isel(nemo_run=0).where(max_kisf),levels=[0,1],linewidths=2,colors='grey',linestyles='--',zorder=10)\n",
    "    ax[i].contour(max_kisf.x,max_kisf.y,var_of_int['ground_mask'].isel(nemo_run=0).where(max_kisf),levels=[0,1],linewidths=2,colors='black',zorder=10)\n",
    "    \n",
    "    ax[i].set_xticks([])\n",
    "    ax[i].set_yticks([])\n",
    "    ax[i].set_xlabel('')\n",
    "    ax[i].set_ylabel('')\n",
    "    ax[i].set_title('')\n",
    "    \n",
    "plt.tight_layout()\n",
    "fig.savefig(plot_path+'max_MAE_shuffled2D_'+nemo_run+'_'+TS_opt+'.png', dpi=300)\n"
   ]
  },
  {
   "cell_type": "code",
   "execution_count": null,
   "id": "03961f0b-a409-4bcf-be73-1a540ecdc3d9",
   "metadata": {},
   "outputs": [],
   "source": [
    "\n",
    "fig, ax = plt.subplots(1,5)\n",
    "fig.set_size_inches(8.25*2.5, 8.25/2)\n",
    "\n",
    "for i,kisf in enumerate([10,11,66,31,44]):\n",
    "    kisf_mask = var_of_int['ISF_mask'].isel(nemo_run=0)==kisf\n",
    "    max_kisf = max_MAE.where(kisf_mask,drop=True)\n",
    "    max_kisf.plot(ax=ax[i],cmap=mpl.cm.Reds,levels=range(35),cbar_kwargs={\"location\": \"bottom\"})\n",
    "    \n",
    "    ax[i].set_xticks([])\n",
    "    ax[i].set_yticks([])\n",
    "    ax[i].set_xlabel('')\n",
    "    ax[i].set_ylabel('')\n",
    "    ax[i].set_title('')\n",
    "    \n",
    "plt.tight_layout()\n",
    "fig.savefig(plot_path+'max_MAE_shuffled2D_'+nemo_run+'_'+TS_opt+'_withcolorbar.png', dpi=300)\n"
   ]
  },
  {
   "cell_type": "code",
   "execution_count": null,
   "id": "aa5913c7-dfb7-4127-a458-602b90780b55",
   "metadata": {},
   "outputs": [],
   "source": [
    "\n",
    "cmaph = mpl.colors.ListedColormap(new_palette)\n",
    "    \n",
    "fig, ax = plt.subplots(1,5)\n",
    "fig.set_size_inches(8.25*2.5, 8.25/2)\n",
    "\n",
    "for i,kisf in enumerate([10,11,66,31,44]):\n",
    "    kisf_mask = var_of_int['ISF_mask'].isel(nemo_run=0)==kisf\n",
    "    idx_kisf = idx_MAE.where(kisf_mask,drop=True)\n",
    "    idx_kisf.plot(ax=ax[i],cmap=cmaph, add_colorbar=False)\n",
    "    ax[i].contour(idx_kisf.x,idx_kisf.y,var_of_int['box1_mask'].isel(nemo_run=0).where(idx_kisf),levels=[0,1],linewidths=2,colors='black',linestyles='--',zorder=10)\n",
    "    ax[i].contour(idx_kisf.x,idx_kisf.y,var_of_int['ground_mask'].isel(nemo_run=0).where(idx_kisf),levels=[0,1],linewidths=2,colors='black',zorder=10)\n",
    "    \n",
    "    ax[i].set_xticks([])\n",
    "    ax[i].set_yticks([])\n",
    "    ax[i].set_xlabel('')\n",
    "    ax[i].set_ylabel('')\n",
    "    ax[i].set_title('')\n",
    "\n",
    "\n",
    "plt.tight_layout()\n",
    "fig.savefig(plot_path+'idx_MAE_shuffled2D_'+nemo_run+'_'+TS_opt+'.png', dpi=300)\n"
   ]
  },
  {
   "cell_type": "code",
   "execution_count": null,
   "id": "daea1f0f-6c48-4f24-a3c6-f2424cff4ca7",
   "metadata": {},
   "outputs": [],
   "source": [
    "\n",
    "cmaph = mpl.colors.ListedColormap(new_palette)\n",
    "    \n",
    "fig, ax = plt.subplots(1,5)\n",
    "fig.set_size_inches(8.25*2.5, 8.25/2)\n",
    "\n",
    "for i,kisf in enumerate([10,11,66,31,44]):\n",
    "    kisf_mask = var_of_int['ISF_mask'].isel(nemo_run=0)==kisf\n",
    "    idx_kisf = idx_MAE.where(kisf_mask,drop=True)\n",
    "    idx_kisf.plot(ax=ax[i],cmap=cmaph, cbar_kwargs={\"location\": \"bottom\"})\n",
    "    ax[i].contour(idx_kisf.x,idx_kisf.y,var_of_int['box1_mask'].isel(nemo_run=0).where(idx_kisf),levels=[0,1],linewidths=2,colors='black',linestyles='--',zorder=10)\n",
    "    ax[i].contour(idx_kisf.x,idx_kisf.y,var_of_int['ground_mask'].isel(nemo_run=0).where(idx_kisf),levels=[0,1],linewidths=2,colors='black',zorder=10)\n",
    "    \n",
    "    ax[i].set_xticks([])\n",
    "    ax[i].set_yticks([])\n",
    "    ax[i].set_xlabel('')\n",
    "    ax[i].set_ylabel('')\n",
    "    ax[i].set_title('')\n",
    "\n",
    "\n",
    "plt.tight_layout()\n",
    "fig.savefig(plot_path+'idx_MAE_shuffled2D_'+nemo_run+'_'+TS_opt+'_withcolorbar.png', dpi=300)\n"
   ]
  },
  {
   "cell_type": "code",
   "execution_count": null,
   "id": "3bc70794-269f-4d89-a0c0-1ee1647a4f00",
   "metadata": {},
   "outputs": [],
   "source": [
    "max_MAE.where(kisf_mask,drop=True).plot()"
   ]
  },
  {
   "cell_type": "code",
   "execution_count": null,
   "id": "9e39fa98-5171-43a5-a8c1-c0562f0e899a",
   "metadata": {},
   "outputs": [],
   "source": [
    "sub_varlist = ['dGL','dIF','corrected_isfdraft','bathy_metry','slope_bed_lon','slope_bed_lat','slope_ice_lon','slope_ice_lat',\n",
    "                'theta_in','salinity_in','T_mean', 'S_mean', 'T_std', 'S_std']"
   ]
  },
  {
   "cell_type": "code",
   "execution_count": null,
   "id": "0d8f3b24-e052-4ac7-be03-9666de553e0b",
   "metadata": {},
   "outputs": [],
   "source": [
    "len(sub_varlist)"
   ]
  },
  {
   "cell_type": "code",
   "execution_count": null,
   "id": "c14b555e-aa27-47f1-8d98-a6676d75edc2",
   "metadata": {},
   "outputs": [],
   "source": [
    "diff_RMSE_Gt_okvar = diff_RMSE_Gt.sel(shuffled_var=var_list)\n",
    "diff_RMSE_Gt_norm = (diff_RMSE_Gt_okvar) / (abs(diff_RMSE_Gt_okvar).max('shuffled_var'))"
   ]
  },
  {
   "cell_type": "code",
   "execution_count": null,
   "id": "9dacc52f-ac90-489f-af17-b1cde00717be",
   "metadata": {},
   "outputs": [],
   "source": [
    "diff_RMSE_box1_okvar = diff_RMSE_box1.sel(shuffled_var=var_list)\n",
    "diff_RMSE_box1_norm = (diff_RMSE_box1_okvar) / (abs(diff_RMSE_box1_okvar).max('shuffled_var'))"
   ]
  },
  {
   "cell_type": "code",
   "execution_count": null,
   "id": "af496efa-be82-4d9c-8c56-bf9f07f3b271",
   "metadata": {},
   "outputs": [],
   "source": [
    "plt.figure(figsize=(8.24/1.5,8.24/1.25))\n",
    "sns.heatmap(diff_RMSE_Gt.sel(shuffled_var=var_list).round(1).T, annot=True, fmt=\"g\", yticklabels=var_list, center=0, cmap=mpl.cm.coolwarm, cbar=False) #, cmap=mpl.cm.Reds\n",
    "plt.savefig(plot_path+'mixedpermutation_importance_Gt_bothmodels_'+TS_opt+'_'+nemo_run+'_'+exp_name+'.pdf')"
   ]
  },
  {
   "cell_type": "code",
   "execution_count": null,
   "id": "72cc8819-85ac-43e9-8954-ea29c4314e19",
   "metadata": {},
   "outputs": [],
   "source": [
    "plt.figure(figsize=(8.24/1.5,8.24/1.25))\n",
    "sns.heatmap(diff_RMSE_box1.sel(shuffled_var=var_list).round(2).T, annot=True, fmt=\"g\", yticklabels=var_list, center=0, cmap=mpl.cm.coolwarm, cbar=False) #, cmap=mpl.cm.Reds\n",
    "plt.savefig(plot_path+'mixedpermutation_importance_box1_bothmodels_'+TS_opt+'_'+nemo_run+'_'+exp_name+'.pdf')"
   ]
  },
  {
   "cell_type": "code",
   "execution_count": null,
   "id": "8cb3ca1f-4d41-4999-878a-02eebbd12509",
   "metadata": {},
   "outputs": [],
   "source": [
    "plt.figure()\n",
    "sns.heatmap(diff_RMSE_Gt.sel(shuffled_var=sub_varlist).round(2).T, annot=True, fmt='d', yticklabels=sub_varlist, center=0, cmap=mpl.cm.coolwarm) #, cmap=mpl.cm.Reds\n",
    "plt.savefig(plot_path+'mixedpermutation_importance_Gt_bothmodels_subvar_'+exp_name+'.png')"
   ]
  },
  {
   "cell_type": "code",
   "execution_count": null,
   "id": "c25f1e75-65ef-4ab9-af90-076d32340146",
   "metadata": {},
   "outputs": [],
   "source": [
    "plt.figure()\n",
    "sns.heatmap(diff_RMSE_box1.sel(shuffled_var=sub_varlist).round(2).T, annot=True, fmt='d', yticklabels=sub_varlist, center=0, cmap=mpl.cm.coolwarm) #, cmap=mpl.cm.Reds\n",
    "plt.savefig(plot_path+'mixedpermutation_importance_box1_bothmodels_subvar_'+exp_name+'.png')"
   ]
  },
  {
   "cell_type": "code",
   "execution_count": null,
   "id": "7181cb9b-dcdb-4760-964f-9aa3a9dc7c92",
   "metadata": {},
   "outputs": [],
   "source": [
    "plt.figure()\n",
    "sns.heatmap(diff_RMSE_Gt_norm.sel(shuffled_var=var_list).round(2).T, annot=True, fmt='d', yticklabels=var_list, center=0, cmap=mpl.cm.coolwarm) #, cmap=mpl.cm.Reds\n",
    "plt.savefig(plot_path+'mixedpermutation_importance_Gt_norm_'+mod_size+'_'+exp_name+'.png')"
   ]
  },
  {
   "cell_type": "code",
   "execution_count": null,
   "id": "6a1cc812-5bc3-4a22-91a4-5ad9f208246f",
   "metadata": {},
   "outputs": [],
   "source": [
    "plt.figure()\n",
    "sns.heatmap(diff_RMSE_box1_norm.sel(shuffled_var=var_list).round(2).T, annot=True, fmt='d', yticklabels=var_list, center=0, cmap=mpl.cm.coolwarm) #, cmap=mpl.cm.Reds\n",
    "plt.savefig(plot_path+'mixedpermutation_importance_box1_norm_'+mod_size+'_'+exp_name+'.png')"
   ]
  },
  {
   "cell_type": "markdown",
   "id": "3514b5ec-10a7-444d-b1f5-286e10d44cab",
   "metadata": {},
   "source": [
    "REMOVE LARGE ONES"
   ]
  },
  {
   "cell_type": "code",
   "execution_count": null,
   "id": "cda03bb0-bec8-4587-9216-1c733a019988",
   "metadata": {},
   "outputs": [],
   "source": [
    "RMSE_Gt_all = np.sqrt((diff_Gt_all**2).drop_sel(Nisf=[4,10,11]).mean(['time','Nisf']))\n",
    "RMSE_box1_all = np.sqrt((diff_box1_all**2).drop_sel(Nisf=[4,10,11]).mean(['Nisf']))"
   ]
  },
  {
   "cell_type": "code",
   "execution_count": null,
   "id": "21abc0a7-b542-42ab-8abe-6f7d9d2069e4",
   "metadata": {},
   "outputs": [],
   "source": [
    "RMSE_Gt_orig = np.sqrt((diff_Gt_orig**2).drop_sel(Nisf=[4,10,11]).mean(['time','Nisf']))\n",
    "RMSE_box1_orig = np.sqrt((diff_box1_orig**2).drop_sel(Nisf=[4,10,11]).mean(['Nisf']))"
   ]
  },
  {
   "cell_type": "code",
   "execution_count": null,
   "id": "3f7fc0f8-d1cb-4d16-a2ce-ecd323f1c1cd",
   "metadata": {},
   "outputs": [],
   "source": [
    "diff_RMSE_Gt = RMSE_Gt_all - RMSE_Gt_orig\n",
    "diff_RMSE_box1 = RMSE_box1_all - RMSE_box1_orig"
   ]
  },
  {
   "cell_type": "code",
   "execution_count": null,
   "id": "eb0d7da5-5e7a-42f3-8466-eab8b07d2655",
   "metadata": {},
   "outputs": [],
   "source": [
    "diff_RMSE_Gt_okvar = diff_RMSE_Gt.sel(shuffled_var=var_list)\n",
    "diff_RMSE_Gt_norm = (diff_RMSE_Gt_okvar) / (abs(diff_RMSE_Gt_okvar).max('shuffled_var'))"
   ]
  },
  {
   "cell_type": "code",
   "execution_count": null,
   "id": "7ea018ad-c1e3-4568-aa3a-04918d105d44",
   "metadata": {},
   "outputs": [],
   "source": [
    "diff_RMSE_box1_okvar = diff_RMSE_box1.sel(shuffled_var=var_list)\n",
    "diff_RMSE_box1_norm = (diff_RMSE_box1_okvar) / (abs(diff_RMSE_box1_okvar).max('shuffled_var'))"
   ]
  },
  {
   "cell_type": "code",
   "execution_count": null,
   "id": "a9c12b82-b57f-4d68-aa0a-b2376f22dc12",
   "metadata": {},
   "outputs": [],
   "source": [
    "plt.figure()\n",
    "sns.heatmap(diff_RMSE_Gt.sel(shuffled_var=var_list).round(2).T, annot=True, yticklabels=var_list, center=0, cmap=mpl.cm.coolwarm) #, cmap=mpl.cm.Reds\n",
    "plt.savefig(plot_path+'permutation_importance_Gt_'+mod_size+'_'+exp_name+'_wolargeones.png')"
   ]
  },
  {
   "cell_type": "code",
   "execution_count": null,
   "id": "944c868b-440d-49ef-bf6e-c853da084a34",
   "metadata": {},
   "outputs": [],
   "source": [
    "plt.figure()\n",
    "sns.heatmap(diff_RMSE_box1.sel(shuffled_var=var_list).round(2).T, annot=True, yticklabels=var_list, center=0, cmap=mpl.cm.coolwarm) #, cmap=mpl.cm.Reds\n",
    "plt.savefig(plot_path+'permutation_importance_box1_'+mod_size+'_'+exp_name+'_wolargeones.png')"
   ]
  },
  {
   "cell_type": "code",
   "execution_count": null,
   "id": "277b0e23-9ae4-4d20-919b-c97844463c4a",
   "metadata": {},
   "outputs": [],
   "source": [
    "plt.figure()\n",
    "sns.heatmap(diff_RMSE_Gt_norm.sel(shuffled_var=var_list).round(2).T, annot=True, yticklabels=var_list, center=0, cmap=mpl.cm.coolwarm) #, cmap=mpl.cm.Reds\n",
    "plt.savefig(plot_path+'permutation_importance_Gt_norm_'+mod_size+'_'+exp_name+'_wolargeones.png')"
   ]
  },
  {
   "cell_type": "code",
   "execution_count": null,
   "id": "67bcc21f-9182-4486-bc9e-2865f8500903",
   "metadata": {},
   "outputs": [],
   "source": [
    "plt.figure()\n",
    "sns.heatmap(diff_RMSE_box1_norm.sel(shuffled_var=var_list).round(2).T, annot=True, yticklabels=var_list, center=0, cmap=mpl.cm.coolwarm) #, cmap=mpl.cm.Reds\n",
    "plt.savefig(plot_path+'permutation_importance_box1_norm_'+mod_size+'_'+exp_name+'_wolargeones.png')"
   ]
  },
  {
   "cell_type": "code",
   "execution_count": null,
   "id": "3d84f5d5-11dd-4dcf-9016-56067128a11c",
   "metadata": {
    "tags": []
   },
   "outputs": [],
   "source": [
    "\n",
    "plt.figure()\n",
    "sns.heatmap(abs(diff_RMSE_Gt.sel(shuffled_var=var_list).round(2).T), annot=True, center=0, yticklabels=var_list) #, cmap=mpl.cm.Reds\n"
   ]
  },
  {
   "cell_type": "code",
   "execution_count": null,
   "id": "f1c3d5fc-ccd4-4bbe-bebd-47593728441b",
   "metadata": {},
   "outputs": [],
   "source": [
    "\n",
    "plt.figure()\n",
    "#sns.heatmap(abs(diff_RMSE_box1.sel(shuffled_var=var_list).round(2).expand_dims(dim={\"dim1\": 1}).T), annot=True, center=0, yticklabels=var_list, cmap=mpl.cm.Reds) #\n",
    "sns.heatmap(abs(diff_RMSE_box1.sel(shuffled_var=var_list).round(2).T), annot=True, center=0, yticklabels=var_list) #cmap=\"YlOrBr\"\n"
   ]
  },
  {
   "cell_type": "code",
   "execution_count": null,
   "id": "afbb14a2-a8d1-4724-a82d-e04b14090978",
   "metadata": {},
   "outputs": [],
   "source": [
    "\n",
    "plt.figure()\n",
    "sns.heatmap(diff_RMSE_box1.isel(nn_model=0).sel(shuffled_var=sub_varlist).round(2).rename('diff_RMSE'), annot=True, center=0, cmap=mpl.cm.Reds, yticklabels=sub_varlist)\n"
   ]
  },
  {
   "cell_type": "code",
   "execution_count": null,
   "id": "57788ec1-599a-4af6-9ee7-b29ad75cb76b",
   "metadata": {},
   "outputs": [],
   "source": [
    "plt.figure()\n",
    "sns.heatmap(diff_RMSE_Gt.isel(nn_model=0).sel(shuffled_var=var_list).round(2).rename('diff_RMSE'), annot=True, center=0, cmap=mpl.cm.Reds, yticklabels=var_list, xticklabels=run_list)\n",
    "plt.savefig(plot_path+'permutation_importance_Gt_yr_'+timetag+'.png')"
   ]
  },
  {
   "cell_type": "code",
   "execution_count": null,
   "id": "0ca02c14-5a39-4c6c-b102-f74bf670647e",
   "metadata": {},
   "outputs": [],
   "source": [
    "plt.figure()\n",
    "sns.heatmap(diff_RMSE_box1.isel(nn_model=0).sel(shuffled_var=var_list).round(2).rename('diff_RMSE'), annot=True, center=0, cmap=mpl.cm.Reds, yticklabels=var_list, xticklabels=run_list)\n",
    "plt.savefig(plot_path+'permutation_importance_box1_'+timetag+'.png')"
   ]
  },
  {
   "cell_type": "code",
   "execution_count": null,
   "id": "a9c111f6-219a-4e00-916e-5dfbf9dc13f2",
   "metadata": {},
   "outputs": [],
   "source": [
    "diff_RMSE_Gt.sel(shuffled_var='T_profiles')"
   ]
  },
  {
   "cell_type": "code",
   "execution_count": null,
   "id": "88d263bb-ddac-4d12-a8c7-b7263b8baf53",
   "metadata": {},
   "outputs": [],
   "source": [
    "plot_path"
   ]
  },
  {
   "cell_type": "code",
   "execution_count": null,
   "id": "11b4ad5f-f0e8-4a81-b8f5-cc30b73bfc34",
   "metadata": {},
   "outputs": [],
   "source": []
  }
 ],
 "metadata": {
  "kernelspec": {
   "display_name": "py38",
   "language": "python",
   "name": "py38"
  },
  "language_info": {
   "codemirror_mode": {
    "name": "ipython",
    "version": 3
   },
   "file_extension": ".py",
   "mimetype": "text/x-python",
   "name": "python",
   "nbconvert_exporter": "python",
   "pygments_lexer": "ipython3",
   "version": "3.8.12"
  }
 },
 "nbformat": 4,
 "nbformat_minor": 5
}
