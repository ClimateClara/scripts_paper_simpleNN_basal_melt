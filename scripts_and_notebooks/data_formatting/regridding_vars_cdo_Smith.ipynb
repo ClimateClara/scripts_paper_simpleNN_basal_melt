{
 "cells": [
  {
   "cell_type": "code",
   "execution_count": null,
   "id": "hundred-eclipse",
   "metadata": {},
   "outputs": [],
   "source": [
    "\"\"\"\n",
    "Created on Fri Feb 12 14:27 2021\n",
    "\n",
    "Use cdo to regrid the variables to stereographic grid with cdo\n",
    "to be used after \"custom_lsmask_Smith.ipynb\"\n",
    "\n",
    "@author: Clara Burgard\n",
    "\"\"\""
   ]
  },
  {
   "cell_type": "code",
   "execution_count": null,
   "id": "primary-principal",
   "metadata": {},
   "outputs": [],
   "source": [
    "import xarray as xr\n",
    "import numpy as np\n",
    "import matplotlib.pyplot as plt\n",
    "from pyproj import Transformer\n",
    "import pandas as pd\n",
    "import sys,os\n",
    "from cdo import Cdo\n",
    "import time\n",
    "from tqdm.notebook import tqdm"
   ]
  },
  {
   "cell_type": "code",
   "execution_count": null,
   "id": "roman-frontier",
   "metadata": {},
   "outputs": [],
   "source": [
    "%matplotlib qt5"
   ]
  },
  {
   "cell_type": "code",
   "execution_count": null,
   "id": "technological-doctrine",
   "metadata": {},
   "outputs": [],
   "source": [
    "cdo = Cdo()\n",
    "print('this is CDO version %s'%(cdo.version()))"
   ]
  },
  {
   "cell_type": "markdown",
   "id": "5cbbe124-1a43-4dad-8a6b-c10fae12298e",
   "metadata": {},
   "source": [
    "PREPARE PATH AND CONTEXT"
   ]
  },
  {
   "cell_type": "code",
   "execution_count": null,
   "id": "3b7e8ad1-a8f0-4576-aa86-64551ee6ef6d",
   "metadata": {},
   "outputs": [],
   "source": [
    "nemo_run = 'bf663' # 'bf663','bi646'"
   ]
  },
  {
   "cell_type": "code",
   "execution_count": null,
   "id": "grateful-register",
   "metadata": {},
   "outputs": [],
   "source": [
    "outputpath = '/bettik/burgardc/DATA/NN_PARAM/interim/SMITH_'+nemo_run+'/'"
   ]
  },
  {
   "cell_type": "markdown",
   "id": "aebf28ab-f064-4752-b19d-f7d8d0ad88d5",
   "metadata": {},
   "source": [
    "REGRIDDING THE MELT"
   ]
  },
  {
   "cell_type": "code",
   "execution_count": null,
   "id": "unauthorized-concrete",
   "metadata": {},
   "outputs": [],
   "source": [
    "# write melt to its own file\n",
    "check = xr.open_dataset(outputpath+'2D_variables_of_interest_allyy_Ant.nc')\n",
    "check['melt_cavity'] = check['sowflisf'].where(np.isfinite(check['sowflisf']),0)\n",
    "check2 = check[['melt_cavity']]\n",
    "check2.to_netcdf(outputpath+'cavity_melt_allyy_Ant.nc')"
   ]
  },
  {
   "cell_type": "code",
   "execution_count": null,
   "id": "accomplished-photographer",
   "metadata": {},
   "outputs": [],
   "source": [
    "# regrid to stereographic\n",
    "time_start = time.time()\n",
    "cdo.remapbil(outputpath+'stereo_grid.nc', input = outputpath+'cavity_melt_allyy_Ant.nc', output = outputpath+'cavity_melt_allyy_Ant_stereo.nc')\n",
    "timelength = time.time() - time_start\n",
    "print(timelength)"
   ]
  },
  {
   "cell_type": "markdown",
   "id": "1dac0174-7a66-4284-977a-f6da83fdbe8a",
   "metadata": {},
   "source": [
    "REGRIDDING ALL OTHER VARIABLES OF INTEREST"
   ]
  },
  {
   "cell_type": "code",
   "execution_count": null,
   "id": "photographic-drawing",
   "metadata": {},
   "outputs": [],
   "source": [
    "time_start = time.time()\n",
    "cdo.remapbil(outputpath+'stereo_grid.nc', input = outputpath+'2D_variables_of_interest_allyy_Ant.nc', output = outputpath+'2D_variables_of_interest_allyy_Ant_stereo.nc')\n",
    "timelength = time.time() - time_start\n",
    "print(timelength)"
   ]
  },
  {
   "cell_type": "code",
   "execution_count": null,
   "id": "7a4feb99-8434-4add-84f2-f7df0a42b1cd",
   "metadata": {},
   "outputs": [],
   "source": [
    "time_start = time.time()\n",
    "cdo.remapbil(outputpath+'stereo_grid.nc', input = outputpath+'3D_variables_of_interest_allyy_Ant.nc', output = outputpath+'3D_variables_of_interest_allyy_Ant_stereo.nc')\n",
    "timelength = time.time() - time_start\n",
    "print(timelength)"
   ]
  },
  {
   "cell_type": "code",
   "execution_count": null,
   "id": "f824cc3e-eba2-4fec-8235-152c1e591c05",
   "metadata": {},
   "outputs": [],
   "source": [
    "for yy in range(1970,1970+103): \n",
    "    print(yy)\n",
    "    time_start = time.time()\n",
    "    cdo.remapbil(outputpath+'stereo_grid.nc', input = outputpath+'TandS_allyy_Ant_withNaN_'+str(yy)+'.nc', output = outputpath+'3D_variables_of_interest_allyy_Ant_stereo_'+str(yy)+'.nc')\n",
    "    timelength = time.time() - time_start\n",
    "    print(timelength)"
   ]
  },
  {
   "cell_type": "code",
   "execution_count": null,
   "id": "98fdef38-ede2-4ca1-a3b1-d3f5abb0e192",
   "metadata": {},
   "outputs": [],
   "source": [
    "print('computing mask')\n",
    "time_start = time.time()\n",
    "cdo.remapbil(outputpath+'stereo_grid.nc', input = outputpath+'mask_variables_of_interest_allyy_Ant.nc', output = outputpath+'mask_variables_of_interest_allyy_Ant_stereo.nc')\n",
    "timelength = time.time() - time_start\n",
    "print(timelength)"
   ]
  },
  {
   "cell_type": "markdown",
   "id": "f460bdfe-8cb4-4a50-9410-94f0bb3a7937",
   "metadata": {},
   "source": [
    "FINISHED? GOOD! THEN YOU ARE READY TO GO TO THE PRE-PROCESSING OF THE MASKS AND TEMPERATURE & SALINITY PROFILES =)"
   ]
  }
 ],
 "metadata": {
  "kernelspec": {
   "display_name": "py38",
   "language": "python",
   "name": "py38"
  },
  "language_info": {
   "codemirror_mode": {
    "name": "ipython",
    "version": 3
   },
   "file_extension": ".py",
   "mimetype": "text/x-python",
   "name": "python",
   "nbconvert_exporter": "python",
   "pygments_lexer": "ipython3",
   "version": "3.8.12"
  }
 },
 "nbformat": 4,
 "nbformat_minor": 5
}
