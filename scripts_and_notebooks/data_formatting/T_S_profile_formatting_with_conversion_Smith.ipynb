{
 "cells": [
  {
   "cell_type": "code",
   "execution_count": null,
   "id": "terminal-playback",
   "metadata": {},
   "outputs": [],
   "source": [
    "\"\"\"\n",
    "Created on Fri Jun 4 15:50 2020\n",
    "\n",
    "This is a script to convert the NEMO temperature and salinity to potential temperature and practical salinity\n",
    "\n",
    "@author: Clara Burgard\n",
    "\"\"\""
   ]
  },
  {
   "cell_type": "code",
   "execution_count": null,
   "id": "ongoing-qualification",
   "metadata": {},
   "outputs": [],
   "source": [
    "import xarray as xr\n",
    "import numpy as np\n",
    "import pandas as pd\n",
    "from tqdm.notebook import tqdm\n",
    "import gsw\n",
    "import matplotlib.pyplot as plt\n",
    "import multimelt.useful_functions as uf\n",
    "\n",
    "import itertools\n",
    "\n",
    "import distributed\n",
    "import glob"
   ]
  },
  {
   "cell_type": "code",
   "execution_count": null,
   "id": "early-appliance",
   "metadata": {},
   "outputs": [],
   "source": [
    "client = distributed.Client(n_workers=18, dashboard_address=':8795', local_directory='/tmp', memory_limit='6GB')"
   ]
  },
  {
   "cell_type": "code",
   "execution_count": null,
   "id": "greatest-whole",
   "metadata": {},
   "outputs": [],
   "source": [
    "client"
   ]
  },
  {
   "cell_type": "code",
   "execution_count": null,
   "id": "legal-builder",
   "metadata": {},
   "outputs": [],
   "source": [
    "%matplotlib qt5"
   ]
  },
  {
   "cell_type": "markdown",
   "id": "moral-median",
   "metadata": {},
   "source": [
    "READ IN DATA"
   ]
  },
  {
   "cell_type": "code",
   "execution_count": null,
   "id": "b6b2c5aa-01a5-4198-973d-545929b687bd",
   "metadata": {},
   "outputs": [],
   "source": [
    "nemo_run = 'bf663' # 'bf663','bi646' "
   ]
  },
  {
   "cell_type": "code",
   "execution_count": null,
   "id": "favorite-denial",
   "metadata": {},
   "outputs": [],
   "source": [
    "inputpath_data='/bettik/burgardc/DATA/NN_PARAM/interim/SMITH_'+nemo_run+'/'\n",
    "inputpath_profiles='/bettik/burgardc/DATA/NN_PARAM/interim/T_S_PROF/SMITH_'+nemo_run+'/'\n",
    "inputpath_isf='/bettik/burgardc/DATA/NN_PARAM/interim/ANTARCTICA_IS_MASKS/SMITH_'+nemo_run+'/'\n",
    "\n",
    "# make the domain a little smaller to make the computation even more efficient - file isf has already been made smaller at its creation\n",
    "map_lim = [-3000000,3000000]"
   ]
  },
  {
   "cell_type": "code",
   "execution_count": null,
   "id": "6c2bc7df-0a6c-4ae1-9287-5ddd5e1426ba",
   "metadata": {},
   "outputs": [],
   "source": [
    "file_mask = xr.open_dataset(inputpath_data+'mask_variables_of_interest_allyy_Ant_stereo.nc')#, chunks={'x': 600, 'y': 600})\n",
    "file_mask2 = xr.open_dataset(inputpath_data+'mask_depth_coord_Ant_stereo.nc')\n"
   ]
  },
  {
   "cell_type": "code",
   "execution_count": null,
   "id": "44dd23f4-3278-4de5-95de-98de184f668f",
   "metadata": {},
   "outputs": [],
   "source": [
    "file_isf_1970 = xr.open_dataset(inputpath_isf+'nemo_5km_isf_masks_and_info_and_distance_oneFRIS_1970.nc')\n",
    "file_isf_1970_cutted = uf.cut_domain_stereo(file_isf_1970, map_lim, map_lim)#.squeeze().drop('time')\n",
    "\n",
    "file_mask_cutted = uf.cut_domain_stereo(file_mask, map_lim, map_lim)#.squeeze().drop('time')\n"
   ]
  },
  {
   "cell_type": "code",
   "execution_count": null,
   "id": "secure-dancing",
   "metadata": {},
   "outputs": [],
   "source": [
    "lon = file_isf_1970_cutted['longitude']\n",
    "lat = file_isf_1970_cutted['latitude']"
   ]
  },
  {
   "cell_type": "markdown",
   "id": "respiratory-replica",
   "metadata": {},
   "source": [
    "Prepare the depth axis"
   ]
  },
  {
   "cell_type": "code",
   "execution_count": null,
   "id": "thorough-deposit",
   "metadata": {},
   "outputs": [],
   "source": [
    "nemo_depth = np.round(file_mask2['gdept_0'].squeeze(dim=['lon','lat']), 3) # round to mm scale - should be enough"
   ]
  },
  {
   "cell_type": "markdown",
   "id": "binding-thread",
   "metadata": {},
   "source": [
    "Cut out the temperature and salinity and assign the new depth axis"
   ]
  },
  {
   "cell_type": "markdown",
   "id": "purple-wednesday",
   "metadata": {},
   "source": [
    "CONVERT ABSOLUTE SALIINITY TO PRACTICAL SALINITY IN OPEN OCEAN REGIONS"
   ]
  },
  {
   "cell_type": "code",
   "execution_count": null,
   "id": "4747ef22-5c12-48dc-81c1-65fea4d6514d",
   "metadata": {},
   "outputs": [],
   "source": [
    "for tt,timet in enumerate(range(1970,2051)): \n",
    "    print(timet)\n",
    "    \n",
    "    ds_ts  = xr.open_dataset(inputpath_data + '3D_variables_of_interest_allyy_Ant_stereo_'+str(timet)+'.nc') #, chunks={'x': 600, 'y': 600})\n",
    "    ds_ts_cutted = uf.cut_domain_stereo(ds_ts, map_lim, map_lim)\n",
    "    ds_temp_saline_input = ds_ts_cutted[['thetao', 'so']]\n",
    "    ds_temp_saline_input = ds_temp_saline_input.rename({'thetao': 'temperature', 'so': 'salinity'})\n",
    "    ds_temp_saline_input = ds_temp_saline_input.rename({'deptht': 'depth'})\n",
    "    ds_temp_saline_input['depth'] = np.round(ds_temp_saline_input.depth, 3)\n",
    "    ds_temp_saline_input = ds_temp_saline_input.assign_coords(depth=nemo_depth.values)\n",
    "    \n",
    "    file_isf = xr.open_dataset(inputpath_isf+'nemo_5km_isf_masks_and_info_and_distance_oneFRIS_'+str(timet)+'.nc')\n",
    "    file_isf_cutted = uf.cut_domain_stereo(file_isf, map_lim, map_lim)#.squeeze().drop('time')\n",
    "    mask_ocean = file_isf_cutted['ISF_mask'] == 1  #ocean without ice shelf cavity\n",
    "    \n",
    "    ds_temp_saline_input['theta_ocean'] = ds_temp_saline_input['temperature'].where(mask_ocean) \n",
    "    ds_temp_saline_input['salinity_ocean'] = xr.apply_ufunc(gsw.SP_from_SA, ds_temp_saline_input['salinity'].where(mask_ocean), ds_temp_saline_input['depth'], lon, lat, dask = 'allowed')\n",
    "    ds_temp_saline_output = ds_temp_saline_input[['theta_ocean', 'salinity_ocean']]\n",
    "    ds_temp_saline_output.to_netcdf(inputpath_profiles + 'T_S_theta_ocean_corrected_'+str(timet)+'.nc')"
   ]
  },
  {
   "cell_type": "markdown",
   "id": "3e4240db-b6be-481e-b183-3e430423f825",
   "metadata": {},
   "source": [
    "NOW CONTINUE WITH T_S_profile_front_Smith.ipynb"
   ]
  },
  {
   "cell_type": "code",
   "execution_count": null,
   "id": "88980f39-a2bd-4b24-a601-e2f6510ccec8",
   "metadata": {},
   "outputs": [],
   "source": []
  }
 ],
 "metadata": {
  "kernelspec": {
   "display_name": "py38",
   "language": "python",
   "name": "py38"
  },
  "language_info": {
   "codemirror_mode": {
    "name": "ipython",
    "version": 3
   },
   "file_extension": ".py",
   "mimetype": "text/x-python",
   "name": "python",
   "nbconvert_exporter": "python",
   "pygments_lexer": "ipython3",
   "version": "3.8.12"
  }
 },
 "nbformat": 4,
 "nbformat_minor": 5
}
