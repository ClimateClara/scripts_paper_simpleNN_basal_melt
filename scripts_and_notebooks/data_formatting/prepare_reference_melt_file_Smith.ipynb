{
 "cells": [
  {
   "cell_type": "code",
   "execution_count": null,
   "id": "48a4f118-5c0b-4ac3-975b-d57631642043",
   "metadata": {},
   "outputs": [],
   "source": [
    "\"\"\"\n",
    "Created on Fri Apr 8 10:29 2022\n",
    "\n",
    "Prepare reference metrics in NEMO for tuning and evaluation\n",
    "\n",
    "@author: Clara Burgard\n",
    "\"\"\""
   ]
  },
  {
   "cell_type": "code",
   "execution_count": null,
   "id": "d21425c4-9233-4042-a62d-13046ef1afd9",
   "metadata": {},
   "outputs": [],
   "source": [
    "import xarray as xr\n",
    "import numpy as np\n",
    "import pandas as pd\n",
    "from tqdm.notebook import tqdm\n",
    "import matplotlib.pyplot as plt\n",
    "import multimelt.useful_functions as uf\n",
    "from multimelt.constants import *\n",
    "import matplotlib as mpl\n",
    "import glob"
   ]
  },
  {
   "cell_type": "code",
   "execution_count": null,
   "id": "516b2665-0086-4c4a-b95b-043215ccf9c7",
   "metadata": {},
   "outputs": [],
   "source": [
    "# make the domain a little smaller to make the computation even more efficient - file isf has already been made smaller at its creation\n",
    "map_lim = [-3000000,3000000]"
   ]
  },
  {
   "cell_type": "code",
   "execution_count": null,
   "id": "e802d65f-2f24-4f62-8793-2c23bc1ce8e7",
   "metadata": {},
   "outputs": [],
   "source": [
    "nemo_run = 'bi646' # 'bf663','bi646' "
   ]
  },
  {
   "cell_type": "markdown",
   "id": "7c008fde-844f-42c0-b7c8-ad6746b88e7e",
   "metadata": {},
   "source": [
    "READ IN DATA"
   ]
  },
  {
   "cell_type": "code",
   "execution_count": null,
   "id": "3666d6a0-45fd-482b-859e-f39bdf25934f",
   "metadata": {},
   "outputs": [],
   "source": [
    "inputpath_data='/bettik/burgardc/DATA/NN_PARAM/interim/SMITH_'+nemo_run+'/'\n",
    "inputpath_mask='/bettik/burgardc/DATA/NN_PARAM/interim/ANTARCTICA_IS_MASKS/SMITH_'+nemo_run+'/'\n",
    "inputpath_profiles='/bettik/burgardc/DATA/NN_PARAM/interim/T_S_PROF/SMITH_'+nemo_run+'/'\n",
    "inputpath_plumes='/bettik/burgardc/DATA/NN_PARAM/interim/PLUMES/SMITH_'+nemo_run+'/'\n",
    "inputpath_boxes='/bettik/burgardc/DATA/NN_PARAM/interim/BOXES/SMITH_'+nemo_run+'/'\n",
    "outputpath_melt = '/bettik/burgardc/DATA/NN_PARAM/interim/SMITH_'+nemo_run+'/'\n",
    "outputpath = '/bettik/burgardc/DATA/NN_PARAM/interim/'"
   ]
  },
  {
   "cell_type": "code",
   "execution_count": null,
   "id": "138d1c6c-711a-42b7-ba6b-68b26bfc10cd",
   "metadata": {},
   "outputs": [],
   "source": [
    "file_conc = xr.open_dataset(inputpath_data+'isfdraft_conc_Ant_stereo.nc')\n",
    "file_conc_cut = uf.cut_domain_stereo(file_conc, map_lim, map_lim)#.chunk(chunks={'x': chunk_size, 'y': chunk_size})"
   ]
  },
  {
   "cell_type": "code",
   "execution_count": null,
   "id": "987ee02d-6fc8-4370-8c49-852422dfe869",
   "metadata": {},
   "outputs": [],
   "source": [
    "ds_melt = xr.open_dataset(inputpath_data+'cavity_melt_allyy_Ant_stereo.nc')#, chunks={'x': chunksize, 'y': chunksize})\n",
    "ds_melt = ds_melt.assign_coords({'time': file_conc.time})\n",
    "ds_melt_cut = uf.cut_domain_stereo(ds_melt, map_lim, map_lim)\n"
   ]
  },
  {
   "cell_type": "markdown",
   "id": "7566c494-9cf0-4c4a-8d83-d03766faf29d",
   "metadata": {},
   "source": [
    "INTEGRATED MELT"
   ]
  },
  {
   "cell_type": "code",
   "execution_count": null,
   "id": "6e93ceaf-54bf-4e26-b456-3dc6279a69c4",
   "metadata": {},
   "outputs": [],
   "source": [
    "for tt in tqdm(range(1970,2051)):\n",
    "    \n",
    "    file_isf_orig = xr.open_dataset(inputpath_mask+'nemo_5km_isf_masks_and_info_and_distance_oneFRIS_'+str(tt)+'.nc')\n",
    "    nonnan_Nisf = file_isf_orig['Nisf'].where(np.isfinite(file_isf_orig['front_bot_depth_max']), drop=True).astype(int)\n",
    "    file_isf_nonnan = file_isf_orig.sel(Nisf=nonnan_Nisf)\n",
    "    large_isf = file_isf_nonnan['Nisf'].where(file_isf_nonnan['isf_area_here'] >= 2500, drop=True)\n",
    "    file_isf = file_isf_nonnan.sel(Nisf=large_isf)\n",
    "    \n",
    "    file_conc_yy = file_conc_cut['isfdraft_conc'].sel(time=tt)\n",
    "    ds_melt_yy = ds_melt_cut.sel(time=tt)\n",
    "    \n",
    "    ### 2D\n",
    "    isf_mask = (file_isf['ISF_mask'] == file_isf.Nisf)\n",
    "    \n",
    "    xx = file_isf.x\n",
    "    yy = file_isf.y\n",
    "    dx = (xx[2] - xx[1]).values\n",
    "    dy = (yy[2] - yy[1]).values\n",
    "    grid_cell_area = abs(dx*dy)\n",
    "    \n",
    "    melt_m_ice_per_y_whole_cell = -1*(ds_melt_yy['melt_cavity']*yearinsec/rho_i) # convert from kg/m2/s\n",
    "    melt_m_ice_per_y = melt_m_ice_per_y_whole_cell/file_conc_yy # correct by ice shelf concentration\n",
    "    melt_m_ice_per_y.to_dataset(name='melt_m_ice_per_y').to_netcdf(outputpath_melt+'melt_rates_2D_NEMO_'+str(tt)+'.nc')\n",
    "    \n",
    "    ### 1D\n",
    "    chunked_mask = isf_mask.chunk({'x': 500, 'y': 500})\n",
    "    file_isf_conc = file_conc_yy.where(chunked_mask)\n",
    "    melt_m_ice_per_y_avg = melt_m_ice_per_y_whole_cell.where(chunked_mask).mean(['x','y'])\n",
    "    \n",
    "    NEMO_melt_rates_1D = xr.Dataset({'melt_m_ice_per_y_avg': (melt_m_ice_per_y_avg.dims, melt_m_ice_per_y_avg.data)}, \n",
    "                                coords=melt_m_ice_per_y_avg.coords)\n",
    "    \n",
    "    NEMO_melt_rates_1D['melt_Gt_per_y_tot'] = -1*ds_melt_yy['melt_cavity'].where(chunked_mask).sum(['x','y']) * grid_cell_area * yearinsec / 10**12\n",
    "\n",
    "    NEMO_melt_rates_1D['isf_area'] = (isf_mask*file_isf_conc).sum(['x','y'])*grid_cell_area\n",
    "    NEMO_melt_rates_1D.to_netcdf(outputpath_melt+'melt_rates_1D_NEMO_oneFRIS_'+str(tt)+'.nc','w')"
   ]
  },
  {
   "cell_type": "markdown",
   "id": "c140bab7-55ee-4141-8e5a-b3148e93ac67",
   "metadata": {},
   "source": [
    "MELT NEAR THE GROUNDING LINE"
   ]
  },
  {
   "cell_type": "code",
   "execution_count": null,
   "id": "43abe8cb-9b68-41c2-a302-f9efa2eee96e",
   "metadata": {},
   "outputs": [],
   "source": [
    "### BOX 1\n",
    "for tt in tqdm(range(1970,1970 + 72)):\n",
    "    \n",
    "    file_isf_orig = xr.open_dataset(inputpath_mask+'nemo_5km_isf_masks_and_info_and_distance_oneFRIS_'+str(tt)+'.nc')\n",
    "    nonnan_Nisf = file_isf_orig['Nisf'].where(np.isfinite(file_isf_orig['front_bot_depth_max']), drop=True).astype(int)\n",
    "    file_isf_nonnan = file_isf_orig.sel(Nisf=nonnan_Nisf)\n",
    "    large_isf = file_isf_nonnan['Nisf'].where(file_isf_nonnan['isf_area_here'] >= 2500, drop=True)\n",
    "    file_isf = file_isf_nonnan.sel(Nisf=large_isf)\n",
    "    \n",
    "    file_conc_yy = file_conc_cut['isfdraft_conc'].sel(time=tt)\n",
    "    \n",
    "    xx = file_isf.x\n",
    "    yy = file_isf.y\n",
    "    dx = (xx[2] - xx[1]).values\n",
    "    dy = (yy[2] - yy[1]).values\n",
    "\n",
    "    grid_cell_area = abs(dx*dy)  \n",
    "    grid_cell_area_weighted = file_conc_yy * grid_cell_area\n",
    "\n",
    "    isf_stack_mask = uf.create_stacked_mask(file_isf['ISF_mask'], file_isf.Nisf, ['y','x'], 'mask_coord').drop('time')\n",
    "\n",
    "    # Box characteristics\n",
    "    box_charac_all_2D = xr.open_dataset(inputpath_boxes + 'nemo_5km_boxes_2D_oneFRIS_'+str(tt)+'_merged75.nc')\n",
    "    box_charac_all_1D = xr.open_dataset(inputpath_boxes + 'nemo_5km_boxes_1D_oneFRIS_'+str(tt)+'_merged75.nc')\n",
    "    box_loc_config2 = box_charac_all_2D['box_location'].sel(box_nb_tot=box_charac_all_1D['nD_config'].sel(config=2))\n",
    "\n",
    "    box1 = box_loc_config2.where(box_loc_config2==1).isel(Nisf=1).drop('Nisf')\n",
    "\n",
    "    # Reference 2D \n",
    "    ref_melt_2D = xr.open_dataset(outputpath_melt+'melt_rates_2D_NEMO_'+str(tt)+'.nc')\n",
    "\n",
    "    # Reference (in m/yr)\n",
    "    box1_list = []\n",
    "    ref_box1_myr_list = []\n",
    "\n",
    "    for kisf in file_isf.Nisf.values:\n",
    "        isf_conc_isf = uf.choose_isf(file_conc_yy, isf_stack_mask, kisf)\n",
    "        box_loc_config_stacked = uf.choose_isf(box1, isf_stack_mask, kisf)\n",
    "        ref_melt_2D_box1_isf = uf.choose_isf(ref_melt_2D['melt_m_ice_per_y'], isf_stack_mask, kisf).where(np.isfinite(box_loc_config_stacked))\n",
    "        ref_melt_2D_box1_isf_mean = uf.weighted_mean(ref_melt_2D_box1_isf,['mask_coord'], isf_conc_isf)\n",
    "        ref_box1_myr_list.append(ref_melt_2D_box1_isf_mean)\n",
    "\n",
    "    ref_box1_myr_all = xr.concat(ref_box1_myr_list, dim='Nisf')\n",
    "    ref_box1_myr_all.to_dataset(name='mean_melt_box1_myr').to_netcdf(outputpath_melt+'melt_rates_box1_NEMO_oneFRIS_'+str(tt)+'.nc')"
   ]
  },
  {
   "cell_type": "code",
   "execution_count": null,
   "id": "d88ae89d-d468-4dc2-94fc-8b4125addafe",
   "metadata": {},
   "outputs": [],
   "source": []
  }
 ],
 "metadata": {
  "kernelspec": {
   "display_name": "py38",
   "language": "python",
   "name": "py38"
  },
  "language_info": {
   "codemirror_mode": {
    "name": "ipython",
    "version": 3
   },
   "file_extension": ".py",
   "mimetype": "text/x-python",
   "name": "python",
   "nbconvert_exporter": "python",
   "pygments_lexer": "ipython3",
   "version": "3.8.12"
  }
 },
 "nbformat": 4,
 "nbformat_minor": 5
}
