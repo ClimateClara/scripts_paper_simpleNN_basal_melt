{
 "cells": [
  {
   "cell_type": "code",
   "execution_count": null,
   "id": "39f5dfe2-7fa8-458b-a30c-e0a11be8d55f",
   "metadata": {},
   "outputs": [],
   "source": [
    "\"\"\"\n",
    "Created on Fri Sep 09 14:24 2022\n",
    "\n",
    "Convert \"raw output\" from the model to 2D maps - for the figure only tblocks 11, 12, 13 needed (OPM021 - REALISTIC)\n",
    "\n",
    "Author: @claraburgard\n",
    "\n",
    "\"\"\""
   ]
  },
  {
   "cell_type": "code",
   "execution_count": null,
   "id": "c731f235-1948-4d8e-8bca-d6206005bcb4",
   "metadata": {},
   "outputs": [],
   "source": [
    "import numpy as np\n",
    "import xarray as xr\n",
    "from tqdm.notebook import trange, tqdm\n",
    "import glob\n",
    "import matplotlib as mpl\n",
    "import seaborn as sns\n",
    "import datetime\n",
    "import time\n",
    "import os,sys\n",
    "\n",
    "import tensorflow as tf\n",
    "from tensorflow import keras\n",
    "from contextlib import redirect_stdout\n",
    "\n",
    "import nn_functions.data_formatting as dfmt\n",
    "import nn_functions.postprocessing_functions as pp\n",
    "from multimelt.constants import *"
   ]
  },
  {
   "cell_type": "markdown",
   "id": "8e9625ca-6f3d-4c7b-ad41-625d54472bcf",
   "metadata": {},
   "source": [
    "DEFINE OPTIONS"
   ]
  },
  {
   "cell_type": "code",
   "execution_count": null,
   "id": "200ce0dc-b22d-4f8f-b178-3b74e9dd35fa",
   "metadata": {},
   "outputs": [],
   "source": [
    "mod_size =  'xsmall96' #'mini', 'small', 'medium', 'large', 'extra_large'\n",
    "TS_opt = 'extrap' # extrap, whole, thermocline\n",
    "norm_method =  'std' # std, interquart, minmax\n",
    "exp_name = 'newbasic2' #'onlyTSdraftandslope' #'onlyTSdraftandslope' #'TSdraftbotandiceddandwcd' #'onlyTSisfdraft' #'TSdraftbotandiceddandwcdreldGL' #TSdraftslopereldGL"
   ]
  },
  {
   "cell_type": "code",
   "execution_count": null,
   "id": "21da86c9-9c12-48b6-9668-b285afa3f3fc",
   "metadata": {},
   "outputs": [],
   "source": [
    "tblock_dim = range(1,14)\n",
    "isf_dim = [10,11,12,13,18,22,23,24,25,30,31,33,38,39,40,42,43,44,45,47,48,51,52,53,54,55,58,61,65,66,69,70,71,73,75]"
   ]
  },
  {
   "cell_type": "markdown",
   "id": "54666cc3-7f68-4d51-bc27-1bf2acc53e52",
   "metadata": {},
   "source": [
    "READ IN DATA"
   ]
  },
  {
   "cell_type": "code",
   "execution_count": null,
   "id": "ecad98a6-8d8a-4ae9-a160-d3c800d4ab2f",
   "metadata": {},
   "outputs": [],
   "source": [
    "inputpath_data_nn = '/bettik/burgardc/DATA/NN_PARAM/interim/INPUT_DATA/'\n"
   ]
  },
  {
   "cell_type": "code",
   "execution_count": null,
   "id": "773b2ac3-134f-49bf-a409-fe1ad93be78c",
   "metadata": {},
   "outputs": [],
   "source": [
    "if TS_opt == 'extrap':\n",
    "    inputpath_CVinput = inputpath_data_nn+'EXTRAPOLATED_ISFDRAFT_CHUNKS_CV/'\n",
    "    path_orig_data = inputpath_data_nn+'EXTRAPOLATED_ISFDRAFT_CHUNKS/'\n",
    "elif TS_opt == 'whole':\n",
    "    inputpath_CVinput = inputpath_data_nn+'WHOLE_PROF_CHUNKS_CV/'\n",
    "    path_orig_data = inputpath_data_nn+'WHOLE_PROF_CHUNKS/'\n",
    "elif TS_opt == 'thermocline':\n",
    "    inputpath_CVinput = inputpath_data_nn+'THERMOCLINE_CHUNKS_CV/'"
   ]
  },
  {
   "cell_type": "markdown",
   "id": "d18341ff-f9ff-4989-bb6a-88d03f6c0b8f",
   "metadata": {},
   "source": [
    "APPLY MODEL"
   ]
  },
  {
   "cell_type": "code",
   "execution_count": null,
   "id": "a81faaad-7b19-44c8-b661-10c1f60cb600",
   "metadata": {},
   "outputs": [],
   "source": [
    "input_list = ['dGL','dIF','corrected_isfdraft','bathy_metry','slope_bed_lon','slope_bed_lat','slope_ice_lon','slope_ice_lat','theta_in','salinity_in',\n",
    "                  'T_mean', 'S_mean', 'T_std', 'S_std']"
   ]
  },
  {
   "cell_type": "markdown",
   "id": "43f45b5c-cfde-4f44-9d48-4780a5797e5c",
   "metadata": {},
   "source": [
    "CV over time"
   ]
  },
  {
   "cell_type": "code",
   "execution_count": null,
   "id": "767fa8fc-2451-4e6a-a45e-2ec182fda744",
   "metadata": {},
   "outputs": [],
   "source": [
    "outputpath_melt_nn = '/bettik/burgardc/DATA/NN_PARAM/processed/MELT_RATE/CV_TBLOCKS/'\n",
    "\n",
    "res_all_list = []\n",
    "nemo_run_old = 'OPM021'\n",
    "#for tblock_out in tqdm(tblock_dim):\n",
    "#for tblock_out in tqdm([1,2]):\n",
    "for tblock_out in tqdm([11,12,13]):\n",
    "\n",
    "    isf_out = 0\n",
    "\n",
    "    nemo_run = pp.identify_nemo_run_from_tblock(tblock_out)\n",
    "\n",
    "    if (nemo_run_old != nemo_run):\n",
    "        print('I AM SAVING RESULTS FOR NEMO RUN '+nemo_run_old)\n",
    "        res_all_CV = xr.concat(res_all_list, dim='time')\n",
    "        res_all_CV.to_netcdf(outputpath_melt_nn + 'evalmetrics_2D_CV_'+mod_size+'_'+exp_name+'_'+TS_opt+'_norm'+norm_method+'_'+nemo_run_old+'.nc')\n",
    "        res_all_list = []\n",
    "    \n",
    "    nemo_run_old = nemo_run\n",
    "        \n",
    "    res_all = pp.compute_crossval_metric_2D_for_1CV(tblock_out,isf_out,tblock_dim,isf_dim,inputpath_CVinput,path_orig_data,norm_method,TS_opt,mod_size+'_'+exp_name,'experiments/',input_vars=input_list,verbose=False)\n",
    "    res_all_list.append(res_all)\n",
    "    \n",
    "    if (tblock_out == max(tblock_dim)):\n",
    "        print('I AM SAVING RESULTS FOR NEMO RUN '+nemo_run_old)\n",
    "        res_all_CV = xr.concat(res_all_list, dim='time')\n",
    "        res_all_CV.to_netcdf(outputpath_melt_nn + 'evalmetrics_2D_CV_'+mod_size+'_'+exp_name+'_'+TS_opt+'_norm'+norm_method+'_'+nemo_run_old+'.nc')"
   ]
  },
  {
   "cell_type": "markdown",
   "id": "ca732faf-26ba-4993-89c4-d16d692ef6b7",
   "metadata": {},
   "source": [
    "CV over shelves"
   ]
  },
  {
   "cell_type": "code",
   "execution_count": null,
   "id": "9cafa7bf-e20c-4984-b557-773974fd7c78",
   "metadata": {},
   "outputs": [],
   "source": [
    "outputpath_melt_nn = '/bettik/burgardc/DATA/NN_PARAM/processed/MELT_RATE/CV_ISF/'\n",
    "\n",
    "t_list = []\n",
    "res_all_list = None\n",
    "#nemo_run_old = 'OPM006'\n",
    "nemo_run_old = 'OPM021'\n",
    "\n",
    "#for tt in tblock_dim:\n",
    "for tt in [11,12,13]:\n",
    "    nemo_run = pp.identify_nemo_run_from_tblock(tt)\n",
    "    print(nemo_run)\n",
    "    \n",
    "    if (nemo_run_old != nemo_run):\n",
    "        print(t_list)\n",
    "        \n",
    "        for isf_out in tqdm(isf_dim):\n",
    "        #for isf_out in tqdm([44,66]):\n",
    "            \n",
    "            tblock_out = 0\n",
    "        \n",
    "            res_all = pp.compute_crossval_metric_2D_for_1CV(tblock_out,isf_out,t_list,isf_dim,inputpath_CVinput,path_orig_data,norm_method,TS_opt,mod_size+'_'+exp_name,'experiments/',input_vars=input_list,verbose=False)\n",
    "            if res_all_list is None:\n",
    "                res_all_list = res_all\n",
    "            else:\n",
    "                res_all_list = res_all_list.combine_first(res_all)\n",
    "            \n",
    "        res_all_CV = res_all_list\n",
    "        print('I AM SAVING RESULTS FOR NEMO RUN '+nemo_run_old)\n",
    "        res_all_CV.to_netcdf(outputpath_melt_nn + 'evalmetrics_2D_CV_'+mod_size+'_'+exp_name+'_'+TS_opt+'_norm'+norm_method+'_'+nemo_run_old+'.nc')\n",
    "        res_all_list = None\n",
    "        \n",
    "        t_list = []\n",
    "        \n",
    "    t_list.append(tt)\n",
    "    nemo_run_old = nemo_run\n",
    "    \n",
    "    if (tt == max(tblock_dim)):\n",
    "        print(t_list)\n",
    "        \n",
    "        for isf_out in tqdm(isf_dim):\n",
    "            \n",
    "            tblock_out = 0\n",
    "        \n",
    "            res_all = pp.compute_crossval_metric_2D_for_1CV(tblock_out,isf_out,t_list,isf_dim,inputpath_CVinput,path_orig_data,norm_method,TS_opt,mod_size+'_'+exp_name,'experiments/',input_vars=input_list,verbose=False)\n",
    "            if res_all_list is None:\n",
    "                res_all_list = res_all\n",
    "            else:\n",
    "                res_all_list = res_all_list.combine_first(res_all)\n",
    "            \n",
    "        res_all_CV = res_all_list\n",
    "        print('I AM SAVING RESULTS FOR NEMO RUN '+nemo_run_old)\n",
    "        res_all_CV.to_netcdf(outputpath_melt_nn + 'evalmetrics_2D_CV_'+mod_size+'_'+exp_name+'_'+TS_opt+'_norm'+norm_method+'_'+nemo_run_old+'.nc')\n",
    "\n",
    "            "
   ]
  }
 ],
 "metadata": {
  "kernelspec": {
   "display_name": "neuralnet",
   "language": "python",
   "name": "neuralnet"
  },
  "language_info": {
   "codemirror_mode": {
    "name": "ipython",
    "version": 3
   },
   "file_extension": ".py",
   "mimetype": "text/x-python",
   "name": "python",
   "nbconvert_exporter": "python",
   "pygments_lexer": "ipython3",
   "version": "3.9.16"
  }
 },
 "nbformat": 4,
 "nbformat_minor": 5
}
