{
 "cells": [
  {
   "cell_type": "code",
   "execution_count": null,
   "id": "39f5dfe2-7fa8-458b-a30c-e0a11be8d55f",
   "metadata": {},
   "outputs": [],
   "source": [
    "\"\"\"\n",
    "Created on Tue Mar 28 10:26 2023\n",
    "\n",
    "Compute 1D evalmetrics from \n",
    "Author: @claraburgard\n",
    "\n",
    "\"\"\""
   ]
  },
  {
   "cell_type": "code",
   "execution_count": null,
   "id": "c731f235-1948-4d8e-8bca-d6206005bcb4",
   "metadata": {},
   "outputs": [],
   "source": [
    "import numpy as np\n",
    "import xarray as xr\n",
    "from tqdm.notebook import trange, tqdm\n",
    "import glob\n",
    "import matplotlib as mpl\n",
    "import seaborn as sns\n",
    "import datetime\n",
    "import time\n",
    "import os,sys\n",
    "\n",
    "import tensorflow as tf\n",
    "from tensorflow import keras\n",
    "from contextlib import redirect_stdout\n",
    "\n",
    "from basal_melt_neural_networks.constants import *\n",
    "import basal_melt_neural_networks.diagnostic_functions as diag\n",
    "import basal_melt_neural_networks.data_formatting as dfmt\n",
    "import basal_melt_neural_networks.postprocessing_functions as pp\n",
    "from basal_melt_param.constants import *"
   ]
  },
  {
   "cell_type": "markdown",
   "id": "8e9625ca-6f3d-4c7b-ad41-625d54472bcf",
   "metadata": {},
   "source": [
    "DEFINE OPTIONS"
   ]
  },
  {
   "cell_type": "code",
   "execution_count": null,
   "id": "200ce0dc-b22d-4f8f-b178-3b74e9dd35fa",
   "metadata": {},
   "outputs": [],
   "source": [
    "mod_size =  'small' #'mini', 'small', 'medium', 'large', 'extra_large'\n",
    "TS_opt = 'extrap' # extrap, whole, thermocline\n",
    "norm_method =  'std' # std, interquart, minmax\n",
    "exp_name = 'newbasic2'#'allbutconstants' #'onlyTSdraftandslope' #'TSdraftbotandiceddandwcd' #'onlyTSisfdraft' #'TSdraftbotandiceddandwcdreldGL' #TSdraftslopereldGL"
   ]
  },
  {
   "cell_type": "code",
   "execution_count": null,
   "id": "ec315ea7-59f6-41fa-adc2-5f2af24d6ce6",
   "metadata": {},
   "outputs": [],
   "source": [
    "nemo_run = 'bf663'#'bi646' #bf663"
   ]
  },
  {
   "cell_type": "code",
   "execution_count": null,
   "id": "21da86c9-9c12-48b6-9668-b285afa3f3fc",
   "metadata": {},
   "outputs": [],
   "source": [
    "tblock_dim = range(1980, 1980 + 60)"
   ]
  },
  {
   "cell_type": "markdown",
   "id": "54666cc3-7f68-4d51-bc27-1bf2acc53e52",
   "metadata": {},
   "source": [
    "READ IN DATA"
   ]
  },
  {
   "cell_type": "code",
   "execution_count": null,
   "id": "ecad98a6-8d8a-4ae9-a160-d3c800d4ab2f",
   "metadata": {},
   "outputs": [],
   "source": [
    "inputpath_data_nn = '/bettik/burgardc/DATA/NN_PARAM/interim/INPUT_DATA/'"
   ]
  },
  {
   "cell_type": "code",
   "execution_count": null,
   "id": "773b2ac3-134f-49bf-a409-fe1ad93be78c",
   "metadata": {},
   "outputs": [],
   "source": [
    "if TS_opt == 'extrap':\n",
    "    inputpath_CVinput = inputpath_data_nn+'EXTRAPOLATED_ISFDRAFT_CHUNKS/'\n",
    "    inputpath_csv = inputpath_data_nn+'SMITH_'+nemo_run+'_EXTRAPDRAFT_CHUNKS/'\n",
    "elif TS_opt == 'whole':\n",
    "    inputpath_CVinput = inputpath_data_nn+'WHOLE_PROF_CHUNKS_CV/'\n",
    "    path_orig_data = inputpath_data_nn+'WHOLE_PROF_CHUNKS/'\n",
    "elif TS_opt == 'thermocline':\n",
    "    inputpath_CVinput = inputpath_data_nn+'THERMOCLINE_CHUNKS_CV/'"
   ]
  },
  {
   "cell_type": "markdown",
   "id": "d18341ff-f9ff-4989-bb6a-88d03f6c0b8f",
   "metadata": {},
   "source": [
    "APPLY MODEL"
   ]
  },
  {
   "cell_type": "code",
   "execution_count": null,
   "id": "a81faaad-7b19-44c8-b661-10c1f60cb600",
   "metadata": {},
   "outputs": [],
   "source": [
    "#input_vars = ['dGL','dIF','corrected_isfdraft','bathy_metry','slope_bed_lon','slope_bed_lat','slope_ice_lon','slope_ice_lat','isfdraft_conc','theta_in','salinity_in','u_tide']\n",
    "if exp_name == 'onlyTSdraft':\n",
    "    input_vars = ['corrected_isfdraft','theta_in','salinity_in']\n",
    "elif exp_name == 'TSdraftbotandiceddandwcd':\n",
    "    input_vars = ['corrected_isfdraft','theta_in','salinity_in','water_col_depth','theta_bot','salinity_bot']\n",
    "elif exp_name == 'TSdraftbotandiceddandwcdreldGL':\n",
    "    input_vars = ['corrected_isfdraft','theta_in','salinity_in','water_col_depth','theta_bot','salinity_bot','rel_dGL']\n",
    "elif exp_name == 'onlyTSdraftandslope':\n",
    "    input_vars = ['corrected_isfdraft','theta_in','salinity_in','slope_ice_lon','slope_ice_lat']\n",
    "elif exp_name == 'onlyTSdraft2':\n",
    "    input_vars = ['corrected_isfdraft','theta_in','salinity_in']\n",
    "elif exp_name == 'TSTfdGLdIFwcd':\n",
    "    input_vars = ['corrected_isfdraft','theta_in','salinity_in','dGL','dIF','slope_ice_lon','slope_ice_lat','water_col_depth']\n",
    "elif exp_name == 'TSdraftslopereldGL':\n",
    "    input_vars = ['corrected_isfdraft','theta_in','salinity_in','slope_ice_lon','slope_ice_lat','rel_dGL']\n",
    "elif exp_name == 'allbutconstants':\n",
    "    input_vars = ['dGL','dIF','corrected_isfdraft','bathy_metry','slope_bed_lon','slope_bed_lat','slope_ice_lon','slope_ice_lat',\n",
    "                'isfdraft_conc','theta_in','salinity_in','u_tide']\n",
    "elif exp_name == 'newbasic':\n",
    "    input_vars = ['dGL','dIF','corrected_isfdraft','bathy_metry','slope_bed_lon','slope_bed_lat','slope_ice_lon','slope_ice_lat',\n",
    "                'theta_in','salinity_in']"
   ]
  },
  {
   "cell_type": "code",
   "execution_count": null,
   "id": "5ced7dcd-d64f-42c8-8c1d-d03af46a1f85",
   "metadata": {},
   "outputs": [],
   "source": [
    "map_lim = [-3000000,3000000]\n",
    "inputpath_data='/bettik/burgardc/DATA/NN_PARAM/interim/SMITH_'+nemo_run+'/'\n",
    "file_other = xr.open_dataset(inputpath_data+'corrected_draft_bathy_isf.nc')#, chunks={'x': chunk_size, 'y': chunk_size})\n",
    "file_other_cut = dfmt.cut_domain_stereo(file_other, map_lim, map_lim)\n",
    "file_conc = xr.open_dataset(inputpath_data+'isfdraft_conc_Ant_stereo.nc')\n",
    "file_conc_cut = dfmt.cut_domain_stereo(file_conc, map_lim, map_lim)\n"
   ]
  },
  {
   "cell_type": "code",
   "execution_count": null,
   "id": "149b3847-f26c-44a0-ae92-86eac5a0f5b3",
   "metadata": {},
   "outputs": [],
   "source": [
    "def read_input_evalmetrics_NN_yy(nemo_run, tt, file_conc, file_other):\n",
    "    inputpath_boxes = '/bettik/burgardc/DATA/NN_PARAM/interim/BOXES/SMITH_'+nemo_run+'/'\n",
    "    inputpath_data='/bettik/burgardc/DATA/NN_PARAM/interim/SMITH_'+nemo_run+'/'\n",
    "    inputpath_mask='/bettik/burgardc/DATA/NN_PARAM/interim/ANTARCTICA_IS_MASKS/SMITH_'+nemo_run+'/'\n",
    "    \n",
    "    file_isf_orig = xr.open_dataset(inputpath_mask+'nemo_5km_isf_masks_and_info_and_distance_oneFRIS_'+str(tt)+'.nc').drop('time')\n",
    "    #file_isf = file_isf_orig.sel(Nisf=isf_list)\n",
    "    nonnan_Nisf = file_isf_orig['Nisf'].where(np.isfinite(file_isf_orig['front_bot_depth_max']), drop=True).astype(int)\n",
    "    file_isf_nonnan = file_isf_orig.sel(Nisf=nonnan_Nisf)\n",
    "    large_isf = file_isf_nonnan['Nisf'].where(file_isf_nonnan['isf_area_here'] >= 2500, drop=True)\n",
    "    file_isf = file_isf_nonnan.sel(Nisf=large_isf)\n",
    "    if 'labels' in file_isf.coords.keys():\n",
    "        file_isf = file_isf.drop('labels')\n",
    "    \n",
    "    file_other_cut = file_other.sel(time=tt)\n",
    "    file_conc_cut = file_conc.sel(time=tt)\n",
    "\n",
    "    ice_draft_pos = file_other_cut['corrected_isfdraft']\n",
    "    \n",
    "    box_charac_2D = xr.open_dataset(inputpath_boxes + 'nemo_5km_boxes_2D_oneFRIS_'+str(tt)+'_merged75.nc')\n",
    "    box_charac_1D = xr.open_dataset(inputpath_boxes + 'nemo_5km_boxes_1D_oneFRIS_'+str(tt)+'_merged75.nc')\n",
    "    \n",
    "    isf_stack_mask = dfmt.create_stacked_mask(file_isf['ISF_mask'], file_isf.Nisf, ['y','x'], 'mask_coord')\n",
    "\n",
    "    file_isf_conc = file_conc_cut['isfdraft_conc']\n",
    "\n",
    "    xx = file_isf.x\n",
    "    yy = file_isf.y\n",
    "    dx = (xx[2] - xx[1]).values\n",
    "    dy = (yy[2] - yy[1]).values\n",
    "    grid_cell_area = abs(dx*dy)  \n",
    "    grid_cell_area_weighted = file_isf_conc * grid_cell_area\n",
    "    \n",
    "    geometry_info_2D = xr.merge([ice_draft_pos.rename('ice_draft_pos'),\n",
    "                            grid_cell_area_weighted.rename('grid_cell_area_weighted'),\n",
    "                            file_isf_conc])\n",
    "    \n",
    "    return file_isf, geometry_info_2D, box_charac_2D, box_charac_1D, isf_stack_mask"
   ]
  },
  {
   "cell_type": "code",
   "execution_count": null,
   "id": "fb9f7432-1f60-418b-9ff4-ce64dd2f1a65",
   "metadata": {},
   "outputs": [],
   "source": [
    "input_vars"
   ]
  },
  {
   "cell_type": "code",
   "execution_count": null,
   "id": "6824e89b-2d2e-4712-94fe-af28ecd08288",
   "metadata": {},
   "outputs": [],
   "source": [
    "melt2D"
   ]
  },
  {
   "cell_type": "code",
   "execution_count": null,
   "id": "664ca661-c61a-473f-9f49-c8db25c52d64",
   "metadata": {},
   "outputs": [],
   "source": [
    "outputpath_melt_nn = '/bettik/burgardc/DATA/NN_PARAM/processed/MELT_RATE/SMITH_'+nemo_run+'/'\n",
    "path_model = '/bettik/burgardc/DATA/NN_PARAM/interim/NN_MODELS/experiments/WHOLE/'\n",
    "\n",
    "res_1D_allyy_list = []\n",
    "#for tt in tqdm(tblock_dim):\n",
    "for tt in tqdm(range(2004,1980 + 60)): # \n",
    "    \n",
    "    file_isf, geometry_info_2D, box_charac_2D, box_charac_1D, isf_stack_mask = pp.read_input_evalmetrics_NN_yy(nemo_run, tt, file_conc_cut, file_other_cut)\n",
    "    melt2D = xr.open_dataset(outputpath_melt_nn + 'evalmetrics_2D_'+mod_size+'_'+exp_name+'_ensmean_'+TS_opt+'_norm'+norm_method+'_'+str(tt)+'_'+nemo_run+'.nc')\n",
    "\n",
    "    res_1D_list = []\n",
    "    for kisf in file_isf.Nisf.values:  \n",
    "        \n",
    "        if box_charac_2D and box_charac_1D:\n",
    "            box_loc_config2 = box_charac_2D['box_location'].sel(box_nb_tot=box_charac_1D['nD_config'].sel(config=2))\n",
    "            box1 = box_loc_config2.where(box_loc_config2==1).isel(Nisf=1).drop('Nisf')\n",
    "\n",
    "        geometry_isf_2D = dfmt.choose_isf(geometry_info_2D,isf_stack_mask, kisf)\n",
    "        melt_rate_2D_isf_m_per_y = dfmt.choose_isf(melt2D,isf_stack_mask, kisf)\n",
    "\n",
    "        melt_rate_1D_isf_Gt_per_y = (melt_rate_2D_isf_m_per_y * geometry_isf_2D['grid_cell_area_weighted']).sum(dim=['mask_coord']) * rho_i / 10**12\n",
    "\n",
    "        box_loc_config_stacked = dfmt.choose_isf(box1, isf_stack_mask, kisf)\n",
    "        param_melt_2D_box1_isf = melt_rate_2D_isf_m_per_y.where(np.isfinite(box_loc_config_stacked))\n",
    "\n",
    "        melt_rate_1D_isf_myr_box1_mean = dfmt.weighted_mean(param_melt_2D_box1_isf,['mask_coord'], geometry_isf_2D['isfdraft_conc'])     \n",
    "\n",
    "        out_1D = xr.concat([melt_rate_1D_isf_Gt_per_y, melt_rate_1D_isf_myr_box1_mean], dim='metrics').assign_coords({'metrics': ['Gt','box1']})\n",
    "\n",
    "        res_1D_list.append(out_1D)\n",
    "\n",
    "    res_1D_all = xr.concat(res_1D_list, dim='Nisf')\n",
    "    res_1D_all.to_netcdf(outputpath_melt_nn + 'evalmetrics_1D_'+mod_size+'_'+exp_name+'_ensmean_'+TS_opt+'_norm'+norm_method+'_'+str(tt)+'_'+nemo_run+'.nc')\n",
    "    #res_1D_allyy_list.append(res_1D_all)\n",
    "\n",
    "#res_1D_allyy = xr.concat(res_1D_allyy_list, dim='time', coords='minimal')\n",
    "#res_1D_allyy.to_netcdf(outputpath_melt_nn + 'evalmetrics_1D_'+mod_size+'_'+exp_name+'_ensmean_'+TS_opt+'_norm'+norm_method+'_allyy_'+nemo_run+'.nc')"
   ]
  },
  {
   "cell_type": "markdown",
   "id": "6192f259-88a9-4076-a6a8-5429ac2c1022",
   "metadata": {},
   "source": [
    "FOR EACH ENSEMBLE MEMBER SEPARATELY"
   ]
  },
  {
   "cell_type": "code",
   "execution_count": null,
   "id": "ad7ee943-0daf-4853-99a3-679d5cad9ecf",
   "metadata": {},
   "outputs": [],
   "source": [
    "outputpath_melt_nn = '/bettik/burgardc/DATA/NN_PARAM/processed/MELT_RATE/SMITH_'+nemo_run+'/'\n",
    "path_model = '/bettik/burgardc/DATA/NN_PARAM/interim/NN_MODELS/experiments/WHOLE/'\n",
    "\n",
    "res_1D_allyy_list = []\n",
    "for tt in tqdm(tblock_dim):\n",
    "#for tt in tqdm(range(2004,1980 + 60)): # \n",
    "    \n",
    "    file_isf, geometry_info_2D, box_charac_2D, box_charac_1D, isf_stack_mask = pp.read_input_evalmetrics_NN_yy(nemo_run, tt, file_conc_cut, file_other_cut)\n",
    "    melt2D = xr.open_dataset(outputpath_melt_nn + 'evalmetrics_2D_'+mod_size+'_'+exp_name+'_ensmean_'+TS_opt+'_norm'+norm_method+'_'+str(tt)+'_'+nemo_run+'.nc')\n",
    "\n",
    "    res_1D_list = []\n",
    "    for kisf in file_isf.Nisf.values:  \n",
    "        \n",
    "        if box_charac_2D and box_charac_1D:\n",
    "            box_loc_config2 = box_charac_2D['box_location'].sel(box_nb_tot=box_charac_1D['nD_config'].sel(config=2))\n",
    "            box1 = box_loc_config2.where(box_loc_config2==1).isel(Nisf=1).drop('Nisf')\n",
    "\n",
    "        geometry_isf_2D = dfmt.choose_isf(geometry_info_2D,isf_stack_mask, kisf)\n",
    "        melt_rate_2D_isf_m_per_y = dfmt.choose_isf(melt2D,isf_stack_mask, kisf)\n",
    "\n",
    "        melt_rate_1D_isf_Gt_per_y = (melt_rate_2D_isf_m_per_y * geometry_isf_2D['grid_cell_area_weighted']).sum(dim=['mask_coord']) * rho_i / 10**12\n",
    "\n",
    "        box_loc_config_stacked = dfmt.choose_isf(box1, isf_stack_mask, kisf)\n",
    "        param_melt_2D_box1_isf = melt_rate_2D_isf_m_per_y.where(np.isfinite(box_loc_config_stacked))\n",
    "\n",
    "        melt_rate_1D_isf_myr_box1_mean = dfmt.weighted_mean(param_melt_2D_box1_isf,['mask_coord'], geometry_isf_2D['isfdraft_conc'])     \n",
    "\n",
    "        out_1D = xr.concat([melt_rate_1D_isf_Gt_per_y, melt_rate_1D_isf_myr_box1_mean], dim='metrics').assign_coords({'metrics': ['Gt','box1']})\n",
    "\n",
    "        res_1D_list.append(out_1D)\n",
    "\n",
    "    res_1D_all = xr.concat(res_1D_list, dim='Nisf')\n",
    "    res_1D_all.to_netcdf(outputpath_melt_nn + 'evalmetrics_1D_'+mod_size+'_'+exp_name+'_ensmean_'+TS_opt+'_norm'+norm_method+'_'+str(tt)+'_'+nemo_run+'.nc')\n",
    "    #res_1D_allyy_list.append(res_1D_all)\n",
    "\n",
    "#res_1D_allyy = xr.concat(res_1D_allyy_list, dim='time', coords='minimal')\n",
    "#res_1D_allyy.to_netcdf(outputpath_melt_nn + 'evalmetrics_1D_'+mod_size+'_'+exp_name+'_ensmean_'+TS_opt+'_norm'+norm_method+'_allyy_'+nemo_run+'.nc')"
   ]
  },
  {
   "cell_type": "code",
   "execution_count": null,
   "id": "9324804e-b351-4da5-9bfd-9b38b99aeabe",
   "metadata": {},
   "outputs": [],
   "source": [
    "outputpath_melt_nn = '/bettik/burgardc/DATA/NN_PARAM/processed/MELT_RATE/SMITH_'+nemo_run+'/'\n",
    "res_1D_all_list = []\n",
    "for yy in range(1980, 1980 + 60):\n",
    "    res_1D_yy = xr.open_dataset(outputpath_melt_nn + 'evalmetrics_1D_'+mod_size+'_'+exp_name+'_ensmean_'+TS_opt+'_norm'+norm_method+'_'+str(yy)+'_'+nemo_run+'.nc')\n",
    "    res_1D_all_list.append(res_1D_yy.assign_coords({'time': yy}))\n",
    "res_1D_all_xr = xr.concat(res_1D_all_list, dim='time')"
   ]
  },
  {
   "cell_type": "code",
   "execution_count": null,
   "id": "c5b177ce-965e-41b3-8cad-08633c803b73",
   "metadata": {},
   "outputs": [],
   "source": [
    "res_1D_all_xr['predicted_melt'].sel(Nisf=44, metrics='Gt').plot()\n",
    "res_1D_all_xr['reference_melt'].sel(Nisf=44, metrics='Gt').plot()"
   ]
  },
  {
   "cell_type": "code",
   "execution_count": null,
   "id": "c2619bd6-2ed0-47a3-a816-f83e647d409b",
   "metadata": {},
   "outputs": [],
   "source": [
    "(melt2D['predicted_melt'] - melt2D['reference_melt']).plot(vmin=-15,vmax=15, cmap=mpl.cm.coolwarm)"
   ]
  },
  {
   "cell_type": "code",
   "execution_count": null,
   "id": "e72dc121-b5fc-429a-b446-26a65f831988",
   "metadata": {},
   "outputs": [],
   "source": [
    "melt2D['predicted_melt'].where(file_isf['ISF_mask'] == 66, drop=True).sum()"
   ]
  },
  {
   "cell_type": "code",
   "execution_count": null,
   "id": "2c6306ed-055b-4345-8420-6b9e053898b6",
   "metadata": {},
   "outputs": [],
   "source": [
    "melt2D['reference_melt'].where(file_isf['ISF_mask'] == 66, drop=True).sum()"
   ]
  },
  {
   "cell_type": "code",
   "execution_count": null,
   "id": "2ad18863-590f-4490-b640-751ed615b5d5",
   "metadata": {},
   "outputs": [],
   "source": [
    "outputpath_melt = '/bettik/burgardc/DATA/NN_PARAM/interim/SMITH_'+nemo_run+'/'\n",
    "nemo_1D = xr.open_dataset(outputpath_melt+'melt_rates_1D_NEMO_oneFRIS_'+str(tt)+'.nc')"
   ]
  },
  {
   "cell_type": "code",
   "execution_count": null,
   "id": "b5e936f8-3b45-4d04-b910-6f83f5a9c6bf",
   "metadata": {},
   "outputs": [],
   "source": [
    "nemo_1D['melt_Gt_per_y_tot'].sel(Nisf=66).load()"
   ]
  },
  {
   "cell_type": "code",
   "execution_count": null,
   "id": "b4f322bd-0157-4be5-81af-f8f2c5865329",
   "metadata": {},
   "outputs": [],
   "source": [
    "res_1D_allyy['reference_melt'].sel(metrics='Gt',Nisf=66)"
   ]
  },
  {
   "cell_type": "code",
   "execution_count": null,
   "id": "586f5856-3cc1-42ac-90cd-002b2c54076d",
   "metadata": {},
   "outputs": [],
   "source": [
    "res_1D_allyy['reference_melt'].sel(metrics='Gt',Nisf=23).plot()\n",
    "res_1D_allyy['predicted_melt'].sel(metrics='Gt',Nisf=23).plot()"
   ]
  },
  {
   "cell_type": "code",
   "execution_count": null,
   "id": "d56966c8-3522-4f58-bded-59dd80924118",
   "metadata": {},
   "outputs": [],
   "source": [
    "res_1D_allyy['predicted_melt'].sel(metrics='Gt',Nisf=66)"
   ]
  },
  {
   "cell_type": "code",
   "execution_count": null,
   "id": "aa095390-6139-443a-9507-24cf3ff311e7",
   "metadata": {},
   "outputs": [],
   "source": [
    "box_charac_1D['nD_config'].sel(config=2).values"
   ]
  },
  {
   "cell_type": "code",
   "execution_count": null,
   "id": "92f86c5a-57d1-40f6-bc06-c681ba64998b",
   "metadata": {},
   "outputs": [],
   "source": [
    "box_charac_2D['box_location'].sel(box_nb_tot=box_charac_1D['nD_config'].sel(config=2))"
   ]
  },
  {
   "cell_type": "code",
   "execution_count": null,
   "id": "45c7a1eb-e18f-4803-8b25-25668f9ad8a9",
   "metadata": {},
   "outputs": [],
   "source": [
    "#### CV over time\n",
    "outputpath_melt_nn = '/bettik/burgardc/DATA/NN_PARAM/processed/MELT_RATE/SMITH_'+nemo_run+'/'\n",
    "path_model = '/bettik/burgardc/DATA/NN_PARAM/interim/NN_MODELS/experiments/WHOLE/'\n",
    "\n",
    "res_1D_allyy_list = []\n",
    "for tt in tqdm(tblock_dim):\n",
    "    isf_out = 0\n",
    "    tblock_out = 5\n",
    "    \n",
    "    file_isf, geometry_info_2D, box_charac_2D, box_charac_1D, isf_stack_mask = read_input_evalmetrics_NN_yy(nemo_run, tt)\n",
    "    \n",
    "    res_1D_list = []\n",
    "    for kisf in file_isf.Nisf.values:  \n",
    "    #for kisf in [66]:  \n",
    "\n",
    "\n",
    "        norm_metrics_file = xr.open_dataset(inputpath_CVinput + 'metrics_norm_wholedataset.nc')\n",
    "        #norm_metrics_file_addvar1 = xr.open_dataset(inputpath_CVinput + 'metrics_norm_addvar1_CV_noisf'+str(isf_out).zfill(3)+'_notblock'+str(tblock_out).zfill(3)+'.nc')\n",
    "        #norm_metrics_file_addvar1 = norm_metrics_file_addvar1.drop('salinity_in')\n",
    "        #norm_metrics_file = xr.merge([norm_metrics_file_orig,norm_metrics_file_addvar1])\n",
    "        norm_metrics = norm_metrics_file.sel(norm_method=norm_method).drop('norm_method').to_dataframe()\n",
    "\n",
    "        df_nrun = pd.read_csv(inputpath_csv + 'dataframe_input_isf'+str(kisf).zfill(3)+'_'+str(tt)+'_'+nemo_run+'.csv',index_col=[0,1])\n",
    "        #df_nrun_addvar1 = pd.read_csv(path_orig_data + 'dataframe_addvar1_isf'+str(kisf).zfill(3)+'_'+str(tblock_out).zfill(3)+'.csv',index_col=[0,1,2])\n",
    "        #df_nrun_addvar1 = df_nrun_addvar1.drop(['salinity_in'], axis=1)\n",
    "        #df_nrun = pd.concat([df_nrun_orig,df_nrun_addvar1],join = 'outer', axis = 1)\n",
    "\n",
    "        model = keras.models.load_model(path_model + 'model_nn_'+mod_size+'_'+exp_name+'_wholedataset_TS'+TS_opt+'_norm'+norm_method+'.h5')\n",
    "\n",
    "        res_1D = pp.evalmetrics_1D_NN(kisf, norm_metrics, df_nrun, model, file_isf, geometry_info_2D, box_charac_2D, box_charac_1D, isf_stack_mask, input_vars)    \n",
    "        res_1D_list.append(res_1D)\n",
    "\n",
    "    res_1D_all = xr.concat(res_1D_list, dim='Nisf')\n",
    "    res_1D_allyy_list.append(res_1D_all)\n",
    "\n",
    "res_1D_allyy = xr.concat(res_1D_allyy_list, dim='time', coords='minimal')\n",
    "#res_1D_allyy.to_netcdf(outputpath_melt_nn + 'evalmetrics_1D_'+mod_size+'_'+exp_name+'_'+TS_opt+'_norm'+norm_method+'_allyy_'+nemo_run+'.nc')\n",
    "  \n"
   ]
  },
  {
   "cell_type": "code",
   "execution_count": null,
   "id": "4bc7df5a-29e4-4bc0-9719-3b6db2faa92e",
   "metadata": {},
   "outputs": [],
   "source": []
  },
  {
   "cell_type": "code",
   "execution_count": null,
   "id": "435732d1-a089-47ee-8420-a922020ab5a9",
   "metadata": {},
   "outputs": [],
   "source": [
    "res_1D_allyy_list"
   ]
  },
  {
   "cell_type": "code",
   "execution_count": null,
   "id": "62cab6f1-469e-4ae5-a720-0a0b04cc2064",
   "metadata": {},
   "outputs": [],
   "source": [
    "res_1D_allyy.sel(Nisf=66)"
   ]
  },
  {
   "cell_type": "code",
   "execution_count": null,
   "id": "695f3ac4-3cc0-4628-9f4d-5db09cb43060",
   "metadata": {},
   "outputs": [],
   "source": [
    "res_1D_allyy['predicted_melt'].sel(Nisf=66, metrics='Gt').plot(label='predicted')\n",
    "res_1D_allyy['reference_melt'].sel(Nisf=66, metrics='Gt').plot()\n",
    "plt.legend()"
   ]
  },
  {
   "cell_type": "code",
   "execution_count": null,
   "id": "b063b0bb-ecf3-4908-b8e5-7fb0b1e7f441",
   "metadata": {},
   "outputs": [],
   "source": [
    "np.sqrt((((res_1D_allyy['predicted_melt'] - res_1D_allyy['reference_melt']).sel(metrics='Gt'))**2).mean())"
   ]
  },
  {
   "cell_type": "code",
   "execution_count": null,
   "id": "2a577ded-002b-40bf-b92f-4c291785158d",
   "metadata": {},
   "outputs": [],
   "source": []
  },
  {
   "cell_type": "code",
   "execution_count": null,
   "id": "4ff2e307-be2f-4920-b05f-9432fa40d70a",
   "metadata": {},
   "outputs": [],
   "source": [
    "y_all_isf['predicted_melt'].mean('time').plot()"
   ]
  },
  {
   "cell_type": "code",
   "execution_count": null,
   "id": "af7273cb-1ee3-48f6-b2a9-5eb102953f10",
   "metadata": {},
   "outputs": [],
   "source": [
    "res_2D_all = xr.open_dataset(outputpath_melt_nn + 'evalmetrics_2D_'+mod_size+'_'+exp_name+'_'+TS_opt+'_norm'+norm_method+'_'+str(tt)+'_'+nemo_run+'.nc')"
   ]
  },
  {
   "cell_type": "code",
   "execution_count": null,
   "id": "5a54613c-d820-4af9-a8ec-ba3678a91977",
   "metadata": {},
   "outputs": [],
   "source": [
    "(res_2D_all['predicted_melt'] - res_2D_all['reference_melt']).plot(vmax=10)"
   ]
  },
  {
   "cell_type": "code",
   "execution_count": null,
   "id": "569c3d63-596a-48ce-93be-026effb56505",
   "metadata": {},
   "outputs": [],
   "source": [
    "res_2D_all['predicted_melt'].where(file_isf['ISF_mask'] == 66, drop=True).plot()"
   ]
  },
  {
   "cell_type": "code",
   "execution_count": null,
   "id": "bcb8d995-1cfc-47d7-84cb-0e306337018d",
   "metadata": {},
   "outputs": [],
   "source": [
    "res_2D_all['reference_melt'].where(file_isf['ISF_mask'] == 66, drop=True).plot()"
   ]
  },
  {
   "cell_type": "code",
   "execution_count": null,
   "id": "b9472217-8634-4acb-aa25-1cf3e06978ff",
   "metadata": {},
   "outputs": [],
   "source": [
    "res_2D_all['reference_melt'].where(file_isf['ISF_mask'] == 66, drop=True).plot(vmax=1)"
   ]
  },
  {
   "cell_type": "code",
   "execution_count": null,
   "id": "878b9c8a-2ab4-4574-87c4-ffe9129e7adc",
   "metadata": {},
   "outputs": [],
   "source": []
  }
 ],
 "metadata": {
  "kernelspec": {
   "display_name": "neuralnet",
   "language": "python",
   "name": "neuralnet"
  },
  "language_info": {
   "codemirror_mode": {
    "name": "ipython",
    "version": 3
   },
   "file_extension": ".py",
   "mimetype": "text/x-python",
   "name": "python",
   "nbconvert_exporter": "python",
   "pygments_lexer": "ipython3",
   "version": "3.9.16"
  }
 },
 "nbformat": 4,
 "nbformat_minor": 5
}
